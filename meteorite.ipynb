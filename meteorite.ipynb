{
 "cells": [
  {
   "cell_type": "code",
   "execution_count": 58,
   "metadata": {},
   "outputs": [
    {
     "name": "stdout",
     "output_type": "stream",
     "text": [
      "175\n"
     ]
    },
    {
     "data": {
      "text/html": [
       "<div>\n",
       "<style scoped>\n",
       "    .dataframe tbody tr th:only-of-type {\n",
       "        vertical-align: middle;\n",
       "    }\n",
       "\n",
       "    .dataframe tbody tr th {\n",
       "        vertical-align: top;\n",
       "    }\n",
       "\n",
       "    .dataframe thead th {\n",
       "        text-align: right;\n",
       "    }\n",
       "</style>\n",
       "<table border=\"1\" class=\"dataframe\">\n",
       "  <thead>\n",
       "    <tr style=\"text-align: right;\">\n",
       "      <th></th>\n",
       "      <th>Prefix: (Registration Details)</th>\n",
       "      <th>Reg No: (Registration Details)</th>\n",
       "      <th>Suffix: (Registration Details)</th>\n",
       "      <th>Site: (Collection Details)/Site: (Object Data from time of Collecting Event)/Event/Site: (Object Data from time of Collecting Event)</th>\n",
       "      <th>Name: (Geological Details)</th>\n",
       "      <th>Geo. Details/ Synonym: (Geological Details)</th>\n",
       "      <th>Total Weight: (Specimen Details)</th>\n",
       "      <th>Type: (Geological Details)</th>\n",
       "      <th>Distribution</th>\n",
       "      <th>Acquisition Date: (Acquisition)</th>\n",
       "    </tr>\n",
       "  </thead>\n",
       "  <tbody>\n",
       "    <tr>\n",
       "      <th>134</th>\n",
       "      <td>MET</td>\n",
       "      <td>135</td>\n",
       "      <td>NaN</td>\n",
       "      <td>Australia, Western Australia, Kalgoorlie distr...</td>\n",
       "      <td>NaN</td>\n",
       "      <td>NaN</td>\n",
       "      <td>unknown</td>\n",
       "      <td>Stone. Chondrite</td>\n",
       "      <td>SAM: MET135A 58.8 g.</td>\n",
       "      <td>Apr 1945</td>\n",
       "    </tr>\n",
       "    <tr>\n",
       "      <th>146</th>\n",
       "      <td>MET</td>\n",
       "      <td>147</td>\n",
       "      <td>NaN</td>\n",
       "      <td>Australia, Western Australia, Nullarbor or Kal...</td>\n",
       "      <td>NaN</td>\n",
       "      <td>NaN</td>\n",
       "      <td>NaN</td>\n",
       "      <td>Iron.</td>\n",
       "      <td>SAM: MET147A 69 g</td>\n",
       "      <td>Apr 1945</td>\n",
       "    </tr>\n",
       "    <tr>\n",
       "      <th>132</th>\n",
       "      <td>MET</td>\n",
       "      <td>133</td>\n",
       "      <td>NaN</td>\n",
       "      <td>Australia, Western Australia, Kalgoorlie distr...</td>\n",
       "      <td>NaN</td>\n",
       "      <td>NaN</td>\n",
       "      <td>unknown</td>\n",
       "      <td>Stone. Chondrite</td>\n",
       "      <td>SAM: MET133A 346 g.</td>\n",
       "      <td>Apr 1945</td>\n",
       "    </tr>\n",
       "    <tr>\n",
       "      <th>133</th>\n",
       "      <td>MET</td>\n",
       "      <td>134</td>\n",
       "      <td>NaN</td>\n",
       "      <td>Australia, Western Australia, Kalgoorlie distr...</td>\n",
       "      <td>NaN</td>\n",
       "      <td>NaN</td>\n",
       "      <td>unknown</td>\n",
       "      <td>Stone. Chondrite</td>\n",
       "      <td>SAM: MET134A 142.7 g.</td>\n",
       "      <td>Apr 1945</td>\n",
       "    </tr>\n",
       "    <tr>\n",
       "      <th>135</th>\n",
       "      <td>MET</td>\n",
       "      <td>136</td>\n",
       "      <td>NaN</td>\n",
       "      <td>Australia, Western Australia, Kalgoorlie distr...</td>\n",
       "      <td>NaN</td>\n",
       "      <td>NaN</td>\n",
       "      <td>unknown</td>\n",
       "      <td>Stone. Chondrite</td>\n",
       "      <td>SAM: MET136A 81.3 g.</td>\n",
       "      <td>Apr 1945</td>\n",
       "    </tr>\n",
       "  </tbody>\n",
       "</table>\n",
       "</div>"
      ],
      "text/plain": [
       "    Prefix: (Registration Details)  Reg No: (Registration Details)  \\\n",
       "134                            MET                             135   \n",
       "146                            MET                             147   \n",
       "132                            MET                             133   \n",
       "133                            MET                             134   \n",
       "135                            MET                             136   \n",
       "\n",
       "    Suffix: (Registration Details)  \\\n",
       "134                            NaN   \n",
       "146                            NaN   \n",
       "132                            NaN   \n",
       "133                            NaN   \n",
       "135                            NaN   \n",
       "\n",
       "    Site: (Collection Details)/Site: (Object Data from time of Collecting Event)/Event/Site: (Object Data from time of Collecting Event)  \\\n",
       "134  Australia, Western Australia, Kalgoorlie distr...                                                                                     \n",
       "146  Australia, Western Australia, Nullarbor or Kal...                                                                                     \n",
       "132  Australia, Western Australia, Kalgoorlie distr...                                                                                     \n",
       "133  Australia, Western Australia, Kalgoorlie distr...                                                                                     \n",
       "135  Australia, Western Australia, Kalgoorlie distr...                                                                                     \n",
       "\n",
       "     Name: (Geological Details) Geo. Details/ Synonym: (Geological Details)  \\\n",
       "134                         NaN                                         NaN   \n",
       "146                         NaN                                         NaN   \n",
       "132                         NaN                                         NaN   \n",
       "133                         NaN                                         NaN   \n",
       "135                         NaN                                         NaN   \n",
       "\n",
       "    Total Weight: (Specimen Details) Type: (Geological Details)  \\\n",
       "134                          unknown           Stone. Chondrite   \n",
       "146                              NaN                      Iron.   \n",
       "132                          unknown           Stone. Chondrite   \n",
       "133                          unknown           Stone. Chondrite   \n",
       "135                          unknown           Stone. Chondrite   \n",
       "\n",
       "              Distribution Acquisition Date: (Acquisition)  \n",
       "134   SAM: MET135A 58.8 g.                        Apr 1945  \n",
       "146      SAM: MET147A 69 g                        Apr 1945  \n",
       "132    SAM: MET133A 346 g.                        Apr 1945  \n",
       "133  SAM: MET134A 142.7 g.                        Apr 1945  \n",
       "135   SAM: MET136A 81.3 g.                        Apr 1945  "
      ]
     },
     "execution_count": 58,
     "metadata": {},
     "output_type": "execute_result"
    }
   ],
   "source": [
    "import pandas as pd\n",
    "\n",
    "\n",
    "filename='meteorites.csv'\n",
    "\n",
    "df = pd.read_csv(filename)\n",
    "\n",
    "df = df.sort_values(by=['Acquisition Date: (Acquisition)'], ascending=True)\n",
    "\n",
    "impacts=len(df)\n",
    "print(impacts)\n",
    "\n",
    "df.head()"
   ]
  },
  {
   "cell_type": "code",
   "execution_count": 59,
   "metadata": {},
   "outputs": [
    {
     "name": "stdout",
     "output_type": "stream",
     "text": [
      "Index(['Prefix: (Registration Details)', 'Reg No: (Registration Details)',\n",
      "       'Suffix: (Registration Details)',\n",
      "       'Site: (Collection Details)/Site: (Object Data from time of Collecting Event)/Event/Site: (Object Data from time of Collecting Event)',\n",
      "       'Name: (Geological Details)',\n",
      "       'Geo. Details/ Synonym: (Geological Details)',\n",
      "       'Total Weight: (Specimen Details)', 'Type: (Geological Details)',\n",
      "       'Distribution', 'Acquisition Date: (Acquisition)'],\n",
      "      dtype='object')\n",
      "Prefix: (Registration Details)                                                                                                           object\n",
      "Reg No: (Registration Details)                                                                                                            int64\n",
      "Suffix: (Registration Details)                                                                                                           object\n",
      "Site: (Collection Details)/Site: (Object Data from time of Collecting Event)/Event/Site: (Object Data from time of Collecting Event)     object\n",
      "Name: (Geological Details)                                                                                                              float64\n",
      "Geo. Details/ Synonym: (Geological Details)                                                                                              object\n",
      "Total Weight: (Specimen Details)                                                                                                         object\n",
      "Type: (Geological Details)                                                                                                               object\n",
      "Distribution                                                                                                                             object\n",
      "Acquisition Date: (Acquisition)                                                                                                          object\n",
      "dtype: object\n"
     ]
    }
   ],
   "source": [
    "print(df.columns)\n",
    "print(df.dtypes)"
   ]
  },
  {
   "cell_type": "code",
   "execution_count": 63,
   "metadata": {},
   "outputs": [
    {
     "data": {
      "application/vnd.plotly.v1+json": {
       "config": {
        "plotlyServerURL": "https://plot.ly"
       },
       "data": [
        {
         "hovertemplate": "Reg No: (Registration Details)=%{x}<br>Type: (Geological Details)=%{y}<extra></extra>",
         "legendgroup": "",
         "marker": {
          "color": "#636efa",
          "symbol": "circle"
         },
         "mode": "markers",
         "name": "",
         "orientation": "h",
         "showlegend": false,
         "type": "scatter",
         "x": [
          135,
          147,
          133,
          134,
          136,
          137,
          20,
          142,
          174,
          12,
          23,
          140,
          105,
          36,
          141,
          40,
          19,
          42,
          11,
          57,
          13,
          113,
          126,
          32,
          84,
          145,
          144,
          146,
          1,
          6,
          45,
          76,
          34,
          80,
          30,
          48,
          129,
          75,
          173,
          114,
          56,
          143,
          157,
          47,
          5,
          159,
          85,
          103,
          95,
          90,
          53,
          54,
          132,
          125,
          60,
          46,
          7,
          69,
          14,
          37,
          130,
          79,
          108,
          155,
          156,
          154,
          107,
          10,
          41,
          66,
          35,
          62,
          139,
          87,
          124,
          96,
          73,
          64,
          8,
          172,
          68,
          71,
          18,
          78,
          119,
          115,
          72,
          171,
          58,
          9,
          121,
          83,
          120,
          112,
          109,
          81,
          88,
          100,
          91,
          93,
          97,
          102,
          101,
          122,
          104,
          31,
          51,
          61,
          89,
          33,
          39,
          28,
          49,
          99,
          86,
          22,
          74,
          92,
          65,
          55,
          4,
          38,
          59,
          70,
          131,
          2,
          161,
          17,
          29,
          44,
          77,
          25,
          15,
          153,
          152,
          149,
          150,
          148,
          151,
          50,
          110,
          128,
          127,
          43,
          52,
          16,
          169,
          67,
          111,
          3,
          21,
          24,
          26,
          27,
          63,
          82,
          94,
          98,
          106,
          116,
          117,
          118,
          123,
          138,
          158,
          160,
          162,
          163,
          164,
          165,
          166,
          167,
          168,
          170,
          175
         ],
         "xaxis": "x",
         "y": [
          "Stone. Chondrite",
          "Iron.",
          "Stone. Chondrite",
          "Stone. Chondrite",
          "Stone. Chondrite",
          "Stony-iron. Pallasite (PAL).",
          "Stone. Olivine-bronzite chondrite (H4).",
          "Stone. Olivine-bronzite chondrite (H4).",
          "H5",
          "Stone. Olivine-bronzite chondrite (H4)",
          "Stone. Olivine-hypersthene chondrite (L6)",
          "Stony-iron. Mesosiderite",
          "Stone. Olivine-hypersthene chondrite (L6), brecciated.",
          "Stone. Olivine-hypersthene chondrite (L4).",
          "Stone. Carbonaceous chondrite (C5).",
          "Stone. Olivine-bronzite chondrite (H4).",
          "Stone. Olivine-bronzite chondrite (H5)",
          "Iron. Ataxite, Ni rich (IRANOM)",
          "Stone. Olivine-bronzite chondrite (H6)",
          "Iron. Octahedrite, medium (0.6mm) (IRANOM)",
          "Iron. Octahedrite, medium (1.2mm)(IIIA)",
          "Stone. Carbonaceous chondrite, type I (C1).",
          "Stone. Olivine-pyroxene chondrite (H6).",
          "Stone. Olivine-hypersthene chondrite (L4).",
          "Stone. Achondrite, Ca-poor. Aubrite (AUB).",
          "Stone. Amphoterite (LL6).",
          "Stone. Achondrite. Eucrite (AEUC).",
          "Stone. Olivine-bronzite chondrite (H5).",
          "Stone. Olivine-hypersthene chondrite (L6)",
          "Stone. Olivine-hypersthene chondrite (L6)",
          "Iron. Octahedrite, medium (0.9mm) (IIIA).",
          "Stone. Olivine-hypersthene chondrite (L6).",
          "Stone. Olivine-bronzite chondrite (H5).",
          "Stone. Carbonaceous chondrite, type III (C3).",
          "Stone. Achondrite, Ca-rich. Howardite (AHOW)",
          "Iron. Octahedrite, medium (0.6mm) (IIIB)",
          "Stone. Olivine-hypersthene chondrite (L3).",
          "Stone. Olivine-bronzite chondrite (H6).",
          "Stone. Chondrite (L).",
          "Stone. Olivine-hypersthene chondrite, amphoterite (LL5).",
          "Stony-iron. Mesosiderite (MES)",
          "Stone. Olivine-bronzite chondrite (H5).",
          "Stone. Olivine-bronzite chondrite (H4).",
          "Iron. Octahedrite, fine (0.3mm) (IVA)",
          "Stone. Olivine-bronzite chondrite (H6)",
          "Stone. Achondrite",
          "Stone. Olivine-hypersthene chondrite (L5).",
          "Stone. Olivine-bronzite chondrite (H4).",
          "Iron. Octahedrite, medium (1.1mm) (IIIB).",
          "Iron. Octahedrite, coarse (2.0mm) (IA).",
          "Stone. Olivine-hypersthene chondrite (L6)",
          "Stone. Olivine-hypersthene chondrite (L6)",
          "Iron.",
          "Iron. Octahedrite, medium (0.9mm) (IIA).",
          "Stone. Olivine-bronzite chondrite (H4)",
          "Stony-iron. Pallasite (PAL).",
          "Stone. Olivine-bronzite chondrite (H5)",
          "Stone. Olivine-hypersthene chondrite (L6).",
          "Stone. Chondrite (LL7) breccia.",
          "Stone. Olivine-hypersthene chondrite (L5).",
          "Stone. Olivine-bronzite chondrite (H5).",
          "Iron. Octahedrite, coarsest (5mm) (IIB).",
          "Stone. Olivine-hypersthene chondrite (L6).",
          "Stone. Olivine-bronzite chondrite (H6).",
          "Stone. Olivine-bronzite chondrite (H5).",
          "Stone. Olivine-bronzite chondrite (H5).",
          "Stone. Olivine-bronzite chondrite (H5).",
          "Stone. Chondrite (H6)",
          "Iron. Octahedrite, coarse (2.0mm) (IA)",
          "Stone. Olivine-bronzite chondrite (H5).",
          "Iron. Octahedrite, coarse (1.4mm) (IIIE)",
          "Stone. Olivine-hypersthene chondrite (L4)",
          "Iron. Octahedrite.",
          "Stony-iron. Pallasite (PAL).",
          "Iron. Octahedrite, coarse (1.4mm) (IA).",
          "Stone. Olivine-bronzite chondrite (H5), brecciated.",
          "Stone. Olivine-hypersthene chondrite (L6).",
          "Stone. Olivine-hypersthene chondrite (L6)",
          "Stone. Olivine-hypersthene chondrite (L3)",
          null,
          "Iron. Hexahedrite? (IA?)",
          "Stone. Olivine-hypersthene chondrite (L6).",
          "Stone. Carbonaceous chondrite (C5).",
          "Stone. Olivine-bronzite chondrite (H5).",
          "Stone. Olivine-hypersthene chondrite (L5).",
          "Stone. Achondrite, Ca rich. Eucrite (AEUC).",
          "Stone. Olivine-bronzite chondrite (H5).",
          null,
          "Stone. Olivine-hypersthene chondrite (L4)",
          "Stone. Olivine-hypersthene chondrite (L6)",
          "Iron. Octahedrite, coarse (2.5mm) (IA).",
          "Stone. Olivine-hypersthene chondrite (L5).",
          "Iron. Octahedrite, medium (0.9mm)(IIIA).",
          "Iron. Octahedrite, coarse (1.7mm) (IA).",
          "Iron. Octahedrite, plessitic (IIF).",
          "Stone. Olivine- hypersthene chondrite (L5).",
          "Stone. Olivine-hypersthene chondrite (L6).",
          "Stone. Olivine-hypersthene chondrite (L6).",
          "Stony-iron. Mesosiderite (MES).",
          "Stone. Olivine-bronzite chondrite (H4), brecciated.",
          "Iron. Octahedrite (IIA).",
          "Iron. Hexahedrite (IRANOM), brecciated.",
          "Stone. Achondrite, Ca-poor. Diogenite (ADIO).",
          "Stone. Olivine-bronzite chondrite (H4).",
          "Stone. Olivine-hypersthene chondrite (L5).",
          "Iron. Anomalous (IC)",
          "Stone. Olivine-bronzite chondrite (H5)",
          "Iron. Octahedrite, medium (0.85mm) (IIIB)",
          "Iron. Octahedrite, coarse (3.0mm) with silicate inclusions (IA).",
          "Stony-iron. Mesosiderite (MES)",
          "Stone. Olivine-bronzite chondrite (H5).",
          "Iron. Octahedrite, medium (0.9mm) (IIIA).",
          "Iron. Ataxite, Ni-rich (IVB)",
          "Iron. Octahedrite, medium (1.2mm) (IIIA).",
          "Stone. Olivine-bronzite chondrite (H5).",
          "Stone. Olivine-hypersthene chondrite (L5)",
          "Stone. Carbonaceous chondrite, type II (CM2).",
          "Stone. Achondrite, Ca-poor. Aubrite (AUB).",
          "Iron. Octahedrite, coarse (2.1mm) (IA)",
          "Stony-iron. Mesosiderite, anomalous (MESANOM)",
          "Stone. Achondrite, Ca-poor (ACANOM)",
          "Iron.  Octahedrite, coarse (2.5mm) (IIE).",
          "Stone. Olivine-bronzite chondrite (H5)",
          "Stone. Olivine-hypersthene chondrite (L4).",
          "Iron. Octahedrite, medium.",
          "Stone. Carbonaceous chondrite, type II (C2)",
          "Stone. Carbonaceous chondrite (CO3.3)",
          "Stone. Olivine-bronzite chondrite (H6) brecciated.",
          "Stone. Olivine-hypersthene chondrite (L6).",
          "Iron. Octahedrite, medium (1.0mm)(IIIA)",
          "Stone. Enstatite chondrite (E4).",
          "Stone. Olivine-hypersthene chondrite (L5)",
          "Stone. Olivine-hypersthene chondrite (L4a)",
          "Stone. Olivine-hypersthene chondrite (L5).",
          "Stone. Olivine-bronzite chondrite (H6).",
          "Stone. Chondrite (L).",
          "Stone. Olivine-bronzite chondrite (H5).",
          "Stone. Olivine-hypersthene chondrite (L5).",
          "Stone. Olivine-bronzite chondrite (H6).",
          "Iron. Octahedrite, coarse (2.1mm) (IA)",
          "Stone. Achondrite, Ca-rich. Nakhlite (ACANOM).",
          "Iron. Octahedrite,fine (0.4mm) with silicate inclusions (IB-ANOM)",
          "Iron. Octahedrite, coarse (2.3mm) (IA).",
          "Iron.  Ataxite (IID-ANOM)",
          "Iron. Octahedrite, medium (0.9mm) (IIIA)",
          "Stone. Olivine-bronzite chondrite (H6)",
          null,
          "Stony-iron. Pallasite (PAL)",
          "Stone. Olivine-hypersthene chondrite (L6).",
          "Stone. Olivine-hypersthene chondrite (L6)",
          "Iron. Octahedrite, medium (1.1mm) (IIIA)",
          "Stone. Olivine-hypersthene chondrite, amphoterite (LL6)xenolithic",
          "Stone. Olivine-hypersthene chondrite (L6)",
          "Stone. Olivine-hypersthene chondrite (L3)",
          "Iron. Hexahedrite (IIA)",
          "Stone. Olivine-bronzite chondrite (H5).",
          "Iron. Octahedrite, fine (0.3mm) (IVA).",
          "Stone. Olivine-hypersthene chondrite (L6).",
          "Stone. Olivine-hypersthene chondrite (L5).",
          "Stone. Olivine-bronzite chondrite (H5), brecciated.",
          "Iron. Octahedrite, medium (0.1mm)(IIIA).",
          "Stone. Olivine-bronzite chondrite (H5).",
          "Stony-iron. Pallasite (PAL).",
          "Iron.",
          "Stone. Olivine-bronzite chondrite (H5).",
          null,
          "Stone. Chondrite, ordinary (L5).",
          "Stone. Lunar (Anorthositic breccia) (Lun-A).",
          "Stone. Enstatite chondrite (EH4).",
          "Iron. Coarsest octahedrite (IIAB).",
          "Iron. Coarsest octahedrite (IIAB).",
          "Iron. Octahedrite, medium (0.9mm) (IIIA).",
          "Iron. Octahedrite, medium (0.9mm) (IIIA).",
          "Iron.",
          "H5"
         ],
         "yaxis": "y"
        }
       ],
       "layout": {
        "legend": {
         "tracegroupgap": 0
        },
        "margin": {
         "t": 60
        },
        "template": {
         "data": {
          "bar": [
           {
            "error_x": {
             "color": "#2a3f5f"
            },
            "error_y": {
             "color": "#2a3f5f"
            },
            "marker": {
             "line": {
              "color": "#E5ECF6",
              "width": 0.5
             },
             "pattern": {
              "fillmode": "overlay",
              "size": 10,
              "solidity": 0.2
             }
            },
            "type": "bar"
           }
          ],
          "barpolar": [
           {
            "marker": {
             "line": {
              "color": "#E5ECF6",
              "width": 0.5
             },
             "pattern": {
              "fillmode": "overlay",
              "size": 10,
              "solidity": 0.2
             }
            },
            "type": "barpolar"
           }
          ],
          "carpet": [
           {
            "aaxis": {
             "endlinecolor": "#2a3f5f",
             "gridcolor": "white",
             "linecolor": "white",
             "minorgridcolor": "white",
             "startlinecolor": "#2a3f5f"
            },
            "baxis": {
             "endlinecolor": "#2a3f5f",
             "gridcolor": "white",
             "linecolor": "white",
             "minorgridcolor": "white",
             "startlinecolor": "#2a3f5f"
            },
            "type": "carpet"
           }
          ],
          "choropleth": [
           {
            "colorbar": {
             "outlinewidth": 0,
             "ticks": ""
            },
            "type": "choropleth"
           }
          ],
          "contour": [
           {
            "colorbar": {
             "outlinewidth": 0,
             "ticks": ""
            },
            "colorscale": [
             [
              0,
              "#0d0887"
             ],
             [
              0.1111111111111111,
              "#46039f"
             ],
             [
              0.2222222222222222,
              "#7201a8"
             ],
             [
              0.3333333333333333,
              "#9c179e"
             ],
             [
              0.4444444444444444,
              "#bd3786"
             ],
             [
              0.5555555555555556,
              "#d8576b"
             ],
             [
              0.6666666666666666,
              "#ed7953"
             ],
             [
              0.7777777777777778,
              "#fb9f3a"
             ],
             [
              0.8888888888888888,
              "#fdca26"
             ],
             [
              1,
              "#f0f921"
             ]
            ],
            "type": "contour"
           }
          ],
          "contourcarpet": [
           {
            "colorbar": {
             "outlinewidth": 0,
             "ticks": ""
            },
            "type": "contourcarpet"
           }
          ],
          "heatmap": [
           {
            "colorbar": {
             "outlinewidth": 0,
             "ticks": ""
            },
            "colorscale": [
             [
              0,
              "#0d0887"
             ],
             [
              0.1111111111111111,
              "#46039f"
             ],
             [
              0.2222222222222222,
              "#7201a8"
             ],
             [
              0.3333333333333333,
              "#9c179e"
             ],
             [
              0.4444444444444444,
              "#bd3786"
             ],
             [
              0.5555555555555556,
              "#d8576b"
             ],
             [
              0.6666666666666666,
              "#ed7953"
             ],
             [
              0.7777777777777778,
              "#fb9f3a"
             ],
             [
              0.8888888888888888,
              "#fdca26"
             ],
             [
              1,
              "#f0f921"
             ]
            ],
            "type": "heatmap"
           }
          ],
          "heatmapgl": [
           {
            "colorbar": {
             "outlinewidth": 0,
             "ticks": ""
            },
            "colorscale": [
             [
              0,
              "#0d0887"
             ],
             [
              0.1111111111111111,
              "#46039f"
             ],
             [
              0.2222222222222222,
              "#7201a8"
             ],
             [
              0.3333333333333333,
              "#9c179e"
             ],
             [
              0.4444444444444444,
              "#bd3786"
             ],
             [
              0.5555555555555556,
              "#d8576b"
             ],
             [
              0.6666666666666666,
              "#ed7953"
             ],
             [
              0.7777777777777778,
              "#fb9f3a"
             ],
             [
              0.8888888888888888,
              "#fdca26"
             ],
             [
              1,
              "#f0f921"
             ]
            ],
            "type": "heatmapgl"
           }
          ],
          "histogram": [
           {
            "marker": {
             "pattern": {
              "fillmode": "overlay",
              "size": 10,
              "solidity": 0.2
             }
            },
            "type": "histogram"
           }
          ],
          "histogram2d": [
           {
            "colorbar": {
             "outlinewidth": 0,
             "ticks": ""
            },
            "colorscale": [
             [
              0,
              "#0d0887"
             ],
             [
              0.1111111111111111,
              "#46039f"
             ],
             [
              0.2222222222222222,
              "#7201a8"
             ],
             [
              0.3333333333333333,
              "#9c179e"
             ],
             [
              0.4444444444444444,
              "#bd3786"
             ],
             [
              0.5555555555555556,
              "#d8576b"
             ],
             [
              0.6666666666666666,
              "#ed7953"
             ],
             [
              0.7777777777777778,
              "#fb9f3a"
             ],
             [
              0.8888888888888888,
              "#fdca26"
             ],
             [
              1,
              "#f0f921"
             ]
            ],
            "type": "histogram2d"
           }
          ],
          "histogram2dcontour": [
           {
            "colorbar": {
             "outlinewidth": 0,
             "ticks": ""
            },
            "colorscale": [
             [
              0,
              "#0d0887"
             ],
             [
              0.1111111111111111,
              "#46039f"
             ],
             [
              0.2222222222222222,
              "#7201a8"
             ],
             [
              0.3333333333333333,
              "#9c179e"
             ],
             [
              0.4444444444444444,
              "#bd3786"
             ],
             [
              0.5555555555555556,
              "#d8576b"
             ],
             [
              0.6666666666666666,
              "#ed7953"
             ],
             [
              0.7777777777777778,
              "#fb9f3a"
             ],
             [
              0.8888888888888888,
              "#fdca26"
             ],
             [
              1,
              "#f0f921"
             ]
            ],
            "type": "histogram2dcontour"
           }
          ],
          "mesh3d": [
           {
            "colorbar": {
             "outlinewidth": 0,
             "ticks": ""
            },
            "type": "mesh3d"
           }
          ],
          "parcoords": [
           {
            "line": {
             "colorbar": {
              "outlinewidth": 0,
              "ticks": ""
             }
            },
            "type": "parcoords"
           }
          ],
          "pie": [
           {
            "automargin": true,
            "type": "pie"
           }
          ],
          "scatter": [
           {
            "fillpattern": {
             "fillmode": "overlay",
             "size": 10,
             "solidity": 0.2
            },
            "type": "scatter"
           }
          ],
          "scatter3d": [
           {
            "line": {
             "colorbar": {
              "outlinewidth": 0,
              "ticks": ""
             }
            },
            "marker": {
             "colorbar": {
              "outlinewidth": 0,
              "ticks": ""
             }
            },
            "type": "scatter3d"
           }
          ],
          "scattercarpet": [
           {
            "marker": {
             "colorbar": {
              "outlinewidth": 0,
              "ticks": ""
             }
            },
            "type": "scattercarpet"
           }
          ],
          "scattergeo": [
           {
            "marker": {
             "colorbar": {
              "outlinewidth": 0,
              "ticks": ""
             }
            },
            "type": "scattergeo"
           }
          ],
          "scattergl": [
           {
            "marker": {
             "colorbar": {
              "outlinewidth": 0,
              "ticks": ""
             }
            },
            "type": "scattergl"
           }
          ],
          "scattermapbox": [
           {
            "marker": {
             "colorbar": {
              "outlinewidth": 0,
              "ticks": ""
             }
            },
            "type": "scattermapbox"
           }
          ],
          "scatterpolar": [
           {
            "marker": {
             "colorbar": {
              "outlinewidth": 0,
              "ticks": ""
             }
            },
            "type": "scatterpolar"
           }
          ],
          "scatterpolargl": [
           {
            "marker": {
             "colorbar": {
              "outlinewidth": 0,
              "ticks": ""
             }
            },
            "type": "scatterpolargl"
           }
          ],
          "scatterternary": [
           {
            "marker": {
             "colorbar": {
              "outlinewidth": 0,
              "ticks": ""
             }
            },
            "type": "scatterternary"
           }
          ],
          "surface": [
           {
            "colorbar": {
             "outlinewidth": 0,
             "ticks": ""
            },
            "colorscale": [
             [
              0,
              "#0d0887"
             ],
             [
              0.1111111111111111,
              "#46039f"
             ],
             [
              0.2222222222222222,
              "#7201a8"
             ],
             [
              0.3333333333333333,
              "#9c179e"
             ],
             [
              0.4444444444444444,
              "#bd3786"
             ],
             [
              0.5555555555555556,
              "#d8576b"
             ],
             [
              0.6666666666666666,
              "#ed7953"
             ],
             [
              0.7777777777777778,
              "#fb9f3a"
             ],
             [
              0.8888888888888888,
              "#fdca26"
             ],
             [
              1,
              "#f0f921"
             ]
            ],
            "type": "surface"
           }
          ],
          "table": [
           {
            "cells": {
             "fill": {
              "color": "#EBF0F8"
             },
             "line": {
              "color": "white"
             }
            },
            "header": {
             "fill": {
              "color": "#C8D4E3"
             },
             "line": {
              "color": "white"
             }
            },
            "type": "table"
           }
          ]
         },
         "layout": {
          "annotationdefaults": {
           "arrowcolor": "#2a3f5f",
           "arrowhead": 0,
           "arrowwidth": 1
          },
          "autotypenumbers": "strict",
          "coloraxis": {
           "colorbar": {
            "outlinewidth": 0,
            "ticks": ""
           }
          },
          "colorscale": {
           "diverging": [
            [
             0,
             "#8e0152"
            ],
            [
             0.1,
             "#c51b7d"
            ],
            [
             0.2,
             "#de77ae"
            ],
            [
             0.3,
             "#f1b6da"
            ],
            [
             0.4,
             "#fde0ef"
            ],
            [
             0.5,
             "#f7f7f7"
            ],
            [
             0.6,
             "#e6f5d0"
            ],
            [
             0.7,
             "#b8e186"
            ],
            [
             0.8,
             "#7fbc41"
            ],
            [
             0.9,
             "#4d9221"
            ],
            [
             1,
             "#276419"
            ]
           ],
           "sequential": [
            [
             0,
             "#0d0887"
            ],
            [
             0.1111111111111111,
             "#46039f"
            ],
            [
             0.2222222222222222,
             "#7201a8"
            ],
            [
             0.3333333333333333,
             "#9c179e"
            ],
            [
             0.4444444444444444,
             "#bd3786"
            ],
            [
             0.5555555555555556,
             "#d8576b"
            ],
            [
             0.6666666666666666,
             "#ed7953"
            ],
            [
             0.7777777777777778,
             "#fb9f3a"
            ],
            [
             0.8888888888888888,
             "#fdca26"
            ],
            [
             1,
             "#f0f921"
            ]
           ],
           "sequentialminus": [
            [
             0,
             "#0d0887"
            ],
            [
             0.1111111111111111,
             "#46039f"
            ],
            [
             0.2222222222222222,
             "#7201a8"
            ],
            [
             0.3333333333333333,
             "#9c179e"
            ],
            [
             0.4444444444444444,
             "#bd3786"
            ],
            [
             0.5555555555555556,
             "#d8576b"
            ],
            [
             0.6666666666666666,
             "#ed7953"
            ],
            [
             0.7777777777777778,
             "#fb9f3a"
            ],
            [
             0.8888888888888888,
             "#fdca26"
            ],
            [
             1,
             "#f0f921"
            ]
           ]
          },
          "colorway": [
           "#636efa",
           "#EF553B",
           "#00cc96",
           "#ab63fa",
           "#FFA15A",
           "#19d3f3",
           "#FF6692",
           "#B6E880",
           "#FF97FF",
           "#FECB52"
          ],
          "font": {
           "color": "#2a3f5f"
          },
          "geo": {
           "bgcolor": "white",
           "lakecolor": "white",
           "landcolor": "#E5ECF6",
           "showlakes": true,
           "showland": true,
           "subunitcolor": "white"
          },
          "hoverlabel": {
           "align": "left"
          },
          "hovermode": "closest",
          "mapbox": {
           "style": "light"
          },
          "paper_bgcolor": "white",
          "plot_bgcolor": "#E5ECF6",
          "polar": {
           "angularaxis": {
            "gridcolor": "white",
            "linecolor": "white",
            "ticks": ""
           },
           "bgcolor": "#E5ECF6",
           "radialaxis": {
            "gridcolor": "white",
            "linecolor": "white",
            "ticks": ""
           }
          },
          "scene": {
           "xaxis": {
            "backgroundcolor": "#E5ECF6",
            "gridcolor": "white",
            "gridwidth": 2,
            "linecolor": "white",
            "showbackground": true,
            "ticks": "",
            "zerolinecolor": "white"
           },
           "yaxis": {
            "backgroundcolor": "#E5ECF6",
            "gridcolor": "white",
            "gridwidth": 2,
            "linecolor": "white",
            "showbackground": true,
            "ticks": "",
            "zerolinecolor": "white"
           },
           "zaxis": {
            "backgroundcolor": "#E5ECF6",
            "gridcolor": "white",
            "gridwidth": 2,
            "linecolor": "white",
            "showbackground": true,
            "ticks": "",
            "zerolinecolor": "white"
           }
          },
          "shapedefaults": {
           "line": {
            "color": "#2a3f5f"
           }
          },
          "ternary": {
           "aaxis": {
            "gridcolor": "white",
            "linecolor": "white",
            "ticks": ""
           },
           "baxis": {
            "gridcolor": "white",
            "linecolor": "white",
            "ticks": ""
           },
           "bgcolor": "#E5ECF6",
           "caxis": {
            "gridcolor": "white",
            "linecolor": "white",
            "ticks": ""
           }
          },
          "title": {
           "x": 0.05
          },
          "xaxis": {
           "automargin": true,
           "gridcolor": "white",
           "linecolor": "white",
           "ticks": "",
           "title": {
            "standoff": 15
           },
           "zerolinecolor": "white",
           "zerolinewidth": 2
          },
          "yaxis": {
           "automargin": true,
           "gridcolor": "white",
           "linecolor": "white",
           "ticks": "",
           "title": {
            "standoff": 15
           },
           "zerolinecolor": "white",
           "zerolinewidth": 2
          }
         }
        },
        "xaxis": {
         "anchor": "y",
         "domain": [
          0,
          1
         ],
         "title": {
          "text": "Reg No: (Registration Details)"
         }
        },
        "yaxis": {
         "anchor": "x",
         "domain": [
          0,
          1
         ],
         "title": {
          "text": "Type: (Geological Details)"
         }
        }
       }
      },
      "text/html": [
       "<div>                            <div id=\"378f3172-bce0-4004-86e7-1ac881649a0a\" class=\"plotly-graph-div\" style=\"height:525px; width:100%;\"></div>            <script type=\"text/javascript\">                require([\"plotly\"], function(Plotly) {                    window.PLOTLYENV=window.PLOTLYENV || {};                                    if (document.getElementById(\"378f3172-bce0-4004-86e7-1ac881649a0a\")) {                    Plotly.newPlot(                        \"378f3172-bce0-4004-86e7-1ac881649a0a\",                        [{\"hovertemplate\":\"Reg No: (Registration Details)=%{x}\\u003cbr\\u003eType: (Geological Details)=%{y}\\u003cextra\\u003e\\u003c\\u002fextra\\u003e\",\"legendgroup\":\"\",\"marker\":{\"color\":\"#636efa\",\"symbol\":\"circle\"},\"mode\":\"markers\",\"name\":\"\",\"orientation\":\"h\",\"showlegend\":false,\"x\":[135,147,133,134,136,137,20,142,174,12,23,140,105,36,141,40,19,42,11,57,13,113,126,32,84,145,144,146,1,6,45,76,34,80,30,48,129,75,173,114,56,143,157,47,5,159,85,103,95,90,53,54,132,125,60,46,7,69,14,37,130,79,108,155,156,154,107,10,41,66,35,62,139,87,124,96,73,64,8,172,68,71,18,78,119,115,72,171,58,9,121,83,120,112,109,81,88,100,91,93,97,102,101,122,104,31,51,61,89,33,39,28,49,99,86,22,74,92,65,55,4,38,59,70,131,2,161,17,29,44,77,25,15,153,152,149,150,148,151,50,110,128,127,43,52,16,169,67,111,3,21,24,26,27,63,82,94,98,106,116,117,118,123,138,158,160,162,163,164,165,166,167,168,170,175],\"xaxis\":\"x\",\"y\":[\"Stone. Chondrite\",\"Iron.\",\"Stone. Chondrite\",\"Stone. Chondrite\",\"Stone. Chondrite\",\"Stony-iron. Pallasite (PAL).\",\"Stone. Olivine-bronzite chondrite (H4).\",\"Stone. Olivine-bronzite chondrite (H4).\",\"H5\",\"Stone. Olivine-bronzite chondrite (H4)\",\"Stone. Olivine-hypersthene chondrite (L6)\",\"Stony-iron. Mesosiderite\",\"Stone. Olivine-hypersthene chondrite (L6), brecciated.\",\"Stone. Olivine-hypersthene chondrite (L4).\",\"Stone. Carbonaceous chondrite (C5).\",\"Stone. Olivine-bronzite chondrite (H4).\",\"Stone. Olivine-bronzite chondrite (H5)\",\"Iron. Ataxite, Ni rich (IRANOM)\",\"Stone. Olivine-bronzite chondrite (H6)\",\"Iron. Octahedrite, medium (0.6mm) (IRANOM)\",\"Iron. Octahedrite, medium (1.2mm)(IIIA)\",\"Stone. Carbonaceous chondrite, type I (C1).\",\"Stone. Olivine-pyroxene chondrite (H6).\",\"Stone. Olivine-hypersthene chondrite (L4).\",\"Stone. Achondrite, Ca-poor. Aubrite (AUB).\",\"Stone. Amphoterite (LL6).\",\"Stone. Achondrite. Eucrite (AEUC).\",\"Stone. Olivine-bronzite chondrite (H5).\",\"Stone. Olivine-hypersthene chondrite (L6)\",\"Stone. Olivine-hypersthene chondrite (L6)\",\"Iron. Octahedrite, medium (0.9mm) (IIIA).\",\"Stone. Olivine-hypersthene chondrite (L6).\",\"Stone. Olivine-bronzite chondrite (H5).\",\"Stone. Carbonaceous chondrite, type III (C3).\",\"Stone. Achondrite, Ca-rich. Howardite (AHOW)\",\"Iron. Octahedrite, medium (0.6mm) (IIIB)\",\"Stone. Olivine-hypersthene chondrite (L3).\",\"Stone. Olivine-bronzite chondrite (H6).\",\"Stone. Chondrite (L).\",\"Stone. Olivine-hypersthene chondrite, amphoterite (LL5).\",\"Stony-iron. Mesosiderite (MES)\",\"Stone. Olivine-bronzite chondrite (H5).\",\"Stone. Olivine-bronzite chondrite (H4).\",\"Iron. Octahedrite, fine (0.3mm) (IVA)\",\"Stone. Olivine-bronzite chondrite (H6)\",\"Stone. Achondrite\",\"Stone. Olivine-hypersthene chondrite (L5).\",\"Stone. Olivine-bronzite chondrite (H4).\",\"Iron. Octahedrite, medium (1.1mm) (IIIB).\",\"Iron. Octahedrite, coarse (2.0mm) (IA).\",\"Stone. Olivine-hypersthene chondrite (L6)\",\"Stone. Olivine-hypersthene chondrite (L6)\",\"Iron.\",\"Iron. Octahedrite, medium (0.9mm) (IIA).\",\"Stone. Olivine-bronzite chondrite (H4)\",\"Stony-iron. Pallasite (PAL).\",\"Stone. Olivine-bronzite chondrite (H5)\",\"Stone. Olivine-hypersthene chondrite (L6).\",\"Stone. Chondrite (LL7) breccia.\",\"Stone. Olivine-hypersthene chondrite (L5).\",\"Stone. Olivine-bronzite chondrite (H5).\",\"Iron. Octahedrite, coarsest (5mm) (IIB).\",\"Stone. Olivine-hypersthene chondrite (L6).\",\"Stone. Olivine-bronzite chondrite (H6).\",\"Stone. Olivine-bronzite chondrite (H5).\",\"Stone. Olivine-bronzite chondrite (H5).\",\"Stone. Olivine-bronzite chondrite (H5).\",\"Stone. Chondrite (H6)\",\"Iron. Octahedrite, coarse (2.0mm) (IA)\",\"Stone. Olivine-bronzite chondrite (H5).\",\"Iron. Octahedrite, coarse (1.4mm) (IIIE)\",\"Stone. Olivine-hypersthene chondrite (L4)\",\"Iron. Octahedrite.\",\"Stony-iron. Pallasite (PAL).\",\"Iron. Octahedrite, coarse (1.4mm) (IA).\",\"Stone. Olivine-bronzite chondrite (H5), brecciated.\",\"Stone. Olivine-hypersthene chondrite (L6).\",\"Stone. Olivine-hypersthene chondrite (L6)\",\"Stone. Olivine-hypersthene chondrite (L3)\",null,\"Iron. Hexahedrite? (IA?)\",\"Stone. Olivine-hypersthene chondrite (L6).\",\"Stone. Carbonaceous chondrite (C5).\",\"Stone. Olivine-bronzite chondrite (H5).\",\"Stone. Olivine-hypersthene chondrite (L5).\",\"Stone. Achondrite, Ca rich. Eucrite (AEUC).\",\"Stone. Olivine-bronzite chondrite (H5).\",null,\"Stone. Olivine-hypersthene chondrite (L4)\",\"Stone. Olivine-hypersthene chondrite (L6)\",\"Iron. Octahedrite, coarse (2.5mm) (IA).\",\"Stone. Olivine-hypersthene chondrite (L5).\",\"Iron. Octahedrite, medium (0.9mm)(IIIA).\",\"Iron. Octahedrite, coarse (1.7mm) (IA).\",\"Iron. Octahedrite, plessitic (IIF).\",\"Stone. Olivine- hypersthene chondrite (L5).\",\"Stone. Olivine-hypersthene chondrite (L6).\",\"Stone. Olivine-hypersthene chondrite (L6).\",\"Stony-iron. Mesosiderite (MES).\",\"Stone. Olivine-bronzite chondrite (H4), brecciated.\",\"Iron. Octahedrite (IIA).\",\"Iron. Hexahedrite (IRANOM), brecciated.\",\"Stone. Achondrite, Ca-poor. Diogenite (ADIO).\",\"Stone. Olivine-bronzite chondrite (H4).\",\"Stone. Olivine-hypersthene chondrite (L5).\",\"Iron. Anomalous (IC)\",\"Stone. Olivine-bronzite chondrite (H5)\",\"Iron. Octahedrite, medium (0.85mm) (IIIB)\",\"Iron. Octahedrite, coarse (3.0mm) with silicate inclusions (IA).\",\"Stony-iron. Mesosiderite (MES)\",\"Stone. Olivine-bronzite chondrite (H5).\",\"Iron. Octahedrite, medium (0.9mm) (IIIA).\",\"Iron. Ataxite, Ni-rich (IVB)\",\"Iron. Octahedrite, medium (1.2mm) (IIIA).\",\"Stone. Olivine-bronzite chondrite (H5).\",\"Stone. Olivine-hypersthene chondrite (L5)\",\"Stone. Carbonaceous chondrite, type II (CM2).\",\"Stone. Achondrite, Ca-poor. Aubrite (AUB).\",\"Iron. Octahedrite, coarse (2.1mm) (IA)\",\"Stony-iron. Mesosiderite, anomalous (MESANOM)\",\"Stone. Achondrite, Ca-poor (ACANOM)\",\"Iron.  Octahedrite, coarse (2.5mm) (IIE).\",\"Stone. Olivine-bronzite chondrite (H5)\",\"Stone. Olivine-hypersthene chondrite (L4).\",\"Iron. Octahedrite, medium.\",\"Stone. Carbonaceous chondrite, type II (C2)\",\"Stone. Carbonaceous chondrite (CO3.3)\",\"Stone. Olivine-bronzite chondrite (H6) brecciated.\",\"Stone. Olivine-hypersthene chondrite (L6).\",\"Iron. Octahedrite, medium (1.0mm)(IIIA)\",\"Stone. Enstatite chondrite (E4).\",\"Stone. Olivine-hypersthene chondrite (L5)\",\"Stone. Olivine-hypersthene chondrite (L4a)\",\"Stone. Olivine-hypersthene chondrite (L5).\",\"Stone. Olivine-bronzite chondrite (H6).\",\"Stone. Chondrite (L).\",\"Stone. Olivine-bronzite chondrite (H5).\",\"Stone. Olivine-hypersthene chondrite (L5).\",\"Stone. Olivine-bronzite chondrite (H6).\",\"Iron. Octahedrite, coarse (2.1mm) (IA)\",\"Stone. Achondrite, Ca-rich. Nakhlite (ACANOM).\",\"Iron. Octahedrite,fine (0.4mm) with silicate inclusions (IB-ANOM)\",\"Iron. Octahedrite, coarse (2.3mm) (IA).\",\"Iron.  Ataxite (IID-ANOM)\",\"Iron. Octahedrite, medium (0.9mm) (IIIA)\",\"Stone. Olivine-bronzite chondrite (H6)\",null,\"Stony-iron. Pallasite (PAL)\",\"Stone. Olivine-hypersthene chondrite (L6).\",\"Stone. Olivine-hypersthene chondrite (L6)\",\"Iron. Octahedrite, medium (1.1mm) (IIIA)\",\"Stone. Olivine-hypersthene chondrite, amphoterite (LL6)xenolithic\",\"Stone. Olivine-hypersthene chondrite (L6)\",\"Stone. Olivine-hypersthene chondrite (L3)\",\"Iron. Hexahedrite (IIA)\",\"Stone. Olivine-bronzite chondrite (H5).\",\"Iron. Octahedrite, fine (0.3mm) (IVA).\",\"Stone. Olivine-hypersthene chondrite (L6).\",\"Stone. Olivine-hypersthene chondrite (L5).\",\"Stone. Olivine-bronzite chondrite (H5), brecciated.\",\"Iron. Octahedrite, medium (0.1mm)(IIIA).\",\"Stone. Olivine-bronzite chondrite (H5).\",\"Stony-iron. Pallasite (PAL).\",\"Iron.\",\"Stone. Olivine-bronzite chondrite (H5).\",null,\"Stone. Chondrite, ordinary (L5).\",\"Stone. Lunar (Anorthositic breccia) (Lun-A).\",\"Stone. Enstatite chondrite (EH4).\",\"Iron. Coarsest octahedrite (IIAB).\",\"Iron. Coarsest octahedrite (IIAB).\",\"Iron. Octahedrite, medium (0.9mm) (IIIA).\",\"Iron. Octahedrite, medium (0.9mm) (IIIA).\",\"Iron.\",\"H5\"],\"yaxis\":\"y\",\"type\":\"scatter\"}],                        {\"template\":{\"data\":{\"histogram2dcontour\":[{\"type\":\"histogram2dcontour\",\"colorbar\":{\"outlinewidth\":0,\"ticks\":\"\"},\"colorscale\":[[0.0,\"#0d0887\"],[0.1111111111111111,\"#46039f\"],[0.2222222222222222,\"#7201a8\"],[0.3333333333333333,\"#9c179e\"],[0.4444444444444444,\"#bd3786\"],[0.5555555555555556,\"#d8576b\"],[0.6666666666666666,\"#ed7953\"],[0.7777777777777778,\"#fb9f3a\"],[0.8888888888888888,\"#fdca26\"],[1.0,\"#f0f921\"]]}],\"choropleth\":[{\"type\":\"choropleth\",\"colorbar\":{\"outlinewidth\":0,\"ticks\":\"\"}}],\"histogram2d\":[{\"type\":\"histogram2d\",\"colorbar\":{\"outlinewidth\":0,\"ticks\":\"\"},\"colorscale\":[[0.0,\"#0d0887\"],[0.1111111111111111,\"#46039f\"],[0.2222222222222222,\"#7201a8\"],[0.3333333333333333,\"#9c179e\"],[0.4444444444444444,\"#bd3786\"],[0.5555555555555556,\"#d8576b\"],[0.6666666666666666,\"#ed7953\"],[0.7777777777777778,\"#fb9f3a\"],[0.8888888888888888,\"#fdca26\"],[1.0,\"#f0f921\"]]}],\"heatmap\":[{\"type\":\"heatmap\",\"colorbar\":{\"outlinewidth\":0,\"ticks\":\"\"},\"colorscale\":[[0.0,\"#0d0887\"],[0.1111111111111111,\"#46039f\"],[0.2222222222222222,\"#7201a8\"],[0.3333333333333333,\"#9c179e\"],[0.4444444444444444,\"#bd3786\"],[0.5555555555555556,\"#d8576b\"],[0.6666666666666666,\"#ed7953\"],[0.7777777777777778,\"#fb9f3a\"],[0.8888888888888888,\"#fdca26\"],[1.0,\"#f0f921\"]]}],\"heatmapgl\":[{\"type\":\"heatmapgl\",\"colorbar\":{\"outlinewidth\":0,\"ticks\":\"\"},\"colorscale\":[[0.0,\"#0d0887\"],[0.1111111111111111,\"#46039f\"],[0.2222222222222222,\"#7201a8\"],[0.3333333333333333,\"#9c179e\"],[0.4444444444444444,\"#bd3786\"],[0.5555555555555556,\"#d8576b\"],[0.6666666666666666,\"#ed7953\"],[0.7777777777777778,\"#fb9f3a\"],[0.8888888888888888,\"#fdca26\"],[1.0,\"#f0f921\"]]}],\"contourcarpet\":[{\"type\":\"contourcarpet\",\"colorbar\":{\"outlinewidth\":0,\"ticks\":\"\"}}],\"contour\":[{\"type\":\"contour\",\"colorbar\":{\"outlinewidth\":0,\"ticks\":\"\"},\"colorscale\":[[0.0,\"#0d0887\"],[0.1111111111111111,\"#46039f\"],[0.2222222222222222,\"#7201a8\"],[0.3333333333333333,\"#9c179e\"],[0.4444444444444444,\"#bd3786\"],[0.5555555555555556,\"#d8576b\"],[0.6666666666666666,\"#ed7953\"],[0.7777777777777778,\"#fb9f3a\"],[0.8888888888888888,\"#fdca26\"],[1.0,\"#f0f921\"]]}],\"surface\":[{\"type\":\"surface\",\"colorbar\":{\"outlinewidth\":0,\"ticks\":\"\"},\"colorscale\":[[0.0,\"#0d0887\"],[0.1111111111111111,\"#46039f\"],[0.2222222222222222,\"#7201a8\"],[0.3333333333333333,\"#9c179e\"],[0.4444444444444444,\"#bd3786\"],[0.5555555555555556,\"#d8576b\"],[0.6666666666666666,\"#ed7953\"],[0.7777777777777778,\"#fb9f3a\"],[0.8888888888888888,\"#fdca26\"],[1.0,\"#f0f921\"]]}],\"mesh3d\":[{\"type\":\"mesh3d\",\"colorbar\":{\"outlinewidth\":0,\"ticks\":\"\"}}],\"scatter\":[{\"fillpattern\":{\"fillmode\":\"overlay\",\"size\":10,\"solidity\":0.2},\"type\":\"scatter\"}],\"parcoords\":[{\"type\":\"parcoords\",\"line\":{\"colorbar\":{\"outlinewidth\":0,\"ticks\":\"\"}}}],\"scatterpolargl\":[{\"type\":\"scatterpolargl\",\"marker\":{\"colorbar\":{\"outlinewidth\":0,\"ticks\":\"\"}}}],\"bar\":[{\"error_x\":{\"color\":\"#2a3f5f\"},\"error_y\":{\"color\":\"#2a3f5f\"},\"marker\":{\"line\":{\"color\":\"#E5ECF6\",\"width\":0.5},\"pattern\":{\"fillmode\":\"overlay\",\"size\":10,\"solidity\":0.2}},\"type\":\"bar\"}],\"scattergeo\":[{\"type\":\"scattergeo\",\"marker\":{\"colorbar\":{\"outlinewidth\":0,\"ticks\":\"\"}}}],\"scatterpolar\":[{\"type\":\"scatterpolar\",\"marker\":{\"colorbar\":{\"outlinewidth\":0,\"ticks\":\"\"}}}],\"histogram\":[{\"marker\":{\"pattern\":{\"fillmode\":\"overlay\",\"size\":10,\"solidity\":0.2}},\"type\":\"histogram\"}],\"scattergl\":[{\"type\":\"scattergl\",\"marker\":{\"colorbar\":{\"outlinewidth\":0,\"ticks\":\"\"}}}],\"scatter3d\":[{\"type\":\"scatter3d\",\"line\":{\"colorbar\":{\"outlinewidth\":0,\"ticks\":\"\"}},\"marker\":{\"colorbar\":{\"outlinewidth\":0,\"ticks\":\"\"}}}],\"scattermapbox\":[{\"type\":\"scattermapbox\",\"marker\":{\"colorbar\":{\"outlinewidth\":0,\"ticks\":\"\"}}}],\"scatterternary\":[{\"type\":\"scatterternary\",\"marker\":{\"colorbar\":{\"outlinewidth\":0,\"ticks\":\"\"}}}],\"scattercarpet\":[{\"type\":\"scattercarpet\",\"marker\":{\"colorbar\":{\"outlinewidth\":0,\"ticks\":\"\"}}}],\"carpet\":[{\"aaxis\":{\"endlinecolor\":\"#2a3f5f\",\"gridcolor\":\"white\",\"linecolor\":\"white\",\"minorgridcolor\":\"white\",\"startlinecolor\":\"#2a3f5f\"},\"baxis\":{\"endlinecolor\":\"#2a3f5f\",\"gridcolor\":\"white\",\"linecolor\":\"white\",\"minorgridcolor\":\"white\",\"startlinecolor\":\"#2a3f5f\"},\"type\":\"carpet\"}],\"table\":[{\"cells\":{\"fill\":{\"color\":\"#EBF0F8\"},\"line\":{\"color\":\"white\"}},\"header\":{\"fill\":{\"color\":\"#C8D4E3\"},\"line\":{\"color\":\"white\"}},\"type\":\"table\"}],\"barpolar\":[{\"marker\":{\"line\":{\"color\":\"#E5ECF6\",\"width\":0.5},\"pattern\":{\"fillmode\":\"overlay\",\"size\":10,\"solidity\":0.2}},\"type\":\"barpolar\"}],\"pie\":[{\"automargin\":true,\"type\":\"pie\"}]},\"layout\":{\"autotypenumbers\":\"strict\",\"colorway\":[\"#636efa\",\"#EF553B\",\"#00cc96\",\"#ab63fa\",\"#FFA15A\",\"#19d3f3\",\"#FF6692\",\"#B6E880\",\"#FF97FF\",\"#FECB52\"],\"font\":{\"color\":\"#2a3f5f\"},\"hovermode\":\"closest\",\"hoverlabel\":{\"align\":\"left\"},\"paper_bgcolor\":\"white\",\"plot_bgcolor\":\"#E5ECF6\",\"polar\":{\"bgcolor\":\"#E5ECF6\",\"angularaxis\":{\"gridcolor\":\"white\",\"linecolor\":\"white\",\"ticks\":\"\"},\"radialaxis\":{\"gridcolor\":\"white\",\"linecolor\":\"white\",\"ticks\":\"\"}},\"ternary\":{\"bgcolor\":\"#E5ECF6\",\"aaxis\":{\"gridcolor\":\"white\",\"linecolor\":\"white\",\"ticks\":\"\"},\"baxis\":{\"gridcolor\":\"white\",\"linecolor\":\"white\",\"ticks\":\"\"},\"caxis\":{\"gridcolor\":\"white\",\"linecolor\":\"white\",\"ticks\":\"\"}},\"coloraxis\":{\"colorbar\":{\"outlinewidth\":0,\"ticks\":\"\"}},\"colorscale\":{\"sequential\":[[0.0,\"#0d0887\"],[0.1111111111111111,\"#46039f\"],[0.2222222222222222,\"#7201a8\"],[0.3333333333333333,\"#9c179e\"],[0.4444444444444444,\"#bd3786\"],[0.5555555555555556,\"#d8576b\"],[0.6666666666666666,\"#ed7953\"],[0.7777777777777778,\"#fb9f3a\"],[0.8888888888888888,\"#fdca26\"],[1.0,\"#f0f921\"]],\"sequentialminus\":[[0.0,\"#0d0887\"],[0.1111111111111111,\"#46039f\"],[0.2222222222222222,\"#7201a8\"],[0.3333333333333333,\"#9c179e\"],[0.4444444444444444,\"#bd3786\"],[0.5555555555555556,\"#d8576b\"],[0.6666666666666666,\"#ed7953\"],[0.7777777777777778,\"#fb9f3a\"],[0.8888888888888888,\"#fdca26\"],[1.0,\"#f0f921\"]],\"diverging\":[[0,\"#8e0152\"],[0.1,\"#c51b7d\"],[0.2,\"#de77ae\"],[0.3,\"#f1b6da\"],[0.4,\"#fde0ef\"],[0.5,\"#f7f7f7\"],[0.6,\"#e6f5d0\"],[0.7,\"#b8e186\"],[0.8,\"#7fbc41\"],[0.9,\"#4d9221\"],[1,\"#276419\"]]},\"xaxis\":{\"gridcolor\":\"white\",\"linecolor\":\"white\",\"ticks\":\"\",\"title\":{\"standoff\":15},\"zerolinecolor\":\"white\",\"automargin\":true,\"zerolinewidth\":2},\"yaxis\":{\"gridcolor\":\"white\",\"linecolor\":\"white\",\"ticks\":\"\",\"title\":{\"standoff\":15},\"zerolinecolor\":\"white\",\"automargin\":true,\"zerolinewidth\":2},\"scene\":{\"xaxis\":{\"backgroundcolor\":\"#E5ECF6\",\"gridcolor\":\"white\",\"linecolor\":\"white\",\"showbackground\":true,\"ticks\":\"\",\"zerolinecolor\":\"white\",\"gridwidth\":2},\"yaxis\":{\"backgroundcolor\":\"#E5ECF6\",\"gridcolor\":\"white\",\"linecolor\":\"white\",\"showbackground\":true,\"ticks\":\"\",\"zerolinecolor\":\"white\",\"gridwidth\":2},\"zaxis\":{\"backgroundcolor\":\"#E5ECF6\",\"gridcolor\":\"white\",\"linecolor\":\"white\",\"showbackground\":true,\"ticks\":\"\",\"zerolinecolor\":\"white\",\"gridwidth\":2}},\"shapedefaults\":{\"line\":{\"color\":\"#2a3f5f\"}},\"annotationdefaults\":{\"arrowcolor\":\"#2a3f5f\",\"arrowhead\":0,\"arrowwidth\":1},\"geo\":{\"bgcolor\":\"white\",\"landcolor\":\"#E5ECF6\",\"subunitcolor\":\"white\",\"showland\":true,\"showlakes\":true,\"lakecolor\":\"white\"},\"title\":{\"x\":0.05},\"mapbox\":{\"style\":\"light\"}}},\"xaxis\":{\"anchor\":\"y\",\"domain\":[0.0,1.0],\"title\":{\"text\":\"Reg No: (Registration Details)\"}},\"yaxis\":{\"anchor\":\"x\",\"domain\":[0.0,1.0],\"title\":{\"text\":\"Type: (Geological Details)\"}},\"legend\":{\"tracegroupgap\":0},\"margin\":{\"t\":60}},                        {\"responsive\": true}                    ).then(function(){\n",
       "                            \n",
       "var gd = document.getElementById('378f3172-bce0-4004-86e7-1ac881649a0a');\n",
       "var x = new MutationObserver(function (mutations, observer) {{\n",
       "        var display = window.getComputedStyle(gd).display;\n",
       "        if (!display || display === 'none') {{\n",
       "            console.log([gd, 'removed!']);\n",
       "            Plotly.purge(gd);\n",
       "            observer.disconnect();\n",
       "        }}\n",
       "}});\n",
       "\n",
       "// Listen for the removal of the full notebook cells\n",
       "var notebookContainer = gd.closest('#notebook-container');\n",
       "if (notebookContainer) {{\n",
       "    x.observe(notebookContainer, {childList: true});\n",
       "}}\n",
       "\n",
       "// Listen for the clearing of the current output cell\n",
       "var outputEl = gd.closest('.output');\n",
       "if (outputEl) {{\n",
       "    x.observe(outputEl, {childList: true});\n",
       "}}\n",
       "\n",
       "                        })                };                });            </script>        </div>"
      ]
     },
     "metadata": {},
     "output_type": "display_data"
    },
    {
     "data": {
      "application/vnd.plotly.v1+json": {
       "config": {
        "plotlyServerURL": "https://plot.ly"
       },
       "data": [
        {
         "hovertemplate": " Reg No: (Registration Details) since impact 0=%{x}<br>Type: (Geological Details)=%{y}<extra></extra>",
         "legendgroup": "",
         "marker": {
          "color": "#636efa",
          "symbol": "circle"
         },
         "mode": "markers",
         "name": "",
         "orientation": "h",
         "showlegend": false,
         "type": "scatter",
         "x": [
          40,
          28,
          42,
          41,
          39,
          38,
          155,
          33,
          1,
          163,
          152,
          35,
          70,
          139,
          34,
          135,
          156,
          133,
          164,
          118,
          162,
          62,
          49,
          143,
          91,
          30,
          31,
          29,
          174,
          169,
          130,
          99,
          141,
          95,
          145,
          127,
          46,
          100,
          2,
          61,
          119,
          32,
          18,
          128,
          170,
          16,
          90,
          72,
          80,
          85,
          122,
          121,
          43,
          50,
          115,
          129,
          168,
          106,
          161,
          138,
          45,
          96,
          67,
          20,
          19,
          21,
          68,
          165,
          134,
          109,
          140,
          113,
          36,
          88,
          51,
          79,
          102,
          111,
          167,
          3,
          107,
          104,
          157,
          97,
          56,
          60,
          103,
          4,
          117,
          166,
          54,
          92,
          55,
          63,
          66,
          94,
          87,
          75,
          84,
          82,
          78,
          73,
          74,
          53,
          71,
          144,
          124,
          114,
          86,
          142,
          136,
          147,
          126,
          76,
          89,
          153,
          101,
          83,
          110,
          120,
          171,
          137,
          116,
          105,
          44,
          173,
          14,
          158,
          146,
          131,
          98,
          150,
          160,
          22,
          23,
          26,
          25,
          27,
          24,
          125,
          65,
          47,
          48,
          132,
          123,
          159,
          6,
          108,
          64,
          172,
          154,
          151,
          149,
          148,
          112,
          93,
          81,
          77,
          69,
          59,
          58,
          57,
          52,
          37,
          17,
          15,
          13,
          12,
          11,
          10,
          9,
          8,
          7,
          5,
          0
         ],
         "xaxis": "x",
         "y": [
          "Stone. Chondrite",
          "Iron.",
          "Stone. Chondrite",
          "Stone. Chondrite",
          "Stone. Chondrite",
          "Stony-iron. Pallasite (PAL).",
          "Stone. Olivine-bronzite chondrite (H4).",
          "Stone. Olivine-bronzite chondrite (H4).",
          "H5",
          "Stone. Olivine-bronzite chondrite (H4)",
          "Stone. Olivine-hypersthene chondrite (L6)",
          "Stony-iron. Mesosiderite",
          "Stone. Olivine-hypersthene chondrite (L6), brecciated.",
          "Stone. Olivine-hypersthene chondrite (L4).",
          "Stone. Carbonaceous chondrite (C5).",
          "Stone. Olivine-bronzite chondrite (H4).",
          "Stone. Olivine-bronzite chondrite (H5)",
          "Iron. Ataxite, Ni rich (IRANOM)",
          "Stone. Olivine-bronzite chondrite (H6)",
          "Iron. Octahedrite, medium (0.6mm) (IRANOM)",
          "Iron. Octahedrite, medium (1.2mm)(IIIA)",
          "Stone. Carbonaceous chondrite, type I (C1).",
          "Stone. Olivine-pyroxene chondrite (H6).",
          "Stone. Olivine-hypersthene chondrite (L4).",
          "Stone. Achondrite, Ca-poor. Aubrite (AUB).",
          "Stone. Amphoterite (LL6).",
          "Stone. Achondrite. Eucrite (AEUC).",
          "Stone. Olivine-bronzite chondrite (H5).",
          "Stone. Olivine-hypersthene chondrite (L6)",
          "Stone. Olivine-hypersthene chondrite (L6)",
          "Iron. Octahedrite, medium (0.9mm) (IIIA).",
          "Stone. Olivine-hypersthene chondrite (L6).",
          "Stone. Olivine-bronzite chondrite (H5).",
          "Stone. Carbonaceous chondrite, type III (C3).",
          "Stone. Achondrite, Ca-rich. Howardite (AHOW)",
          "Iron. Octahedrite, medium (0.6mm) (IIIB)",
          "Stone. Olivine-hypersthene chondrite (L3).",
          "Stone. Olivine-bronzite chondrite (H6).",
          "Stone. Chondrite (L).",
          "Stone. Olivine-hypersthene chondrite, amphoterite (LL5).",
          "Stony-iron. Mesosiderite (MES)",
          "Stone. Olivine-bronzite chondrite (H5).",
          "Stone. Olivine-bronzite chondrite (H4).",
          "Iron. Octahedrite, fine (0.3mm) (IVA)",
          "Stone. Olivine-bronzite chondrite (H6)",
          "Stone. Achondrite",
          "Stone. Olivine-hypersthene chondrite (L5).",
          "Stone. Olivine-bronzite chondrite (H4).",
          "Iron. Octahedrite, medium (1.1mm) (IIIB).",
          "Iron. Octahedrite, coarse (2.0mm) (IA).",
          "Stone. Olivine-hypersthene chondrite (L6)",
          "Stone. Olivine-hypersthene chondrite (L6)",
          "Iron.",
          "Iron. Octahedrite, medium (0.9mm) (IIA).",
          "Stone. Olivine-bronzite chondrite (H4)",
          "Stony-iron. Pallasite (PAL).",
          "Stone. Olivine-bronzite chondrite (H5)",
          "Stone. Olivine-hypersthene chondrite (L6).",
          "Stone. Chondrite (LL7) breccia.",
          "Stone. Olivine-hypersthene chondrite (L5).",
          "Stone. Olivine-bronzite chondrite (H5).",
          "Iron. Octahedrite, coarsest (5mm) (IIB).",
          "Stone. Olivine-hypersthene chondrite (L6).",
          "Stone. Olivine-bronzite chondrite (H6).",
          "Stone. Olivine-bronzite chondrite (H5).",
          "Stone. Olivine-bronzite chondrite (H5).",
          "Stone. Olivine-bronzite chondrite (H5).",
          "Stone. Chondrite (H6)",
          "Iron. Octahedrite, coarse (2.0mm) (IA)",
          "Stone. Olivine-bronzite chondrite (H5).",
          "Iron. Octahedrite, coarse (1.4mm) (IIIE)",
          "Stone. Olivine-hypersthene chondrite (L4)",
          "Iron. Octahedrite.",
          "Stony-iron. Pallasite (PAL).",
          "Iron. Octahedrite, coarse (1.4mm) (IA).",
          "Stone. Olivine-bronzite chondrite (H5), brecciated.",
          "Stone. Olivine-hypersthene chondrite (L6).",
          "Stone. Olivine-hypersthene chondrite (L6)",
          "Stone. Olivine-hypersthene chondrite (L3)",
          null,
          "Iron. Hexahedrite? (IA?)",
          "Stone. Olivine-hypersthene chondrite (L6).",
          "Stone. Carbonaceous chondrite (C5).",
          "Stone. Olivine-bronzite chondrite (H5).",
          "Stone. Olivine-hypersthene chondrite (L5).",
          "Stone. Achondrite, Ca rich. Eucrite (AEUC).",
          "Stone. Olivine-bronzite chondrite (H5).",
          null,
          "Stone. Olivine-hypersthene chondrite (L4)",
          "Stone. Olivine-hypersthene chondrite (L6)",
          "Iron. Octahedrite, coarse (2.5mm) (IA).",
          "Stone. Olivine-hypersthene chondrite (L5).",
          "Iron. Octahedrite, medium (0.9mm)(IIIA).",
          "Iron. Octahedrite, coarse (1.7mm) (IA).",
          "Iron. Octahedrite, plessitic (IIF).",
          "Stone. Olivine- hypersthene chondrite (L5).",
          "Stone. Olivine-hypersthene chondrite (L6).",
          "Stone. Olivine-hypersthene chondrite (L6).",
          "Stony-iron. Mesosiderite (MES).",
          "Stone. Olivine-bronzite chondrite (H4), brecciated.",
          "Iron. Octahedrite (IIA).",
          "Iron. Hexahedrite (IRANOM), brecciated.",
          "Stone. Achondrite, Ca-poor. Diogenite (ADIO).",
          "Stone. Olivine-bronzite chondrite (H4).",
          "Stone. Olivine-hypersthene chondrite (L5).",
          "Iron. Anomalous (IC)",
          "Stone. Olivine-bronzite chondrite (H5)",
          "Iron. Octahedrite, medium (0.85mm) (IIIB)",
          "Iron. Octahedrite, coarse (3.0mm) with silicate inclusions (IA).",
          "Stony-iron. Mesosiderite (MES)",
          "Stone. Olivine-bronzite chondrite (H5).",
          "Iron. Octahedrite, medium (0.9mm) (IIIA).",
          "Iron. Ataxite, Ni-rich (IVB)",
          "Iron. Octahedrite, medium (1.2mm) (IIIA).",
          "Stone. Olivine-bronzite chondrite (H5).",
          "Stone. Olivine-hypersthene chondrite (L5)",
          "Stone. Carbonaceous chondrite, type II (CM2).",
          "Stone. Achondrite, Ca-poor. Aubrite (AUB).",
          "Iron. Octahedrite, coarse (2.1mm) (IA)",
          "Stony-iron. Mesosiderite, anomalous (MESANOM)",
          "Stone. Achondrite, Ca-poor (ACANOM)",
          "Iron.  Octahedrite, coarse (2.5mm) (IIE).",
          "Stone. Olivine-bronzite chondrite (H5)",
          "Stone. Olivine-hypersthene chondrite (L4).",
          "Iron. Octahedrite, medium.",
          "Stone. Carbonaceous chondrite, type II (C2)",
          "Stone. Carbonaceous chondrite (CO3.3)",
          "Stone. Olivine-bronzite chondrite (H6) brecciated.",
          "Stone. Olivine-hypersthene chondrite (L6).",
          "Iron. Octahedrite, medium (1.0mm)(IIIA)",
          "Stone. Enstatite chondrite (E4).",
          "Stone. Olivine-hypersthene chondrite (L5)",
          "Stone. Olivine-hypersthene chondrite (L4a)",
          "Stone. Olivine-hypersthene chondrite (L5).",
          "Stone. Olivine-bronzite chondrite (H6).",
          "Stone. Chondrite (L).",
          "Stone. Olivine-bronzite chondrite (H5).",
          "Stone. Olivine-hypersthene chondrite (L5).",
          "Stone. Olivine-bronzite chondrite (H6).",
          "Iron. Octahedrite, coarse (2.1mm) (IA)",
          "Stone. Achondrite, Ca-rich. Nakhlite (ACANOM).",
          "Iron. Octahedrite,fine (0.4mm) with silicate inclusions (IB-ANOM)",
          "Iron. Octahedrite, coarse (2.3mm) (IA).",
          "Iron.  Ataxite (IID-ANOM)",
          "Iron. Octahedrite, medium (0.9mm) (IIIA)",
          "Stone. Olivine-bronzite chondrite (H6)",
          null,
          "Stony-iron. Pallasite (PAL)",
          "Stone. Olivine-hypersthene chondrite (L6).",
          "Stone. Olivine-hypersthene chondrite (L6)",
          "Iron. Octahedrite, medium (1.1mm) (IIIA)",
          "Stone. Olivine-hypersthene chondrite, amphoterite (LL6)xenolithic",
          "Stone. Olivine-hypersthene chondrite (L6)",
          "Stone. Olivine-hypersthene chondrite (L3)",
          "Iron. Hexahedrite (IIA)",
          "Stone. Olivine-bronzite chondrite (H5).",
          "Iron. Octahedrite, fine (0.3mm) (IVA).",
          "Stone. Olivine-hypersthene chondrite (L6).",
          "Stone. Olivine-hypersthene chondrite (L5).",
          "Stone. Olivine-bronzite chondrite (H5), brecciated.",
          "Iron. Octahedrite, medium (0.1mm)(IIIA).",
          "Stone. Olivine-bronzite chondrite (H5).",
          "Stony-iron. Pallasite (PAL).",
          "Iron.",
          "Stone. Olivine-bronzite chondrite (H5).",
          null,
          "Stone. Chondrite, ordinary (L5).",
          "Stone. Lunar (Anorthositic breccia) (Lun-A).",
          "Stone. Enstatite chondrite (EH4).",
          "Iron. Coarsest octahedrite (IIAB).",
          "Iron. Coarsest octahedrite (IIAB).",
          "Iron. Octahedrite, medium (0.9mm) (IIIA).",
          "Iron. Octahedrite, medium (0.9mm) (IIIA).",
          "Iron.",
          "H5"
         ],
         "yaxis": "y"
        }
       ],
       "layout": {
        "legend": {
         "tracegroupgap": 0
        },
        "margin": {
         "t": 60
        },
        "template": {
         "data": {
          "bar": [
           {
            "error_x": {
             "color": "#2a3f5f"
            },
            "error_y": {
             "color": "#2a3f5f"
            },
            "marker": {
             "line": {
              "color": "#E5ECF6",
              "width": 0.5
             },
             "pattern": {
              "fillmode": "overlay",
              "size": 10,
              "solidity": 0.2
             }
            },
            "type": "bar"
           }
          ],
          "barpolar": [
           {
            "marker": {
             "line": {
              "color": "#E5ECF6",
              "width": 0.5
             },
             "pattern": {
              "fillmode": "overlay",
              "size": 10,
              "solidity": 0.2
             }
            },
            "type": "barpolar"
           }
          ],
          "carpet": [
           {
            "aaxis": {
             "endlinecolor": "#2a3f5f",
             "gridcolor": "white",
             "linecolor": "white",
             "minorgridcolor": "white",
             "startlinecolor": "#2a3f5f"
            },
            "baxis": {
             "endlinecolor": "#2a3f5f",
             "gridcolor": "white",
             "linecolor": "white",
             "minorgridcolor": "white",
             "startlinecolor": "#2a3f5f"
            },
            "type": "carpet"
           }
          ],
          "choropleth": [
           {
            "colorbar": {
             "outlinewidth": 0,
             "ticks": ""
            },
            "type": "choropleth"
           }
          ],
          "contour": [
           {
            "colorbar": {
             "outlinewidth": 0,
             "ticks": ""
            },
            "colorscale": [
             [
              0,
              "#0d0887"
             ],
             [
              0.1111111111111111,
              "#46039f"
             ],
             [
              0.2222222222222222,
              "#7201a8"
             ],
             [
              0.3333333333333333,
              "#9c179e"
             ],
             [
              0.4444444444444444,
              "#bd3786"
             ],
             [
              0.5555555555555556,
              "#d8576b"
             ],
             [
              0.6666666666666666,
              "#ed7953"
             ],
             [
              0.7777777777777778,
              "#fb9f3a"
             ],
             [
              0.8888888888888888,
              "#fdca26"
             ],
             [
              1,
              "#f0f921"
             ]
            ],
            "type": "contour"
           }
          ],
          "contourcarpet": [
           {
            "colorbar": {
             "outlinewidth": 0,
             "ticks": ""
            },
            "type": "contourcarpet"
           }
          ],
          "heatmap": [
           {
            "colorbar": {
             "outlinewidth": 0,
             "ticks": ""
            },
            "colorscale": [
             [
              0,
              "#0d0887"
             ],
             [
              0.1111111111111111,
              "#46039f"
             ],
             [
              0.2222222222222222,
              "#7201a8"
             ],
             [
              0.3333333333333333,
              "#9c179e"
             ],
             [
              0.4444444444444444,
              "#bd3786"
             ],
             [
              0.5555555555555556,
              "#d8576b"
             ],
             [
              0.6666666666666666,
              "#ed7953"
             ],
             [
              0.7777777777777778,
              "#fb9f3a"
             ],
             [
              0.8888888888888888,
              "#fdca26"
             ],
             [
              1,
              "#f0f921"
             ]
            ],
            "type": "heatmap"
           }
          ],
          "heatmapgl": [
           {
            "colorbar": {
             "outlinewidth": 0,
             "ticks": ""
            },
            "colorscale": [
             [
              0,
              "#0d0887"
             ],
             [
              0.1111111111111111,
              "#46039f"
             ],
             [
              0.2222222222222222,
              "#7201a8"
             ],
             [
              0.3333333333333333,
              "#9c179e"
             ],
             [
              0.4444444444444444,
              "#bd3786"
             ],
             [
              0.5555555555555556,
              "#d8576b"
             ],
             [
              0.6666666666666666,
              "#ed7953"
             ],
             [
              0.7777777777777778,
              "#fb9f3a"
             ],
             [
              0.8888888888888888,
              "#fdca26"
             ],
             [
              1,
              "#f0f921"
             ]
            ],
            "type": "heatmapgl"
           }
          ],
          "histogram": [
           {
            "marker": {
             "pattern": {
              "fillmode": "overlay",
              "size": 10,
              "solidity": 0.2
             }
            },
            "type": "histogram"
           }
          ],
          "histogram2d": [
           {
            "colorbar": {
             "outlinewidth": 0,
             "ticks": ""
            },
            "colorscale": [
             [
              0,
              "#0d0887"
             ],
             [
              0.1111111111111111,
              "#46039f"
             ],
             [
              0.2222222222222222,
              "#7201a8"
             ],
             [
              0.3333333333333333,
              "#9c179e"
             ],
             [
              0.4444444444444444,
              "#bd3786"
             ],
             [
              0.5555555555555556,
              "#d8576b"
             ],
             [
              0.6666666666666666,
              "#ed7953"
             ],
             [
              0.7777777777777778,
              "#fb9f3a"
             ],
             [
              0.8888888888888888,
              "#fdca26"
             ],
             [
              1,
              "#f0f921"
             ]
            ],
            "type": "histogram2d"
           }
          ],
          "histogram2dcontour": [
           {
            "colorbar": {
             "outlinewidth": 0,
             "ticks": ""
            },
            "colorscale": [
             [
              0,
              "#0d0887"
             ],
             [
              0.1111111111111111,
              "#46039f"
             ],
             [
              0.2222222222222222,
              "#7201a8"
             ],
             [
              0.3333333333333333,
              "#9c179e"
             ],
             [
              0.4444444444444444,
              "#bd3786"
             ],
             [
              0.5555555555555556,
              "#d8576b"
             ],
             [
              0.6666666666666666,
              "#ed7953"
             ],
             [
              0.7777777777777778,
              "#fb9f3a"
             ],
             [
              0.8888888888888888,
              "#fdca26"
             ],
             [
              1,
              "#f0f921"
             ]
            ],
            "type": "histogram2dcontour"
           }
          ],
          "mesh3d": [
           {
            "colorbar": {
             "outlinewidth": 0,
             "ticks": ""
            },
            "type": "mesh3d"
           }
          ],
          "parcoords": [
           {
            "line": {
             "colorbar": {
              "outlinewidth": 0,
              "ticks": ""
             }
            },
            "type": "parcoords"
           }
          ],
          "pie": [
           {
            "automargin": true,
            "type": "pie"
           }
          ],
          "scatter": [
           {
            "fillpattern": {
             "fillmode": "overlay",
             "size": 10,
             "solidity": 0.2
            },
            "type": "scatter"
           }
          ],
          "scatter3d": [
           {
            "line": {
             "colorbar": {
              "outlinewidth": 0,
              "ticks": ""
             }
            },
            "marker": {
             "colorbar": {
              "outlinewidth": 0,
              "ticks": ""
             }
            },
            "type": "scatter3d"
           }
          ],
          "scattercarpet": [
           {
            "marker": {
             "colorbar": {
              "outlinewidth": 0,
              "ticks": ""
             }
            },
            "type": "scattercarpet"
           }
          ],
          "scattergeo": [
           {
            "marker": {
             "colorbar": {
              "outlinewidth": 0,
              "ticks": ""
             }
            },
            "type": "scattergeo"
           }
          ],
          "scattergl": [
           {
            "marker": {
             "colorbar": {
              "outlinewidth": 0,
              "ticks": ""
             }
            },
            "type": "scattergl"
           }
          ],
          "scattermapbox": [
           {
            "marker": {
             "colorbar": {
              "outlinewidth": 0,
              "ticks": ""
             }
            },
            "type": "scattermapbox"
           }
          ],
          "scatterpolar": [
           {
            "marker": {
             "colorbar": {
              "outlinewidth": 0,
              "ticks": ""
             }
            },
            "type": "scatterpolar"
           }
          ],
          "scatterpolargl": [
           {
            "marker": {
             "colorbar": {
              "outlinewidth": 0,
              "ticks": ""
             }
            },
            "type": "scatterpolargl"
           }
          ],
          "scatterternary": [
           {
            "marker": {
             "colorbar": {
              "outlinewidth": 0,
              "ticks": ""
             }
            },
            "type": "scatterternary"
           }
          ],
          "surface": [
           {
            "colorbar": {
             "outlinewidth": 0,
             "ticks": ""
            },
            "colorscale": [
             [
              0,
              "#0d0887"
             ],
             [
              0.1111111111111111,
              "#46039f"
             ],
             [
              0.2222222222222222,
              "#7201a8"
             ],
             [
              0.3333333333333333,
              "#9c179e"
             ],
             [
              0.4444444444444444,
              "#bd3786"
             ],
             [
              0.5555555555555556,
              "#d8576b"
             ],
             [
              0.6666666666666666,
              "#ed7953"
             ],
             [
              0.7777777777777778,
              "#fb9f3a"
             ],
             [
              0.8888888888888888,
              "#fdca26"
             ],
             [
              1,
              "#f0f921"
             ]
            ],
            "type": "surface"
           }
          ],
          "table": [
           {
            "cells": {
             "fill": {
              "color": "#EBF0F8"
             },
             "line": {
              "color": "white"
             }
            },
            "header": {
             "fill": {
              "color": "#C8D4E3"
             },
             "line": {
              "color": "white"
             }
            },
            "type": "table"
           }
          ]
         },
         "layout": {
          "annotationdefaults": {
           "arrowcolor": "#2a3f5f",
           "arrowhead": 0,
           "arrowwidth": 1
          },
          "autotypenumbers": "strict",
          "coloraxis": {
           "colorbar": {
            "outlinewidth": 0,
            "ticks": ""
           }
          },
          "colorscale": {
           "diverging": [
            [
             0,
             "#8e0152"
            ],
            [
             0.1,
             "#c51b7d"
            ],
            [
             0.2,
             "#de77ae"
            ],
            [
             0.3,
             "#f1b6da"
            ],
            [
             0.4,
             "#fde0ef"
            ],
            [
             0.5,
             "#f7f7f7"
            ],
            [
             0.6,
             "#e6f5d0"
            ],
            [
             0.7,
             "#b8e186"
            ],
            [
             0.8,
             "#7fbc41"
            ],
            [
             0.9,
             "#4d9221"
            ],
            [
             1,
             "#276419"
            ]
           ],
           "sequential": [
            [
             0,
             "#0d0887"
            ],
            [
             0.1111111111111111,
             "#46039f"
            ],
            [
             0.2222222222222222,
             "#7201a8"
            ],
            [
             0.3333333333333333,
             "#9c179e"
            ],
            [
             0.4444444444444444,
             "#bd3786"
            ],
            [
             0.5555555555555556,
             "#d8576b"
            ],
            [
             0.6666666666666666,
             "#ed7953"
            ],
            [
             0.7777777777777778,
             "#fb9f3a"
            ],
            [
             0.8888888888888888,
             "#fdca26"
            ],
            [
             1,
             "#f0f921"
            ]
           ],
           "sequentialminus": [
            [
             0,
             "#0d0887"
            ],
            [
             0.1111111111111111,
             "#46039f"
            ],
            [
             0.2222222222222222,
             "#7201a8"
            ],
            [
             0.3333333333333333,
             "#9c179e"
            ],
            [
             0.4444444444444444,
             "#bd3786"
            ],
            [
             0.5555555555555556,
             "#d8576b"
            ],
            [
             0.6666666666666666,
             "#ed7953"
            ],
            [
             0.7777777777777778,
             "#fb9f3a"
            ],
            [
             0.8888888888888888,
             "#fdca26"
            ],
            [
             1,
             "#f0f921"
            ]
           ]
          },
          "colorway": [
           "#636efa",
           "#EF553B",
           "#00cc96",
           "#ab63fa",
           "#FFA15A",
           "#19d3f3",
           "#FF6692",
           "#B6E880",
           "#FF97FF",
           "#FECB52"
          ],
          "font": {
           "color": "#2a3f5f"
          },
          "geo": {
           "bgcolor": "white",
           "lakecolor": "white",
           "landcolor": "#E5ECF6",
           "showlakes": true,
           "showland": true,
           "subunitcolor": "white"
          },
          "hoverlabel": {
           "align": "left"
          },
          "hovermode": "closest",
          "mapbox": {
           "style": "light"
          },
          "paper_bgcolor": "white",
          "plot_bgcolor": "#E5ECF6",
          "polar": {
           "angularaxis": {
            "gridcolor": "white",
            "linecolor": "white",
            "ticks": ""
           },
           "bgcolor": "#E5ECF6",
           "radialaxis": {
            "gridcolor": "white",
            "linecolor": "white",
            "ticks": ""
           }
          },
          "scene": {
           "xaxis": {
            "backgroundcolor": "#E5ECF6",
            "gridcolor": "white",
            "gridwidth": 2,
            "linecolor": "white",
            "showbackground": true,
            "ticks": "",
            "zerolinecolor": "white"
           },
           "yaxis": {
            "backgroundcolor": "#E5ECF6",
            "gridcolor": "white",
            "gridwidth": 2,
            "linecolor": "white",
            "showbackground": true,
            "ticks": "",
            "zerolinecolor": "white"
           },
           "zaxis": {
            "backgroundcolor": "#E5ECF6",
            "gridcolor": "white",
            "gridwidth": 2,
            "linecolor": "white",
            "showbackground": true,
            "ticks": "",
            "zerolinecolor": "white"
           }
          },
          "shapedefaults": {
           "line": {
            "color": "#2a3f5f"
           }
          },
          "ternary": {
           "aaxis": {
            "gridcolor": "white",
            "linecolor": "white",
            "ticks": ""
           },
           "baxis": {
            "gridcolor": "white",
            "linecolor": "white",
            "ticks": ""
           },
           "bgcolor": "#E5ECF6",
           "caxis": {
            "gridcolor": "white",
            "linecolor": "white",
            "ticks": ""
           }
          },
          "title": {
           "x": 0.05
          },
          "xaxis": {
           "automargin": true,
           "gridcolor": "white",
           "linecolor": "white",
           "ticks": "",
           "title": {
            "standoff": 15
           },
           "zerolinecolor": "white",
           "zerolinewidth": 2
          },
          "yaxis": {
           "automargin": true,
           "gridcolor": "white",
           "linecolor": "white",
           "ticks": "",
           "title": {
            "standoff": 15
           },
           "zerolinecolor": "white",
           "zerolinewidth": 2
          }
         }
        },
        "xaxis": {
         "anchor": "y",
         "domain": [
          0,
          1
         ],
         "title": {
          "text": " Reg No: (Registration Details) since impact 0"
         }
        },
        "yaxis": {
         "anchor": "x",
         "domain": [
          0,
          1
         ],
         "title": {
          "text": "Type: (Geological Details)"
         }
        }
       }
      },
      "text/html": [
       "<div>                            <div id=\"32f6f009-19eb-4b31-89cd-e3534e836dcd\" class=\"plotly-graph-div\" style=\"height:525px; width:100%;\"></div>            <script type=\"text/javascript\">                require([\"plotly\"], function(Plotly) {                    window.PLOTLYENV=window.PLOTLYENV || {};                                    if (document.getElementById(\"32f6f009-19eb-4b31-89cd-e3534e836dcd\")) {                    Plotly.newPlot(                        \"32f6f009-19eb-4b31-89cd-e3534e836dcd\",                        [{\"hovertemplate\":\" Reg No: (Registration Details) since impact 0=%{x}\\u003cbr\\u003eType: (Geological Details)=%{y}\\u003cextra\\u003e\\u003c\\u002fextra\\u003e\",\"legendgroup\":\"\",\"marker\":{\"color\":\"#636efa\",\"symbol\":\"circle\"},\"mode\":\"markers\",\"name\":\"\",\"orientation\":\"h\",\"showlegend\":false,\"x\":[40,28,42,41,39,38,155,33,1,163,152,35,70,139,34,135,156,133,164,118,162,62,49,143,91,30,31,29,174,169,130,99,141,95,145,127,46,100,2,61,119,32,18,128,170,16,90,72,80,85,122,121,43,50,115,129,168,106,161,138,45,96,67,20,19,21,68,165,134,109,140,113,36,88,51,79,102,111,167,3,107,104,157,97,56,60,103,4,117,166,54,92,55,63,66,94,87,75,84,82,78,73,74,53,71,144,124,114,86,142,136,147,126,76,89,153,101,83,110,120,171,137,116,105,44,173,14,158,146,131,98,150,160,22,23,26,25,27,24,125,65,47,48,132,123,159,6,108,64,172,154,151,149,148,112,93,81,77,69,59,58,57,52,37,17,15,13,12,11,10,9,8,7,5,0],\"xaxis\":\"x\",\"y\":[\"Stone. Chondrite\",\"Iron.\",\"Stone. Chondrite\",\"Stone. Chondrite\",\"Stone. Chondrite\",\"Stony-iron. Pallasite (PAL).\",\"Stone. Olivine-bronzite chondrite (H4).\",\"Stone. Olivine-bronzite chondrite (H4).\",\"H5\",\"Stone. Olivine-bronzite chondrite (H4)\",\"Stone. Olivine-hypersthene chondrite (L6)\",\"Stony-iron. Mesosiderite\",\"Stone. Olivine-hypersthene chondrite (L6), brecciated.\",\"Stone. Olivine-hypersthene chondrite (L4).\",\"Stone. Carbonaceous chondrite (C5).\",\"Stone. Olivine-bronzite chondrite (H4).\",\"Stone. Olivine-bronzite chondrite (H5)\",\"Iron. Ataxite, Ni rich (IRANOM)\",\"Stone. Olivine-bronzite chondrite (H6)\",\"Iron. Octahedrite, medium (0.6mm) (IRANOM)\",\"Iron. Octahedrite, medium (1.2mm)(IIIA)\",\"Stone. Carbonaceous chondrite, type I (C1).\",\"Stone. Olivine-pyroxene chondrite (H6).\",\"Stone. Olivine-hypersthene chondrite (L4).\",\"Stone. Achondrite, Ca-poor. Aubrite (AUB).\",\"Stone. Amphoterite (LL6).\",\"Stone. Achondrite. Eucrite (AEUC).\",\"Stone. Olivine-bronzite chondrite (H5).\",\"Stone. Olivine-hypersthene chondrite (L6)\",\"Stone. Olivine-hypersthene chondrite (L6)\",\"Iron. Octahedrite, medium (0.9mm) (IIIA).\",\"Stone. Olivine-hypersthene chondrite (L6).\",\"Stone. Olivine-bronzite chondrite (H5).\",\"Stone. Carbonaceous chondrite, type III (C3).\",\"Stone. Achondrite, Ca-rich. Howardite (AHOW)\",\"Iron. Octahedrite, medium (0.6mm) (IIIB)\",\"Stone. Olivine-hypersthene chondrite (L3).\",\"Stone. Olivine-bronzite chondrite (H6).\",\"Stone. Chondrite (L).\",\"Stone. Olivine-hypersthene chondrite, amphoterite (LL5).\",\"Stony-iron. Mesosiderite (MES)\",\"Stone. Olivine-bronzite chondrite (H5).\",\"Stone. Olivine-bronzite chondrite (H4).\",\"Iron. Octahedrite, fine (0.3mm) (IVA)\",\"Stone. Olivine-bronzite chondrite (H6)\",\"Stone. Achondrite\",\"Stone. Olivine-hypersthene chondrite (L5).\",\"Stone. Olivine-bronzite chondrite (H4).\",\"Iron. Octahedrite, medium (1.1mm) (IIIB).\",\"Iron. Octahedrite, coarse (2.0mm) (IA).\",\"Stone. Olivine-hypersthene chondrite (L6)\",\"Stone. Olivine-hypersthene chondrite (L6)\",\"Iron.\",\"Iron. Octahedrite, medium (0.9mm) (IIA).\",\"Stone. Olivine-bronzite chondrite (H4)\",\"Stony-iron. Pallasite (PAL).\",\"Stone. Olivine-bronzite chondrite (H5)\",\"Stone. Olivine-hypersthene chondrite (L6).\",\"Stone. Chondrite (LL7) breccia.\",\"Stone. Olivine-hypersthene chondrite (L5).\",\"Stone. Olivine-bronzite chondrite (H5).\",\"Iron. Octahedrite, coarsest (5mm) (IIB).\",\"Stone. Olivine-hypersthene chondrite (L6).\",\"Stone. Olivine-bronzite chondrite (H6).\",\"Stone. Olivine-bronzite chondrite (H5).\",\"Stone. Olivine-bronzite chondrite (H5).\",\"Stone. Olivine-bronzite chondrite (H5).\",\"Stone. Chondrite (H6)\",\"Iron. Octahedrite, coarse (2.0mm) (IA)\",\"Stone. Olivine-bronzite chondrite (H5).\",\"Iron. Octahedrite, coarse (1.4mm) (IIIE)\",\"Stone. Olivine-hypersthene chondrite (L4)\",\"Iron. Octahedrite.\",\"Stony-iron. Pallasite (PAL).\",\"Iron. Octahedrite, coarse (1.4mm) (IA).\",\"Stone. Olivine-bronzite chondrite (H5), brecciated.\",\"Stone. Olivine-hypersthene chondrite (L6).\",\"Stone. Olivine-hypersthene chondrite (L6)\",\"Stone. Olivine-hypersthene chondrite (L3)\",null,\"Iron. Hexahedrite? (IA?)\",\"Stone. Olivine-hypersthene chondrite (L6).\",\"Stone. Carbonaceous chondrite (C5).\",\"Stone. Olivine-bronzite chondrite (H5).\",\"Stone. Olivine-hypersthene chondrite (L5).\",\"Stone. Achondrite, Ca rich. Eucrite (AEUC).\",\"Stone. Olivine-bronzite chondrite (H5).\",null,\"Stone. Olivine-hypersthene chondrite (L4)\",\"Stone. Olivine-hypersthene chondrite (L6)\",\"Iron. Octahedrite, coarse (2.5mm) (IA).\",\"Stone. Olivine-hypersthene chondrite (L5).\",\"Iron. Octahedrite, medium (0.9mm)(IIIA).\",\"Iron. Octahedrite, coarse (1.7mm) (IA).\",\"Iron. Octahedrite, plessitic (IIF).\",\"Stone. Olivine- hypersthene chondrite (L5).\",\"Stone. Olivine-hypersthene chondrite (L6).\",\"Stone. Olivine-hypersthene chondrite (L6).\",\"Stony-iron. Mesosiderite (MES).\",\"Stone. Olivine-bronzite chondrite (H4), brecciated.\",\"Iron. Octahedrite (IIA).\",\"Iron. Hexahedrite (IRANOM), brecciated.\",\"Stone. Achondrite, Ca-poor. Diogenite (ADIO).\",\"Stone. Olivine-bronzite chondrite (H4).\",\"Stone. Olivine-hypersthene chondrite (L5).\",\"Iron. Anomalous (IC)\",\"Stone. Olivine-bronzite chondrite (H5)\",\"Iron. Octahedrite, medium (0.85mm) (IIIB)\",\"Iron. Octahedrite, coarse (3.0mm) with silicate inclusions (IA).\",\"Stony-iron. Mesosiderite (MES)\",\"Stone. Olivine-bronzite chondrite (H5).\",\"Iron. Octahedrite, medium (0.9mm) (IIIA).\",\"Iron. Ataxite, Ni-rich (IVB)\",\"Iron. Octahedrite, medium (1.2mm) (IIIA).\",\"Stone. Olivine-bronzite chondrite (H5).\",\"Stone. Olivine-hypersthene chondrite (L5)\",\"Stone. Carbonaceous chondrite, type II (CM2).\",\"Stone. Achondrite, Ca-poor. Aubrite (AUB).\",\"Iron. Octahedrite, coarse (2.1mm) (IA)\",\"Stony-iron. Mesosiderite, anomalous (MESANOM)\",\"Stone. Achondrite, Ca-poor (ACANOM)\",\"Iron.  Octahedrite, coarse (2.5mm) (IIE).\",\"Stone. Olivine-bronzite chondrite (H5)\",\"Stone. Olivine-hypersthene chondrite (L4).\",\"Iron. Octahedrite, medium.\",\"Stone. Carbonaceous chondrite, type II (C2)\",\"Stone. Carbonaceous chondrite (CO3.3)\",\"Stone. Olivine-bronzite chondrite (H6) brecciated.\",\"Stone. Olivine-hypersthene chondrite (L6).\",\"Iron. Octahedrite, medium (1.0mm)(IIIA)\",\"Stone. Enstatite chondrite (E4).\",\"Stone. Olivine-hypersthene chondrite (L5)\",\"Stone. Olivine-hypersthene chondrite (L4a)\",\"Stone. Olivine-hypersthene chondrite (L5).\",\"Stone. Olivine-bronzite chondrite (H6).\",\"Stone. Chondrite (L).\",\"Stone. Olivine-bronzite chondrite (H5).\",\"Stone. Olivine-hypersthene chondrite (L5).\",\"Stone. Olivine-bronzite chondrite (H6).\",\"Iron. Octahedrite, coarse (2.1mm) (IA)\",\"Stone. Achondrite, Ca-rich. Nakhlite (ACANOM).\",\"Iron. Octahedrite,fine (0.4mm) with silicate inclusions (IB-ANOM)\",\"Iron. Octahedrite, coarse (2.3mm) (IA).\",\"Iron.  Ataxite (IID-ANOM)\",\"Iron. Octahedrite, medium (0.9mm) (IIIA)\",\"Stone. Olivine-bronzite chondrite (H6)\",null,\"Stony-iron. Pallasite (PAL)\",\"Stone. Olivine-hypersthene chondrite (L6).\",\"Stone. Olivine-hypersthene chondrite (L6)\",\"Iron. Octahedrite, medium (1.1mm) (IIIA)\",\"Stone. Olivine-hypersthene chondrite, amphoterite (LL6)xenolithic\",\"Stone. Olivine-hypersthene chondrite (L6)\",\"Stone. Olivine-hypersthene chondrite (L3)\",\"Iron. Hexahedrite (IIA)\",\"Stone. Olivine-bronzite chondrite (H5).\",\"Iron. Octahedrite, fine (0.3mm) (IVA).\",\"Stone. Olivine-hypersthene chondrite (L6).\",\"Stone. Olivine-hypersthene chondrite (L5).\",\"Stone. Olivine-bronzite chondrite (H5), brecciated.\",\"Iron. Octahedrite, medium (0.1mm)(IIIA).\",\"Stone. Olivine-bronzite chondrite (H5).\",\"Stony-iron. Pallasite (PAL).\",\"Iron.\",\"Stone. Olivine-bronzite chondrite (H5).\",null,\"Stone. Chondrite, ordinary (L5).\",\"Stone. Lunar (Anorthositic breccia) (Lun-A).\",\"Stone. Enstatite chondrite (EH4).\",\"Iron. Coarsest octahedrite (IIAB).\",\"Iron. Coarsest octahedrite (IIAB).\",\"Iron. Octahedrite, medium (0.9mm) (IIIA).\",\"Iron. Octahedrite, medium (0.9mm) (IIIA).\",\"Iron.\",\"H5\"],\"yaxis\":\"y\",\"type\":\"scatter\"}],                        {\"template\":{\"data\":{\"histogram2dcontour\":[{\"type\":\"histogram2dcontour\",\"colorbar\":{\"outlinewidth\":0,\"ticks\":\"\"},\"colorscale\":[[0.0,\"#0d0887\"],[0.1111111111111111,\"#46039f\"],[0.2222222222222222,\"#7201a8\"],[0.3333333333333333,\"#9c179e\"],[0.4444444444444444,\"#bd3786\"],[0.5555555555555556,\"#d8576b\"],[0.6666666666666666,\"#ed7953\"],[0.7777777777777778,\"#fb9f3a\"],[0.8888888888888888,\"#fdca26\"],[1.0,\"#f0f921\"]]}],\"choropleth\":[{\"type\":\"choropleth\",\"colorbar\":{\"outlinewidth\":0,\"ticks\":\"\"}}],\"histogram2d\":[{\"type\":\"histogram2d\",\"colorbar\":{\"outlinewidth\":0,\"ticks\":\"\"},\"colorscale\":[[0.0,\"#0d0887\"],[0.1111111111111111,\"#46039f\"],[0.2222222222222222,\"#7201a8\"],[0.3333333333333333,\"#9c179e\"],[0.4444444444444444,\"#bd3786\"],[0.5555555555555556,\"#d8576b\"],[0.6666666666666666,\"#ed7953\"],[0.7777777777777778,\"#fb9f3a\"],[0.8888888888888888,\"#fdca26\"],[1.0,\"#f0f921\"]]}],\"heatmap\":[{\"type\":\"heatmap\",\"colorbar\":{\"outlinewidth\":0,\"ticks\":\"\"},\"colorscale\":[[0.0,\"#0d0887\"],[0.1111111111111111,\"#46039f\"],[0.2222222222222222,\"#7201a8\"],[0.3333333333333333,\"#9c179e\"],[0.4444444444444444,\"#bd3786\"],[0.5555555555555556,\"#d8576b\"],[0.6666666666666666,\"#ed7953\"],[0.7777777777777778,\"#fb9f3a\"],[0.8888888888888888,\"#fdca26\"],[1.0,\"#f0f921\"]]}],\"heatmapgl\":[{\"type\":\"heatmapgl\",\"colorbar\":{\"outlinewidth\":0,\"ticks\":\"\"},\"colorscale\":[[0.0,\"#0d0887\"],[0.1111111111111111,\"#46039f\"],[0.2222222222222222,\"#7201a8\"],[0.3333333333333333,\"#9c179e\"],[0.4444444444444444,\"#bd3786\"],[0.5555555555555556,\"#d8576b\"],[0.6666666666666666,\"#ed7953\"],[0.7777777777777778,\"#fb9f3a\"],[0.8888888888888888,\"#fdca26\"],[1.0,\"#f0f921\"]]}],\"contourcarpet\":[{\"type\":\"contourcarpet\",\"colorbar\":{\"outlinewidth\":0,\"ticks\":\"\"}}],\"contour\":[{\"type\":\"contour\",\"colorbar\":{\"outlinewidth\":0,\"ticks\":\"\"},\"colorscale\":[[0.0,\"#0d0887\"],[0.1111111111111111,\"#46039f\"],[0.2222222222222222,\"#7201a8\"],[0.3333333333333333,\"#9c179e\"],[0.4444444444444444,\"#bd3786\"],[0.5555555555555556,\"#d8576b\"],[0.6666666666666666,\"#ed7953\"],[0.7777777777777778,\"#fb9f3a\"],[0.8888888888888888,\"#fdca26\"],[1.0,\"#f0f921\"]]}],\"surface\":[{\"type\":\"surface\",\"colorbar\":{\"outlinewidth\":0,\"ticks\":\"\"},\"colorscale\":[[0.0,\"#0d0887\"],[0.1111111111111111,\"#46039f\"],[0.2222222222222222,\"#7201a8\"],[0.3333333333333333,\"#9c179e\"],[0.4444444444444444,\"#bd3786\"],[0.5555555555555556,\"#d8576b\"],[0.6666666666666666,\"#ed7953\"],[0.7777777777777778,\"#fb9f3a\"],[0.8888888888888888,\"#fdca26\"],[1.0,\"#f0f921\"]]}],\"mesh3d\":[{\"type\":\"mesh3d\",\"colorbar\":{\"outlinewidth\":0,\"ticks\":\"\"}}],\"scatter\":[{\"fillpattern\":{\"fillmode\":\"overlay\",\"size\":10,\"solidity\":0.2},\"type\":\"scatter\"}],\"parcoords\":[{\"type\":\"parcoords\",\"line\":{\"colorbar\":{\"outlinewidth\":0,\"ticks\":\"\"}}}],\"scatterpolargl\":[{\"type\":\"scatterpolargl\",\"marker\":{\"colorbar\":{\"outlinewidth\":0,\"ticks\":\"\"}}}],\"bar\":[{\"error_x\":{\"color\":\"#2a3f5f\"},\"error_y\":{\"color\":\"#2a3f5f\"},\"marker\":{\"line\":{\"color\":\"#E5ECF6\",\"width\":0.5},\"pattern\":{\"fillmode\":\"overlay\",\"size\":10,\"solidity\":0.2}},\"type\":\"bar\"}],\"scattergeo\":[{\"type\":\"scattergeo\",\"marker\":{\"colorbar\":{\"outlinewidth\":0,\"ticks\":\"\"}}}],\"scatterpolar\":[{\"type\":\"scatterpolar\",\"marker\":{\"colorbar\":{\"outlinewidth\":0,\"ticks\":\"\"}}}],\"histogram\":[{\"marker\":{\"pattern\":{\"fillmode\":\"overlay\",\"size\":10,\"solidity\":0.2}},\"type\":\"histogram\"}],\"scattergl\":[{\"type\":\"scattergl\",\"marker\":{\"colorbar\":{\"outlinewidth\":0,\"ticks\":\"\"}}}],\"scatter3d\":[{\"type\":\"scatter3d\",\"line\":{\"colorbar\":{\"outlinewidth\":0,\"ticks\":\"\"}},\"marker\":{\"colorbar\":{\"outlinewidth\":0,\"ticks\":\"\"}}}],\"scattermapbox\":[{\"type\":\"scattermapbox\",\"marker\":{\"colorbar\":{\"outlinewidth\":0,\"ticks\":\"\"}}}],\"scatterternary\":[{\"type\":\"scatterternary\",\"marker\":{\"colorbar\":{\"outlinewidth\":0,\"ticks\":\"\"}}}],\"scattercarpet\":[{\"type\":\"scattercarpet\",\"marker\":{\"colorbar\":{\"outlinewidth\":0,\"ticks\":\"\"}}}],\"carpet\":[{\"aaxis\":{\"endlinecolor\":\"#2a3f5f\",\"gridcolor\":\"white\",\"linecolor\":\"white\",\"minorgridcolor\":\"white\",\"startlinecolor\":\"#2a3f5f\"},\"baxis\":{\"endlinecolor\":\"#2a3f5f\",\"gridcolor\":\"white\",\"linecolor\":\"white\",\"minorgridcolor\":\"white\",\"startlinecolor\":\"#2a3f5f\"},\"type\":\"carpet\"}],\"table\":[{\"cells\":{\"fill\":{\"color\":\"#EBF0F8\"},\"line\":{\"color\":\"white\"}},\"header\":{\"fill\":{\"color\":\"#C8D4E3\"},\"line\":{\"color\":\"white\"}},\"type\":\"table\"}],\"barpolar\":[{\"marker\":{\"line\":{\"color\":\"#E5ECF6\",\"width\":0.5},\"pattern\":{\"fillmode\":\"overlay\",\"size\":10,\"solidity\":0.2}},\"type\":\"barpolar\"}],\"pie\":[{\"automargin\":true,\"type\":\"pie\"}]},\"layout\":{\"autotypenumbers\":\"strict\",\"colorway\":[\"#636efa\",\"#EF553B\",\"#00cc96\",\"#ab63fa\",\"#FFA15A\",\"#19d3f3\",\"#FF6692\",\"#B6E880\",\"#FF97FF\",\"#FECB52\"],\"font\":{\"color\":\"#2a3f5f\"},\"hovermode\":\"closest\",\"hoverlabel\":{\"align\":\"left\"},\"paper_bgcolor\":\"white\",\"plot_bgcolor\":\"#E5ECF6\",\"polar\":{\"bgcolor\":\"#E5ECF6\",\"angularaxis\":{\"gridcolor\":\"white\",\"linecolor\":\"white\",\"ticks\":\"\"},\"radialaxis\":{\"gridcolor\":\"white\",\"linecolor\":\"white\",\"ticks\":\"\"}},\"ternary\":{\"bgcolor\":\"#E5ECF6\",\"aaxis\":{\"gridcolor\":\"white\",\"linecolor\":\"white\",\"ticks\":\"\"},\"baxis\":{\"gridcolor\":\"white\",\"linecolor\":\"white\",\"ticks\":\"\"},\"caxis\":{\"gridcolor\":\"white\",\"linecolor\":\"white\",\"ticks\":\"\"}},\"coloraxis\":{\"colorbar\":{\"outlinewidth\":0,\"ticks\":\"\"}},\"colorscale\":{\"sequential\":[[0.0,\"#0d0887\"],[0.1111111111111111,\"#46039f\"],[0.2222222222222222,\"#7201a8\"],[0.3333333333333333,\"#9c179e\"],[0.4444444444444444,\"#bd3786\"],[0.5555555555555556,\"#d8576b\"],[0.6666666666666666,\"#ed7953\"],[0.7777777777777778,\"#fb9f3a\"],[0.8888888888888888,\"#fdca26\"],[1.0,\"#f0f921\"]],\"sequentialminus\":[[0.0,\"#0d0887\"],[0.1111111111111111,\"#46039f\"],[0.2222222222222222,\"#7201a8\"],[0.3333333333333333,\"#9c179e\"],[0.4444444444444444,\"#bd3786\"],[0.5555555555555556,\"#d8576b\"],[0.6666666666666666,\"#ed7953\"],[0.7777777777777778,\"#fb9f3a\"],[0.8888888888888888,\"#fdca26\"],[1.0,\"#f0f921\"]],\"diverging\":[[0,\"#8e0152\"],[0.1,\"#c51b7d\"],[0.2,\"#de77ae\"],[0.3,\"#f1b6da\"],[0.4,\"#fde0ef\"],[0.5,\"#f7f7f7\"],[0.6,\"#e6f5d0\"],[0.7,\"#b8e186\"],[0.8,\"#7fbc41\"],[0.9,\"#4d9221\"],[1,\"#276419\"]]},\"xaxis\":{\"gridcolor\":\"white\",\"linecolor\":\"white\",\"ticks\":\"\",\"title\":{\"standoff\":15},\"zerolinecolor\":\"white\",\"automargin\":true,\"zerolinewidth\":2},\"yaxis\":{\"gridcolor\":\"white\",\"linecolor\":\"white\",\"ticks\":\"\",\"title\":{\"standoff\":15},\"zerolinecolor\":\"white\",\"automargin\":true,\"zerolinewidth\":2},\"scene\":{\"xaxis\":{\"backgroundcolor\":\"#E5ECF6\",\"gridcolor\":\"white\",\"linecolor\":\"white\",\"showbackground\":true,\"ticks\":\"\",\"zerolinecolor\":\"white\",\"gridwidth\":2},\"yaxis\":{\"backgroundcolor\":\"#E5ECF6\",\"gridcolor\":\"white\",\"linecolor\":\"white\",\"showbackground\":true,\"ticks\":\"\",\"zerolinecolor\":\"white\",\"gridwidth\":2},\"zaxis\":{\"backgroundcolor\":\"#E5ECF6\",\"gridcolor\":\"white\",\"linecolor\":\"white\",\"showbackground\":true,\"ticks\":\"\",\"zerolinecolor\":\"white\",\"gridwidth\":2}},\"shapedefaults\":{\"line\":{\"color\":\"#2a3f5f\"}},\"annotationdefaults\":{\"arrowcolor\":\"#2a3f5f\",\"arrowhead\":0,\"arrowwidth\":1},\"geo\":{\"bgcolor\":\"white\",\"landcolor\":\"#E5ECF6\",\"subunitcolor\":\"white\",\"showland\":true,\"showlakes\":true,\"lakecolor\":\"white\"},\"title\":{\"x\":0.05},\"mapbox\":{\"style\":\"light\"}}},\"xaxis\":{\"anchor\":\"y\",\"domain\":[0.0,1.0],\"title\":{\"text\":\" Reg No: (Registration Details) since impact 0\"}},\"yaxis\":{\"anchor\":\"x\",\"domain\":[0.0,1.0],\"title\":{\"text\":\"Type: (Geological Details)\"}},\"legend\":{\"tracegroupgap\":0},\"margin\":{\"t\":60}},                        {\"responsive\": true}                    ).then(function(){\n",
       "                            \n",
       "var gd = document.getElementById('32f6f009-19eb-4b31-89cd-e3534e836dcd');\n",
       "var x = new MutationObserver(function (mutations, observer) {{\n",
       "        var display = window.getComputedStyle(gd).display;\n",
       "        if (!display || display === 'none') {{\n",
       "            console.log([gd, 'removed!']);\n",
       "            Plotly.purge(gd);\n",
       "            observer.disconnect();\n",
       "        }}\n",
       "}});\n",
       "\n",
       "// Listen for the removal of the full notebook cells\n",
       "var notebookContainer = gd.closest('#notebook-container');\n",
       "if (notebookContainer) {{\n",
       "    x.observe(notebookContainer, {childList: true});\n",
       "}}\n",
       "\n",
       "// Listen for the clearing of the current output cell\n",
       "var outputEl = gd.closest('.output');\n",
       "if (outputEl) {{\n",
       "    x.observe(outputEl, {childList: true});\n",
       "}}\n",
       "\n",
       "                        })                };                });            </script>        </div>"
      ]
     },
     "metadata": {},
     "output_type": "display_data"
    }
   ],
   "source": [
    "import plotly_express as px\n",
    "\n",
    "id = df['Reg No: (Registration Details)'].values\n",
    "type = df['Type: (Geological Details)'].values\n",
    "\n",
    "fig = px.scatter(df,x=id,y=type,labels={'x':'Reg No: (Registration Details)', 'y':'Type: (Geological Details)'})\n",
    "fig.show()\n",
    "\n",
    "time_yrs = max(id)-id\n",
    "\n",
    "fig_2 = px.scatter(df,x=time_yrs,y=type, labels={'x':' Reg No: (Registration Details) since impact 0', 'y':'Type: (Geological Details)'})\n",
    "fig_2.show()"
   ]
  },
  {
   "cell_type": "code",
   "execution_count": 64,
   "metadata": {},
   "outputs": [
    {
     "data": {
      "text/plain": [
       "100.0"
      ]
     },
     "execution_count": 64,
     "metadata": {},
     "output_type": "execute_result"
    }
   ],
   "source": [
    "def map_value(value, min_value, max_value, min_result, max_result):\n",
    "    '''maps value (or array of values) from one range to another'''\n",
    "    \n",
    "    result = min_result + (value - min_value)/(max_value - min_value)*(max_result - min_result)\n",
    "    return result\n",
    "\n",
    "map_value(1, 0, 1, 0, 100)"
   ]
  },
  {
   "cell_type": "code",
   "execution_count": 68,
   "metadata": {},
   "outputs": [
    {
     "name": "stdout",
     "output_type": "stream",
     "text": [
      "Duration: 34.8 beats\n"
     ]
    }
   ],
   "source": [
    "myrs_per_beat = 5 #number of Myrs for each beat of music \n",
    "\n",
    "t_data = time_yrs/myrs_per_beat #rescale time from Myrs to beats\n",
    "\n",
    "\n",
    "duration_beats = max(t_data)  #duration in beats (actually, onset of last note)\n",
    "print('Duration:', duration_beats, 'beats')\n",
    "\n"
   ]
  },
  {
   "cell_type": "code",
   "execution_count": 69,
   "metadata": {},
   "outputs": [
    {
     "name": "stdout",
     "output_type": "stream",
     "text": [
      "Duration: 34.8 seconds\n"
     ]
    },
    {
     "data": {
      "application/vnd.plotly.v1+json": {
       "config": {
        "plotlyServerURL": "https://plot.ly"
       },
       "data": [
        {
         "hovertemplate": "time [beats]=%{x}<br>Type: (Geological Details)=%{y}<extra></extra>",
         "legendgroup": "",
         "marker": {
          "color": "#636efa",
          "symbol": "circle"
         },
         "mode": "markers",
         "name": "",
         "orientation": "h",
         "showlegend": false,
         "type": "scatter",
         "x": [
          8,
          5.6,
          8.4,
          8.2,
          7.8,
          7.6,
          31,
          6.6,
          0.2,
          32.6,
          30.4,
          7,
          14,
          27.8,
          6.8,
          27,
          31.2,
          26.6,
          32.8,
          23.6,
          32.4,
          12.4,
          9.8,
          28.6,
          18.2,
          6,
          6.2,
          5.8,
          34.8,
          33.8,
          26,
          19.8,
          28.2,
          19,
          29,
          25.4,
          9.2,
          20,
          0.4,
          12.2,
          23.8,
          6.4,
          3.6,
          25.6,
          34,
          3.2,
          18,
          14.4,
          16,
          17,
          24.4,
          24.2,
          8.6,
          10,
          23,
          25.8,
          33.6,
          21.2,
          32.2,
          27.6,
          9,
          19.2,
          13.4,
          4,
          3.8,
          4.2,
          13.6,
          33,
          26.8,
          21.8,
          28,
          22.6,
          7.2,
          17.6,
          10.2,
          15.8,
          20.4,
          22.2,
          33.4,
          0.6,
          21.4,
          20.8,
          31.4,
          19.4,
          11.2,
          12,
          20.6,
          0.8,
          23.4,
          33.2,
          10.8,
          18.4,
          11,
          12.6,
          13.2,
          18.8,
          17.4,
          15,
          16.8,
          16.4,
          15.6,
          14.6,
          14.8,
          10.6,
          14.2,
          28.8,
          24.8,
          22.8,
          17.2,
          28.4,
          27.2,
          29.4,
          25.2,
          15.2,
          17.8,
          30.6,
          20.2,
          16.6,
          22,
          24,
          34.2,
          27.4,
          23.2,
          21,
          8.8,
          34.6,
          2.8,
          31.6,
          29.2,
          26.2,
          19.6,
          30,
          32,
          4.4,
          4.6,
          5.2,
          5,
          5.4,
          4.8,
          25,
          13,
          9.4,
          9.6,
          26.4,
          24.6,
          31.8,
          1.2,
          21.6,
          12.8,
          34.4,
          30.8,
          30.2,
          29.8,
          29.6,
          22.4,
          18.6,
          16.2,
          15.4,
          13.8,
          11.8,
          11.6,
          11.4,
          10.4,
          7.4,
          3.4,
          3,
          2.6,
          2.4,
          2.2,
          2,
          1.8,
          1.6,
          1.4,
          1,
          0
         ],
         "xaxis": "x",
         "y": [
          "Stone. Chondrite",
          "Iron.",
          "Stone. Chondrite",
          "Stone. Chondrite",
          "Stone. Chondrite",
          "Stony-iron. Pallasite (PAL).",
          "Stone. Olivine-bronzite chondrite (H4).",
          "Stone. Olivine-bronzite chondrite (H4).",
          "H5",
          "Stone. Olivine-bronzite chondrite (H4)",
          "Stone. Olivine-hypersthene chondrite (L6)",
          "Stony-iron. Mesosiderite",
          "Stone. Olivine-hypersthene chondrite (L6), brecciated.",
          "Stone. Olivine-hypersthene chondrite (L4).",
          "Stone. Carbonaceous chondrite (C5).",
          "Stone. Olivine-bronzite chondrite (H4).",
          "Stone. Olivine-bronzite chondrite (H5)",
          "Iron. Ataxite, Ni rich (IRANOM)",
          "Stone. Olivine-bronzite chondrite (H6)",
          "Iron. Octahedrite, medium (0.6mm) (IRANOM)",
          "Iron. Octahedrite, medium (1.2mm)(IIIA)",
          "Stone. Carbonaceous chondrite, type I (C1).",
          "Stone. Olivine-pyroxene chondrite (H6).",
          "Stone. Olivine-hypersthene chondrite (L4).",
          "Stone. Achondrite, Ca-poor. Aubrite (AUB).",
          "Stone. Amphoterite (LL6).",
          "Stone. Achondrite. Eucrite (AEUC).",
          "Stone. Olivine-bronzite chondrite (H5).",
          "Stone. Olivine-hypersthene chondrite (L6)",
          "Stone. Olivine-hypersthene chondrite (L6)",
          "Iron. Octahedrite, medium (0.9mm) (IIIA).",
          "Stone. Olivine-hypersthene chondrite (L6).",
          "Stone. Olivine-bronzite chondrite (H5).",
          "Stone. Carbonaceous chondrite, type III (C3).",
          "Stone. Achondrite, Ca-rich. Howardite (AHOW)",
          "Iron. Octahedrite, medium (0.6mm) (IIIB)",
          "Stone. Olivine-hypersthene chondrite (L3).",
          "Stone. Olivine-bronzite chondrite (H6).",
          "Stone. Chondrite (L).",
          "Stone. Olivine-hypersthene chondrite, amphoterite (LL5).",
          "Stony-iron. Mesosiderite (MES)",
          "Stone. Olivine-bronzite chondrite (H5).",
          "Stone. Olivine-bronzite chondrite (H4).",
          "Iron. Octahedrite, fine (0.3mm) (IVA)",
          "Stone. Olivine-bronzite chondrite (H6)",
          "Stone. Achondrite",
          "Stone. Olivine-hypersthene chondrite (L5).",
          "Stone. Olivine-bronzite chondrite (H4).",
          "Iron. Octahedrite, medium (1.1mm) (IIIB).",
          "Iron. Octahedrite, coarse (2.0mm) (IA).",
          "Stone. Olivine-hypersthene chondrite (L6)",
          "Stone. Olivine-hypersthene chondrite (L6)",
          "Iron.",
          "Iron. Octahedrite, medium (0.9mm) (IIA).",
          "Stone. Olivine-bronzite chondrite (H4)",
          "Stony-iron. Pallasite (PAL).",
          "Stone. Olivine-bronzite chondrite (H5)",
          "Stone. Olivine-hypersthene chondrite (L6).",
          "Stone. Chondrite (LL7) breccia.",
          "Stone. Olivine-hypersthene chondrite (L5).",
          "Stone. Olivine-bronzite chondrite (H5).",
          "Iron. Octahedrite, coarsest (5mm) (IIB).",
          "Stone. Olivine-hypersthene chondrite (L6).",
          "Stone. Olivine-bronzite chondrite (H6).",
          "Stone. Olivine-bronzite chondrite (H5).",
          "Stone. Olivine-bronzite chondrite (H5).",
          "Stone. Olivine-bronzite chondrite (H5).",
          "Stone. Chondrite (H6)",
          "Iron. Octahedrite, coarse (2.0mm) (IA)",
          "Stone. Olivine-bronzite chondrite (H5).",
          "Iron. Octahedrite, coarse (1.4mm) (IIIE)",
          "Stone. Olivine-hypersthene chondrite (L4)",
          "Iron. Octahedrite.",
          "Stony-iron. Pallasite (PAL).",
          "Iron. Octahedrite, coarse (1.4mm) (IA).",
          "Stone. Olivine-bronzite chondrite (H5), brecciated.",
          "Stone. Olivine-hypersthene chondrite (L6).",
          "Stone. Olivine-hypersthene chondrite (L6)",
          "Stone. Olivine-hypersthene chondrite (L3)",
          null,
          "Iron. Hexahedrite? (IA?)",
          "Stone. Olivine-hypersthene chondrite (L6).",
          "Stone. Carbonaceous chondrite (C5).",
          "Stone. Olivine-bronzite chondrite (H5).",
          "Stone. Olivine-hypersthene chondrite (L5).",
          "Stone. Achondrite, Ca rich. Eucrite (AEUC).",
          "Stone. Olivine-bronzite chondrite (H5).",
          null,
          "Stone. Olivine-hypersthene chondrite (L4)",
          "Stone. Olivine-hypersthene chondrite (L6)",
          "Iron. Octahedrite, coarse (2.5mm) (IA).",
          "Stone. Olivine-hypersthene chondrite (L5).",
          "Iron. Octahedrite, medium (0.9mm)(IIIA).",
          "Iron. Octahedrite, coarse (1.7mm) (IA).",
          "Iron. Octahedrite, plessitic (IIF).",
          "Stone. Olivine- hypersthene chondrite (L5).",
          "Stone. Olivine-hypersthene chondrite (L6).",
          "Stone. Olivine-hypersthene chondrite (L6).",
          "Stony-iron. Mesosiderite (MES).",
          "Stone. Olivine-bronzite chondrite (H4), brecciated.",
          "Iron. Octahedrite (IIA).",
          "Iron. Hexahedrite (IRANOM), brecciated.",
          "Stone. Achondrite, Ca-poor. Diogenite (ADIO).",
          "Stone. Olivine-bronzite chondrite (H4).",
          "Stone. Olivine-hypersthene chondrite (L5).",
          "Iron. Anomalous (IC)",
          "Stone. Olivine-bronzite chondrite (H5)",
          "Iron. Octahedrite, medium (0.85mm) (IIIB)",
          "Iron. Octahedrite, coarse (3.0mm) with silicate inclusions (IA).",
          "Stony-iron. Mesosiderite (MES)",
          "Stone. Olivine-bronzite chondrite (H5).",
          "Iron. Octahedrite, medium (0.9mm) (IIIA).",
          "Iron. Ataxite, Ni-rich (IVB)",
          "Iron. Octahedrite, medium (1.2mm) (IIIA).",
          "Stone. Olivine-bronzite chondrite (H5).",
          "Stone. Olivine-hypersthene chondrite (L5)",
          "Stone. Carbonaceous chondrite, type II (CM2).",
          "Stone. Achondrite, Ca-poor. Aubrite (AUB).",
          "Iron. Octahedrite, coarse (2.1mm) (IA)",
          "Stony-iron. Mesosiderite, anomalous (MESANOM)",
          "Stone. Achondrite, Ca-poor (ACANOM)",
          "Iron.  Octahedrite, coarse (2.5mm) (IIE).",
          "Stone. Olivine-bronzite chondrite (H5)",
          "Stone. Olivine-hypersthene chondrite (L4).",
          "Iron. Octahedrite, medium.",
          "Stone. Carbonaceous chondrite, type II (C2)",
          "Stone. Carbonaceous chondrite (CO3.3)",
          "Stone. Olivine-bronzite chondrite (H6) brecciated.",
          "Stone. Olivine-hypersthene chondrite (L6).",
          "Iron. Octahedrite, medium (1.0mm)(IIIA)",
          "Stone. Enstatite chondrite (E4).",
          "Stone. Olivine-hypersthene chondrite (L5)",
          "Stone. Olivine-hypersthene chondrite (L4a)",
          "Stone. Olivine-hypersthene chondrite (L5).",
          "Stone. Olivine-bronzite chondrite (H6).",
          "Stone. Chondrite (L).",
          "Stone. Olivine-bronzite chondrite (H5).",
          "Stone. Olivine-hypersthene chondrite (L5).",
          "Stone. Olivine-bronzite chondrite (H6).",
          "Iron. Octahedrite, coarse (2.1mm) (IA)",
          "Stone. Achondrite, Ca-rich. Nakhlite (ACANOM).",
          "Iron. Octahedrite,fine (0.4mm) with silicate inclusions (IB-ANOM)",
          "Iron. Octahedrite, coarse (2.3mm) (IA).",
          "Iron.  Ataxite (IID-ANOM)",
          "Iron. Octahedrite, medium (0.9mm) (IIIA)",
          "Stone. Olivine-bronzite chondrite (H6)",
          null,
          "Stony-iron. Pallasite (PAL)",
          "Stone. Olivine-hypersthene chondrite (L6).",
          "Stone. Olivine-hypersthene chondrite (L6)",
          "Iron. Octahedrite, medium (1.1mm) (IIIA)",
          "Stone. Olivine-hypersthene chondrite, amphoterite (LL6)xenolithic",
          "Stone. Olivine-hypersthene chondrite (L6)",
          "Stone. Olivine-hypersthene chondrite (L3)",
          "Iron. Hexahedrite (IIA)",
          "Stone. Olivine-bronzite chondrite (H5).",
          "Iron. Octahedrite, fine (0.3mm) (IVA).",
          "Stone. Olivine-hypersthene chondrite (L6).",
          "Stone. Olivine-hypersthene chondrite (L5).",
          "Stone. Olivine-bronzite chondrite (H5), brecciated.",
          "Iron. Octahedrite, medium (0.1mm)(IIIA).",
          "Stone. Olivine-bronzite chondrite (H5).",
          "Stony-iron. Pallasite (PAL).",
          "Iron.",
          "Stone. Olivine-bronzite chondrite (H5).",
          null,
          "Stone. Chondrite, ordinary (L5).",
          "Stone. Lunar (Anorthositic breccia) (Lun-A).",
          "Stone. Enstatite chondrite (EH4).",
          "Iron. Coarsest octahedrite (IIAB).",
          "Iron. Coarsest octahedrite (IIAB).",
          "Iron. Octahedrite, medium (0.9mm) (IIIA).",
          "Iron. Octahedrite, medium (0.9mm) (IIIA).",
          "Iron.",
          "H5"
         ],
         "yaxis": "y"
        }
       ],
       "layout": {
        "legend": {
         "tracegroupgap": 0
        },
        "margin": {
         "t": 60
        },
        "template": {
         "data": {
          "bar": [
           {
            "error_x": {
             "color": "#2a3f5f"
            },
            "error_y": {
             "color": "#2a3f5f"
            },
            "marker": {
             "line": {
              "color": "#E5ECF6",
              "width": 0.5
             },
             "pattern": {
              "fillmode": "overlay",
              "size": 10,
              "solidity": 0.2
             }
            },
            "type": "bar"
           }
          ],
          "barpolar": [
           {
            "marker": {
             "line": {
              "color": "#E5ECF6",
              "width": 0.5
             },
             "pattern": {
              "fillmode": "overlay",
              "size": 10,
              "solidity": 0.2
             }
            },
            "type": "barpolar"
           }
          ],
          "carpet": [
           {
            "aaxis": {
             "endlinecolor": "#2a3f5f",
             "gridcolor": "white",
             "linecolor": "white",
             "minorgridcolor": "white",
             "startlinecolor": "#2a3f5f"
            },
            "baxis": {
             "endlinecolor": "#2a3f5f",
             "gridcolor": "white",
             "linecolor": "white",
             "minorgridcolor": "white",
             "startlinecolor": "#2a3f5f"
            },
            "type": "carpet"
           }
          ],
          "choropleth": [
           {
            "colorbar": {
             "outlinewidth": 0,
             "ticks": ""
            },
            "type": "choropleth"
           }
          ],
          "contour": [
           {
            "colorbar": {
             "outlinewidth": 0,
             "ticks": ""
            },
            "colorscale": [
             [
              0,
              "#0d0887"
             ],
             [
              0.1111111111111111,
              "#46039f"
             ],
             [
              0.2222222222222222,
              "#7201a8"
             ],
             [
              0.3333333333333333,
              "#9c179e"
             ],
             [
              0.4444444444444444,
              "#bd3786"
             ],
             [
              0.5555555555555556,
              "#d8576b"
             ],
             [
              0.6666666666666666,
              "#ed7953"
             ],
             [
              0.7777777777777778,
              "#fb9f3a"
             ],
             [
              0.8888888888888888,
              "#fdca26"
             ],
             [
              1,
              "#f0f921"
             ]
            ],
            "type": "contour"
           }
          ],
          "contourcarpet": [
           {
            "colorbar": {
             "outlinewidth": 0,
             "ticks": ""
            },
            "type": "contourcarpet"
           }
          ],
          "heatmap": [
           {
            "colorbar": {
             "outlinewidth": 0,
             "ticks": ""
            },
            "colorscale": [
             [
              0,
              "#0d0887"
             ],
             [
              0.1111111111111111,
              "#46039f"
             ],
             [
              0.2222222222222222,
              "#7201a8"
             ],
             [
              0.3333333333333333,
              "#9c179e"
             ],
             [
              0.4444444444444444,
              "#bd3786"
             ],
             [
              0.5555555555555556,
              "#d8576b"
             ],
             [
              0.6666666666666666,
              "#ed7953"
             ],
             [
              0.7777777777777778,
              "#fb9f3a"
             ],
             [
              0.8888888888888888,
              "#fdca26"
             ],
             [
              1,
              "#f0f921"
             ]
            ],
            "type": "heatmap"
           }
          ],
          "heatmapgl": [
           {
            "colorbar": {
             "outlinewidth": 0,
             "ticks": ""
            },
            "colorscale": [
             [
              0,
              "#0d0887"
             ],
             [
              0.1111111111111111,
              "#46039f"
             ],
             [
              0.2222222222222222,
              "#7201a8"
             ],
             [
              0.3333333333333333,
              "#9c179e"
             ],
             [
              0.4444444444444444,
              "#bd3786"
             ],
             [
              0.5555555555555556,
              "#d8576b"
             ],
             [
              0.6666666666666666,
              "#ed7953"
             ],
             [
              0.7777777777777778,
              "#fb9f3a"
             ],
             [
              0.8888888888888888,
              "#fdca26"
             ],
             [
              1,
              "#f0f921"
             ]
            ],
            "type": "heatmapgl"
           }
          ],
          "histogram": [
           {
            "marker": {
             "pattern": {
              "fillmode": "overlay",
              "size": 10,
              "solidity": 0.2
             }
            },
            "type": "histogram"
           }
          ],
          "histogram2d": [
           {
            "colorbar": {
             "outlinewidth": 0,
             "ticks": ""
            },
            "colorscale": [
             [
              0,
              "#0d0887"
             ],
             [
              0.1111111111111111,
              "#46039f"
             ],
             [
              0.2222222222222222,
              "#7201a8"
             ],
             [
              0.3333333333333333,
              "#9c179e"
             ],
             [
              0.4444444444444444,
              "#bd3786"
             ],
             [
              0.5555555555555556,
              "#d8576b"
             ],
             [
              0.6666666666666666,
              "#ed7953"
             ],
             [
              0.7777777777777778,
              "#fb9f3a"
             ],
             [
              0.8888888888888888,
              "#fdca26"
             ],
             [
              1,
              "#f0f921"
             ]
            ],
            "type": "histogram2d"
           }
          ],
          "histogram2dcontour": [
           {
            "colorbar": {
             "outlinewidth": 0,
             "ticks": ""
            },
            "colorscale": [
             [
              0,
              "#0d0887"
             ],
             [
              0.1111111111111111,
              "#46039f"
             ],
             [
              0.2222222222222222,
              "#7201a8"
             ],
             [
              0.3333333333333333,
              "#9c179e"
             ],
             [
              0.4444444444444444,
              "#bd3786"
             ],
             [
              0.5555555555555556,
              "#d8576b"
             ],
             [
              0.6666666666666666,
              "#ed7953"
             ],
             [
              0.7777777777777778,
              "#fb9f3a"
             ],
             [
              0.8888888888888888,
              "#fdca26"
             ],
             [
              1,
              "#f0f921"
             ]
            ],
            "type": "histogram2dcontour"
           }
          ],
          "mesh3d": [
           {
            "colorbar": {
             "outlinewidth": 0,
             "ticks": ""
            },
            "type": "mesh3d"
           }
          ],
          "parcoords": [
           {
            "line": {
             "colorbar": {
              "outlinewidth": 0,
              "ticks": ""
             }
            },
            "type": "parcoords"
           }
          ],
          "pie": [
           {
            "automargin": true,
            "type": "pie"
           }
          ],
          "scatter": [
           {
            "fillpattern": {
             "fillmode": "overlay",
             "size": 10,
             "solidity": 0.2
            },
            "type": "scatter"
           }
          ],
          "scatter3d": [
           {
            "line": {
             "colorbar": {
              "outlinewidth": 0,
              "ticks": ""
             }
            },
            "marker": {
             "colorbar": {
              "outlinewidth": 0,
              "ticks": ""
             }
            },
            "type": "scatter3d"
           }
          ],
          "scattercarpet": [
           {
            "marker": {
             "colorbar": {
              "outlinewidth": 0,
              "ticks": ""
             }
            },
            "type": "scattercarpet"
           }
          ],
          "scattergeo": [
           {
            "marker": {
             "colorbar": {
              "outlinewidth": 0,
              "ticks": ""
             }
            },
            "type": "scattergeo"
           }
          ],
          "scattergl": [
           {
            "marker": {
             "colorbar": {
              "outlinewidth": 0,
              "ticks": ""
             }
            },
            "type": "scattergl"
           }
          ],
          "scattermapbox": [
           {
            "marker": {
             "colorbar": {
              "outlinewidth": 0,
              "ticks": ""
             }
            },
            "type": "scattermapbox"
           }
          ],
          "scatterpolar": [
           {
            "marker": {
             "colorbar": {
              "outlinewidth": 0,
              "ticks": ""
             }
            },
            "type": "scatterpolar"
           }
          ],
          "scatterpolargl": [
           {
            "marker": {
             "colorbar": {
              "outlinewidth": 0,
              "ticks": ""
             }
            },
            "type": "scatterpolargl"
           }
          ],
          "scatterternary": [
           {
            "marker": {
             "colorbar": {
              "outlinewidth": 0,
              "ticks": ""
             }
            },
            "type": "scatterternary"
           }
          ],
          "surface": [
           {
            "colorbar": {
             "outlinewidth": 0,
             "ticks": ""
            },
            "colorscale": [
             [
              0,
              "#0d0887"
             ],
             [
              0.1111111111111111,
              "#46039f"
             ],
             [
              0.2222222222222222,
              "#7201a8"
             ],
             [
              0.3333333333333333,
              "#9c179e"
             ],
             [
              0.4444444444444444,
              "#bd3786"
             ],
             [
              0.5555555555555556,
              "#d8576b"
             ],
             [
              0.6666666666666666,
              "#ed7953"
             ],
             [
              0.7777777777777778,
              "#fb9f3a"
             ],
             [
              0.8888888888888888,
              "#fdca26"
             ],
             [
              1,
              "#f0f921"
             ]
            ],
            "type": "surface"
           }
          ],
          "table": [
           {
            "cells": {
             "fill": {
              "color": "#EBF0F8"
             },
             "line": {
              "color": "white"
             }
            },
            "header": {
             "fill": {
              "color": "#C8D4E3"
             },
             "line": {
              "color": "white"
             }
            },
            "type": "table"
           }
          ]
         },
         "layout": {
          "annotationdefaults": {
           "arrowcolor": "#2a3f5f",
           "arrowhead": 0,
           "arrowwidth": 1
          },
          "autotypenumbers": "strict",
          "coloraxis": {
           "colorbar": {
            "outlinewidth": 0,
            "ticks": ""
           }
          },
          "colorscale": {
           "diverging": [
            [
             0,
             "#8e0152"
            ],
            [
             0.1,
             "#c51b7d"
            ],
            [
             0.2,
             "#de77ae"
            ],
            [
             0.3,
             "#f1b6da"
            ],
            [
             0.4,
             "#fde0ef"
            ],
            [
             0.5,
             "#f7f7f7"
            ],
            [
             0.6,
             "#e6f5d0"
            ],
            [
             0.7,
             "#b8e186"
            ],
            [
             0.8,
             "#7fbc41"
            ],
            [
             0.9,
             "#4d9221"
            ],
            [
             1,
             "#276419"
            ]
           ],
           "sequential": [
            [
             0,
             "#0d0887"
            ],
            [
             0.1111111111111111,
             "#46039f"
            ],
            [
             0.2222222222222222,
             "#7201a8"
            ],
            [
             0.3333333333333333,
             "#9c179e"
            ],
            [
             0.4444444444444444,
             "#bd3786"
            ],
            [
             0.5555555555555556,
             "#d8576b"
            ],
            [
             0.6666666666666666,
             "#ed7953"
            ],
            [
             0.7777777777777778,
             "#fb9f3a"
            ],
            [
             0.8888888888888888,
             "#fdca26"
            ],
            [
             1,
             "#f0f921"
            ]
           ],
           "sequentialminus": [
            [
             0,
             "#0d0887"
            ],
            [
             0.1111111111111111,
             "#46039f"
            ],
            [
             0.2222222222222222,
             "#7201a8"
            ],
            [
             0.3333333333333333,
             "#9c179e"
            ],
            [
             0.4444444444444444,
             "#bd3786"
            ],
            [
             0.5555555555555556,
             "#d8576b"
            ],
            [
             0.6666666666666666,
             "#ed7953"
            ],
            [
             0.7777777777777778,
             "#fb9f3a"
            ],
            [
             0.8888888888888888,
             "#fdca26"
            ],
            [
             1,
             "#f0f921"
            ]
           ]
          },
          "colorway": [
           "#636efa",
           "#EF553B",
           "#00cc96",
           "#ab63fa",
           "#FFA15A",
           "#19d3f3",
           "#FF6692",
           "#B6E880",
           "#FF97FF",
           "#FECB52"
          ],
          "font": {
           "color": "#2a3f5f"
          },
          "geo": {
           "bgcolor": "white",
           "lakecolor": "white",
           "landcolor": "#E5ECF6",
           "showlakes": true,
           "showland": true,
           "subunitcolor": "white"
          },
          "hoverlabel": {
           "align": "left"
          },
          "hovermode": "closest",
          "mapbox": {
           "style": "light"
          },
          "paper_bgcolor": "white",
          "plot_bgcolor": "#E5ECF6",
          "polar": {
           "angularaxis": {
            "gridcolor": "white",
            "linecolor": "white",
            "ticks": ""
           },
           "bgcolor": "#E5ECF6",
           "radialaxis": {
            "gridcolor": "white",
            "linecolor": "white",
            "ticks": ""
           }
          },
          "scene": {
           "xaxis": {
            "backgroundcolor": "#E5ECF6",
            "gridcolor": "white",
            "gridwidth": 2,
            "linecolor": "white",
            "showbackground": true,
            "ticks": "",
            "zerolinecolor": "white"
           },
           "yaxis": {
            "backgroundcolor": "#E5ECF6",
            "gridcolor": "white",
            "gridwidth": 2,
            "linecolor": "white",
            "showbackground": true,
            "ticks": "",
            "zerolinecolor": "white"
           },
           "zaxis": {
            "backgroundcolor": "#E5ECF6",
            "gridcolor": "white",
            "gridwidth": 2,
            "linecolor": "white",
            "showbackground": true,
            "ticks": "",
            "zerolinecolor": "white"
           }
          },
          "shapedefaults": {
           "line": {
            "color": "#2a3f5f"
           }
          },
          "ternary": {
           "aaxis": {
            "gridcolor": "white",
            "linecolor": "white",
            "ticks": ""
           },
           "baxis": {
            "gridcolor": "white",
            "linecolor": "white",
            "ticks": ""
           },
           "bgcolor": "#E5ECF6",
           "caxis": {
            "gridcolor": "white",
            "linecolor": "white",
            "ticks": ""
           }
          },
          "title": {
           "x": 0.05
          },
          "xaxis": {
           "automargin": true,
           "gridcolor": "white",
           "linecolor": "white",
           "ticks": "",
           "title": {
            "standoff": 15
           },
           "zerolinecolor": "white",
           "zerolinewidth": 2
          },
          "yaxis": {
           "automargin": true,
           "gridcolor": "white",
           "linecolor": "white",
           "ticks": "",
           "title": {
            "standoff": 15
           },
           "zerolinecolor": "white",
           "zerolinewidth": 2
          }
         }
        },
        "xaxis": {
         "anchor": "y",
         "domain": [
          0,
          1
         ],
         "title": {
          "text": "time [beats]"
         }
        },
        "yaxis": {
         "anchor": "x",
         "domain": [
          0,
          1
         ],
         "title": {
          "text": "Type: (Geological Details)"
         }
        }
       }
      },
      "text/html": [
       "<div>                            <div id=\"c49799df-d4c3-412a-bb44-4d4a5c8aed89\" class=\"plotly-graph-div\" style=\"height:525px; width:100%;\"></div>            <script type=\"text/javascript\">                require([\"plotly\"], function(Plotly) {                    window.PLOTLYENV=window.PLOTLYENV || {};                                    if (document.getElementById(\"c49799df-d4c3-412a-bb44-4d4a5c8aed89\")) {                    Plotly.newPlot(                        \"c49799df-d4c3-412a-bb44-4d4a5c8aed89\",                        [{\"hovertemplate\":\"time [beats]=%{x}\\u003cbr\\u003eType: (Geological Details)=%{y}\\u003cextra\\u003e\\u003c\\u002fextra\\u003e\",\"legendgroup\":\"\",\"marker\":{\"color\":\"#636efa\",\"symbol\":\"circle\"},\"mode\":\"markers\",\"name\":\"\",\"orientation\":\"h\",\"showlegend\":false,\"x\":[8.0,5.6,8.4,8.2,7.8,7.6,31.0,6.6,0.2,32.6,30.4,7.0,14.0,27.8,6.8,27.0,31.2,26.6,32.8,23.6,32.4,12.4,9.8,28.6,18.2,6.0,6.2,5.8,34.8,33.8,26.0,19.8,28.2,19.0,29.0,25.4,9.2,20.0,0.4,12.2,23.8,6.4,3.6,25.6,34.0,3.2,18.0,14.4,16.0,17.0,24.4,24.2,8.6,10.0,23.0,25.8,33.6,21.2,32.2,27.6,9.0,19.2,13.4,4.0,3.8,4.2,13.6,33.0,26.8,21.8,28.0,22.6,7.2,17.6,10.2,15.8,20.4,22.2,33.4,0.6,21.4,20.8,31.4,19.4,11.2,12.0,20.6,0.8,23.4,33.2,10.8,18.4,11.0,12.6,13.2,18.8,17.4,15.0,16.8,16.4,15.6,14.6,14.8,10.6,14.2,28.8,24.8,22.8,17.2,28.4,27.2,29.4,25.2,15.2,17.8,30.6,20.2,16.6,22.0,24.0,34.2,27.4,23.2,21.0,8.8,34.6,2.8,31.6,29.2,26.2,19.6,30.0,32.0,4.4,4.6,5.2,5.0,5.4,4.8,25.0,13.0,9.4,9.6,26.4,24.6,31.8,1.2,21.6,12.8,34.4,30.8,30.2,29.8,29.6,22.4,18.6,16.2,15.4,13.8,11.8,11.6,11.4,10.4,7.4,3.4,3.0,2.6,2.4,2.2,2.0,1.8,1.6,1.4,1.0,0.0],\"xaxis\":\"x\",\"y\":[\"Stone. Chondrite\",\"Iron.\",\"Stone. Chondrite\",\"Stone. Chondrite\",\"Stone. Chondrite\",\"Stony-iron. Pallasite (PAL).\",\"Stone. Olivine-bronzite chondrite (H4).\",\"Stone. Olivine-bronzite chondrite (H4).\",\"H5\",\"Stone. Olivine-bronzite chondrite (H4)\",\"Stone. Olivine-hypersthene chondrite (L6)\",\"Stony-iron. Mesosiderite\",\"Stone. Olivine-hypersthene chondrite (L6), brecciated.\",\"Stone. Olivine-hypersthene chondrite (L4).\",\"Stone. Carbonaceous chondrite (C5).\",\"Stone. Olivine-bronzite chondrite (H4).\",\"Stone. Olivine-bronzite chondrite (H5)\",\"Iron. Ataxite, Ni rich (IRANOM)\",\"Stone. Olivine-bronzite chondrite (H6)\",\"Iron. Octahedrite, medium (0.6mm) (IRANOM)\",\"Iron. Octahedrite, medium (1.2mm)(IIIA)\",\"Stone. Carbonaceous chondrite, type I (C1).\",\"Stone. Olivine-pyroxene chondrite (H6).\",\"Stone. Olivine-hypersthene chondrite (L4).\",\"Stone. Achondrite, Ca-poor. Aubrite (AUB).\",\"Stone. Amphoterite (LL6).\",\"Stone. Achondrite. Eucrite (AEUC).\",\"Stone. Olivine-bronzite chondrite (H5).\",\"Stone. Olivine-hypersthene chondrite (L6)\",\"Stone. Olivine-hypersthene chondrite (L6)\",\"Iron. Octahedrite, medium (0.9mm) (IIIA).\",\"Stone. Olivine-hypersthene chondrite (L6).\",\"Stone. Olivine-bronzite chondrite (H5).\",\"Stone. Carbonaceous chondrite, type III (C3).\",\"Stone. Achondrite, Ca-rich. Howardite (AHOW)\",\"Iron. Octahedrite, medium (0.6mm) (IIIB)\",\"Stone. Olivine-hypersthene chondrite (L3).\",\"Stone. Olivine-bronzite chondrite (H6).\",\"Stone. Chondrite (L).\",\"Stone. Olivine-hypersthene chondrite, amphoterite (LL5).\",\"Stony-iron. Mesosiderite (MES)\",\"Stone. Olivine-bronzite chondrite (H5).\",\"Stone. Olivine-bronzite chondrite (H4).\",\"Iron. Octahedrite, fine (0.3mm) (IVA)\",\"Stone. Olivine-bronzite chondrite (H6)\",\"Stone. Achondrite\",\"Stone. Olivine-hypersthene chondrite (L5).\",\"Stone. Olivine-bronzite chondrite (H4).\",\"Iron. Octahedrite, medium (1.1mm) (IIIB).\",\"Iron. Octahedrite, coarse (2.0mm) (IA).\",\"Stone. Olivine-hypersthene chondrite (L6)\",\"Stone. Olivine-hypersthene chondrite (L6)\",\"Iron.\",\"Iron. Octahedrite, medium (0.9mm) (IIA).\",\"Stone. Olivine-bronzite chondrite (H4)\",\"Stony-iron. Pallasite (PAL).\",\"Stone. Olivine-bronzite chondrite (H5)\",\"Stone. Olivine-hypersthene chondrite (L6).\",\"Stone. Chondrite (LL7) breccia.\",\"Stone. Olivine-hypersthene chondrite (L5).\",\"Stone. Olivine-bronzite chondrite (H5).\",\"Iron. Octahedrite, coarsest (5mm) (IIB).\",\"Stone. Olivine-hypersthene chondrite (L6).\",\"Stone. Olivine-bronzite chondrite (H6).\",\"Stone. Olivine-bronzite chondrite (H5).\",\"Stone. Olivine-bronzite chondrite (H5).\",\"Stone. Olivine-bronzite chondrite (H5).\",\"Stone. Chondrite (H6)\",\"Iron. Octahedrite, coarse (2.0mm) (IA)\",\"Stone. Olivine-bronzite chondrite (H5).\",\"Iron. Octahedrite, coarse (1.4mm) (IIIE)\",\"Stone. Olivine-hypersthene chondrite (L4)\",\"Iron. Octahedrite.\",\"Stony-iron. Pallasite (PAL).\",\"Iron. Octahedrite, coarse (1.4mm) (IA).\",\"Stone. Olivine-bronzite chondrite (H5), brecciated.\",\"Stone. Olivine-hypersthene chondrite (L6).\",\"Stone. Olivine-hypersthene chondrite (L6)\",\"Stone. Olivine-hypersthene chondrite (L3)\",null,\"Iron. Hexahedrite? (IA?)\",\"Stone. Olivine-hypersthene chondrite (L6).\",\"Stone. Carbonaceous chondrite (C5).\",\"Stone. Olivine-bronzite chondrite (H5).\",\"Stone. Olivine-hypersthene chondrite (L5).\",\"Stone. Achondrite, Ca rich. Eucrite (AEUC).\",\"Stone. Olivine-bronzite chondrite (H5).\",null,\"Stone. Olivine-hypersthene chondrite (L4)\",\"Stone. Olivine-hypersthene chondrite (L6)\",\"Iron. Octahedrite, coarse (2.5mm) (IA).\",\"Stone. Olivine-hypersthene chondrite (L5).\",\"Iron. Octahedrite, medium (0.9mm)(IIIA).\",\"Iron. Octahedrite, coarse (1.7mm) (IA).\",\"Iron. Octahedrite, plessitic (IIF).\",\"Stone. Olivine- hypersthene chondrite (L5).\",\"Stone. Olivine-hypersthene chondrite (L6).\",\"Stone. Olivine-hypersthene chondrite (L6).\",\"Stony-iron. Mesosiderite (MES).\",\"Stone. Olivine-bronzite chondrite (H4), brecciated.\",\"Iron. Octahedrite (IIA).\",\"Iron. Hexahedrite (IRANOM), brecciated.\",\"Stone. Achondrite, Ca-poor. Diogenite (ADIO).\",\"Stone. Olivine-bronzite chondrite (H4).\",\"Stone. Olivine-hypersthene chondrite (L5).\",\"Iron. Anomalous (IC)\",\"Stone. Olivine-bronzite chondrite (H5)\",\"Iron. Octahedrite, medium (0.85mm) (IIIB)\",\"Iron. Octahedrite, coarse (3.0mm) with silicate inclusions (IA).\",\"Stony-iron. Mesosiderite (MES)\",\"Stone. Olivine-bronzite chondrite (H5).\",\"Iron. Octahedrite, medium (0.9mm) (IIIA).\",\"Iron. Ataxite, Ni-rich (IVB)\",\"Iron. Octahedrite, medium (1.2mm) (IIIA).\",\"Stone. Olivine-bronzite chondrite (H5).\",\"Stone. Olivine-hypersthene chondrite (L5)\",\"Stone. Carbonaceous chondrite, type II (CM2).\",\"Stone. Achondrite, Ca-poor. Aubrite (AUB).\",\"Iron. Octahedrite, coarse (2.1mm) (IA)\",\"Stony-iron. Mesosiderite, anomalous (MESANOM)\",\"Stone. Achondrite, Ca-poor (ACANOM)\",\"Iron.  Octahedrite, coarse (2.5mm) (IIE).\",\"Stone. Olivine-bronzite chondrite (H5)\",\"Stone. Olivine-hypersthene chondrite (L4).\",\"Iron. Octahedrite, medium.\",\"Stone. Carbonaceous chondrite, type II (C2)\",\"Stone. Carbonaceous chondrite (CO3.3)\",\"Stone. Olivine-bronzite chondrite (H6) brecciated.\",\"Stone. Olivine-hypersthene chondrite (L6).\",\"Iron. Octahedrite, medium (1.0mm)(IIIA)\",\"Stone. Enstatite chondrite (E4).\",\"Stone. Olivine-hypersthene chondrite (L5)\",\"Stone. Olivine-hypersthene chondrite (L4a)\",\"Stone. Olivine-hypersthene chondrite (L5).\",\"Stone. Olivine-bronzite chondrite (H6).\",\"Stone. Chondrite (L).\",\"Stone. Olivine-bronzite chondrite (H5).\",\"Stone. Olivine-hypersthene chondrite (L5).\",\"Stone. Olivine-bronzite chondrite (H6).\",\"Iron. Octahedrite, coarse (2.1mm) (IA)\",\"Stone. Achondrite, Ca-rich. Nakhlite (ACANOM).\",\"Iron. Octahedrite,fine (0.4mm) with silicate inclusions (IB-ANOM)\",\"Iron. Octahedrite, coarse (2.3mm) (IA).\",\"Iron.  Ataxite (IID-ANOM)\",\"Iron. Octahedrite, medium (0.9mm) (IIIA)\",\"Stone. Olivine-bronzite chondrite (H6)\",null,\"Stony-iron. Pallasite (PAL)\",\"Stone. Olivine-hypersthene chondrite (L6).\",\"Stone. Olivine-hypersthene chondrite (L6)\",\"Iron. Octahedrite, medium (1.1mm) (IIIA)\",\"Stone. Olivine-hypersthene chondrite, amphoterite (LL6)xenolithic\",\"Stone. Olivine-hypersthene chondrite (L6)\",\"Stone. Olivine-hypersthene chondrite (L3)\",\"Iron. Hexahedrite (IIA)\",\"Stone. Olivine-bronzite chondrite (H5).\",\"Iron. Octahedrite, fine (0.3mm) (IVA).\",\"Stone. Olivine-hypersthene chondrite (L6).\",\"Stone. Olivine-hypersthene chondrite (L5).\",\"Stone. Olivine-bronzite chondrite (H5), brecciated.\",\"Iron. Octahedrite, medium (0.1mm)(IIIA).\",\"Stone. Olivine-bronzite chondrite (H5).\",\"Stony-iron. Pallasite (PAL).\",\"Iron.\",\"Stone. Olivine-bronzite chondrite (H5).\",null,\"Stone. Chondrite, ordinary (L5).\",\"Stone. Lunar (Anorthositic breccia) (Lun-A).\",\"Stone. Enstatite chondrite (EH4).\",\"Iron. Coarsest octahedrite (IIAB).\",\"Iron. Coarsest octahedrite (IIAB).\",\"Iron. Octahedrite, medium (0.9mm) (IIIA).\",\"Iron. Octahedrite, medium (0.9mm) (IIIA).\",\"Iron.\",\"H5\"],\"yaxis\":\"y\",\"type\":\"scatter\"}],                        {\"template\":{\"data\":{\"histogram2dcontour\":[{\"type\":\"histogram2dcontour\",\"colorbar\":{\"outlinewidth\":0,\"ticks\":\"\"},\"colorscale\":[[0.0,\"#0d0887\"],[0.1111111111111111,\"#46039f\"],[0.2222222222222222,\"#7201a8\"],[0.3333333333333333,\"#9c179e\"],[0.4444444444444444,\"#bd3786\"],[0.5555555555555556,\"#d8576b\"],[0.6666666666666666,\"#ed7953\"],[0.7777777777777778,\"#fb9f3a\"],[0.8888888888888888,\"#fdca26\"],[1.0,\"#f0f921\"]]}],\"choropleth\":[{\"type\":\"choropleth\",\"colorbar\":{\"outlinewidth\":0,\"ticks\":\"\"}}],\"histogram2d\":[{\"type\":\"histogram2d\",\"colorbar\":{\"outlinewidth\":0,\"ticks\":\"\"},\"colorscale\":[[0.0,\"#0d0887\"],[0.1111111111111111,\"#46039f\"],[0.2222222222222222,\"#7201a8\"],[0.3333333333333333,\"#9c179e\"],[0.4444444444444444,\"#bd3786\"],[0.5555555555555556,\"#d8576b\"],[0.6666666666666666,\"#ed7953\"],[0.7777777777777778,\"#fb9f3a\"],[0.8888888888888888,\"#fdca26\"],[1.0,\"#f0f921\"]]}],\"heatmap\":[{\"type\":\"heatmap\",\"colorbar\":{\"outlinewidth\":0,\"ticks\":\"\"},\"colorscale\":[[0.0,\"#0d0887\"],[0.1111111111111111,\"#46039f\"],[0.2222222222222222,\"#7201a8\"],[0.3333333333333333,\"#9c179e\"],[0.4444444444444444,\"#bd3786\"],[0.5555555555555556,\"#d8576b\"],[0.6666666666666666,\"#ed7953\"],[0.7777777777777778,\"#fb9f3a\"],[0.8888888888888888,\"#fdca26\"],[1.0,\"#f0f921\"]]}],\"heatmapgl\":[{\"type\":\"heatmapgl\",\"colorbar\":{\"outlinewidth\":0,\"ticks\":\"\"},\"colorscale\":[[0.0,\"#0d0887\"],[0.1111111111111111,\"#46039f\"],[0.2222222222222222,\"#7201a8\"],[0.3333333333333333,\"#9c179e\"],[0.4444444444444444,\"#bd3786\"],[0.5555555555555556,\"#d8576b\"],[0.6666666666666666,\"#ed7953\"],[0.7777777777777778,\"#fb9f3a\"],[0.8888888888888888,\"#fdca26\"],[1.0,\"#f0f921\"]]}],\"contourcarpet\":[{\"type\":\"contourcarpet\",\"colorbar\":{\"outlinewidth\":0,\"ticks\":\"\"}}],\"contour\":[{\"type\":\"contour\",\"colorbar\":{\"outlinewidth\":0,\"ticks\":\"\"},\"colorscale\":[[0.0,\"#0d0887\"],[0.1111111111111111,\"#46039f\"],[0.2222222222222222,\"#7201a8\"],[0.3333333333333333,\"#9c179e\"],[0.4444444444444444,\"#bd3786\"],[0.5555555555555556,\"#d8576b\"],[0.6666666666666666,\"#ed7953\"],[0.7777777777777778,\"#fb9f3a\"],[0.8888888888888888,\"#fdca26\"],[1.0,\"#f0f921\"]]}],\"surface\":[{\"type\":\"surface\",\"colorbar\":{\"outlinewidth\":0,\"ticks\":\"\"},\"colorscale\":[[0.0,\"#0d0887\"],[0.1111111111111111,\"#46039f\"],[0.2222222222222222,\"#7201a8\"],[0.3333333333333333,\"#9c179e\"],[0.4444444444444444,\"#bd3786\"],[0.5555555555555556,\"#d8576b\"],[0.6666666666666666,\"#ed7953\"],[0.7777777777777778,\"#fb9f3a\"],[0.8888888888888888,\"#fdca26\"],[1.0,\"#f0f921\"]]}],\"mesh3d\":[{\"type\":\"mesh3d\",\"colorbar\":{\"outlinewidth\":0,\"ticks\":\"\"}}],\"scatter\":[{\"fillpattern\":{\"fillmode\":\"overlay\",\"size\":10,\"solidity\":0.2},\"type\":\"scatter\"}],\"parcoords\":[{\"type\":\"parcoords\",\"line\":{\"colorbar\":{\"outlinewidth\":0,\"ticks\":\"\"}}}],\"scatterpolargl\":[{\"type\":\"scatterpolargl\",\"marker\":{\"colorbar\":{\"outlinewidth\":0,\"ticks\":\"\"}}}],\"bar\":[{\"error_x\":{\"color\":\"#2a3f5f\"},\"error_y\":{\"color\":\"#2a3f5f\"},\"marker\":{\"line\":{\"color\":\"#E5ECF6\",\"width\":0.5},\"pattern\":{\"fillmode\":\"overlay\",\"size\":10,\"solidity\":0.2}},\"type\":\"bar\"}],\"scattergeo\":[{\"type\":\"scattergeo\",\"marker\":{\"colorbar\":{\"outlinewidth\":0,\"ticks\":\"\"}}}],\"scatterpolar\":[{\"type\":\"scatterpolar\",\"marker\":{\"colorbar\":{\"outlinewidth\":0,\"ticks\":\"\"}}}],\"histogram\":[{\"marker\":{\"pattern\":{\"fillmode\":\"overlay\",\"size\":10,\"solidity\":0.2}},\"type\":\"histogram\"}],\"scattergl\":[{\"type\":\"scattergl\",\"marker\":{\"colorbar\":{\"outlinewidth\":0,\"ticks\":\"\"}}}],\"scatter3d\":[{\"type\":\"scatter3d\",\"line\":{\"colorbar\":{\"outlinewidth\":0,\"ticks\":\"\"}},\"marker\":{\"colorbar\":{\"outlinewidth\":0,\"ticks\":\"\"}}}],\"scattermapbox\":[{\"type\":\"scattermapbox\",\"marker\":{\"colorbar\":{\"outlinewidth\":0,\"ticks\":\"\"}}}],\"scatterternary\":[{\"type\":\"scatterternary\",\"marker\":{\"colorbar\":{\"outlinewidth\":0,\"ticks\":\"\"}}}],\"scattercarpet\":[{\"type\":\"scattercarpet\",\"marker\":{\"colorbar\":{\"outlinewidth\":0,\"ticks\":\"\"}}}],\"carpet\":[{\"aaxis\":{\"endlinecolor\":\"#2a3f5f\",\"gridcolor\":\"white\",\"linecolor\":\"white\",\"minorgridcolor\":\"white\",\"startlinecolor\":\"#2a3f5f\"},\"baxis\":{\"endlinecolor\":\"#2a3f5f\",\"gridcolor\":\"white\",\"linecolor\":\"white\",\"minorgridcolor\":\"white\",\"startlinecolor\":\"#2a3f5f\"},\"type\":\"carpet\"}],\"table\":[{\"cells\":{\"fill\":{\"color\":\"#EBF0F8\"},\"line\":{\"color\":\"white\"}},\"header\":{\"fill\":{\"color\":\"#C8D4E3\"},\"line\":{\"color\":\"white\"}},\"type\":\"table\"}],\"barpolar\":[{\"marker\":{\"line\":{\"color\":\"#E5ECF6\",\"width\":0.5},\"pattern\":{\"fillmode\":\"overlay\",\"size\":10,\"solidity\":0.2}},\"type\":\"barpolar\"}],\"pie\":[{\"automargin\":true,\"type\":\"pie\"}]},\"layout\":{\"autotypenumbers\":\"strict\",\"colorway\":[\"#636efa\",\"#EF553B\",\"#00cc96\",\"#ab63fa\",\"#FFA15A\",\"#19d3f3\",\"#FF6692\",\"#B6E880\",\"#FF97FF\",\"#FECB52\"],\"font\":{\"color\":\"#2a3f5f\"},\"hovermode\":\"closest\",\"hoverlabel\":{\"align\":\"left\"},\"paper_bgcolor\":\"white\",\"plot_bgcolor\":\"#E5ECF6\",\"polar\":{\"bgcolor\":\"#E5ECF6\",\"angularaxis\":{\"gridcolor\":\"white\",\"linecolor\":\"white\",\"ticks\":\"\"},\"radialaxis\":{\"gridcolor\":\"white\",\"linecolor\":\"white\",\"ticks\":\"\"}},\"ternary\":{\"bgcolor\":\"#E5ECF6\",\"aaxis\":{\"gridcolor\":\"white\",\"linecolor\":\"white\",\"ticks\":\"\"},\"baxis\":{\"gridcolor\":\"white\",\"linecolor\":\"white\",\"ticks\":\"\"},\"caxis\":{\"gridcolor\":\"white\",\"linecolor\":\"white\",\"ticks\":\"\"}},\"coloraxis\":{\"colorbar\":{\"outlinewidth\":0,\"ticks\":\"\"}},\"colorscale\":{\"sequential\":[[0.0,\"#0d0887\"],[0.1111111111111111,\"#46039f\"],[0.2222222222222222,\"#7201a8\"],[0.3333333333333333,\"#9c179e\"],[0.4444444444444444,\"#bd3786\"],[0.5555555555555556,\"#d8576b\"],[0.6666666666666666,\"#ed7953\"],[0.7777777777777778,\"#fb9f3a\"],[0.8888888888888888,\"#fdca26\"],[1.0,\"#f0f921\"]],\"sequentialminus\":[[0.0,\"#0d0887\"],[0.1111111111111111,\"#46039f\"],[0.2222222222222222,\"#7201a8\"],[0.3333333333333333,\"#9c179e\"],[0.4444444444444444,\"#bd3786\"],[0.5555555555555556,\"#d8576b\"],[0.6666666666666666,\"#ed7953\"],[0.7777777777777778,\"#fb9f3a\"],[0.8888888888888888,\"#fdca26\"],[1.0,\"#f0f921\"]],\"diverging\":[[0,\"#8e0152\"],[0.1,\"#c51b7d\"],[0.2,\"#de77ae\"],[0.3,\"#f1b6da\"],[0.4,\"#fde0ef\"],[0.5,\"#f7f7f7\"],[0.6,\"#e6f5d0\"],[0.7,\"#b8e186\"],[0.8,\"#7fbc41\"],[0.9,\"#4d9221\"],[1,\"#276419\"]]},\"xaxis\":{\"gridcolor\":\"white\",\"linecolor\":\"white\",\"ticks\":\"\",\"title\":{\"standoff\":15},\"zerolinecolor\":\"white\",\"automargin\":true,\"zerolinewidth\":2},\"yaxis\":{\"gridcolor\":\"white\",\"linecolor\":\"white\",\"ticks\":\"\",\"title\":{\"standoff\":15},\"zerolinecolor\":\"white\",\"automargin\":true,\"zerolinewidth\":2},\"scene\":{\"xaxis\":{\"backgroundcolor\":\"#E5ECF6\",\"gridcolor\":\"white\",\"linecolor\":\"white\",\"showbackground\":true,\"ticks\":\"\",\"zerolinecolor\":\"white\",\"gridwidth\":2},\"yaxis\":{\"backgroundcolor\":\"#E5ECF6\",\"gridcolor\":\"white\",\"linecolor\":\"white\",\"showbackground\":true,\"ticks\":\"\",\"zerolinecolor\":\"white\",\"gridwidth\":2},\"zaxis\":{\"backgroundcolor\":\"#E5ECF6\",\"gridcolor\":\"white\",\"linecolor\":\"white\",\"showbackground\":true,\"ticks\":\"\",\"zerolinecolor\":\"white\",\"gridwidth\":2}},\"shapedefaults\":{\"line\":{\"color\":\"#2a3f5f\"}},\"annotationdefaults\":{\"arrowcolor\":\"#2a3f5f\",\"arrowhead\":0,\"arrowwidth\":1},\"geo\":{\"bgcolor\":\"white\",\"landcolor\":\"#E5ECF6\",\"subunitcolor\":\"white\",\"showland\":true,\"showlakes\":true,\"lakecolor\":\"white\"},\"title\":{\"x\":0.05},\"mapbox\":{\"style\":\"light\"}}},\"xaxis\":{\"anchor\":\"y\",\"domain\":[0.0,1.0],\"title\":{\"text\":\"time [beats]\"}},\"yaxis\":{\"anchor\":\"x\",\"domain\":[0.0,1.0],\"title\":{\"text\":\"Type: (Geological Details)\"}},\"legend\":{\"tracegroupgap\":0},\"margin\":{\"t\":60}},                        {\"responsive\": true}                    ).then(function(){\n",
       "                            \n",
       "var gd = document.getElementById('c49799df-d4c3-412a-bb44-4d4a5c8aed89');\n",
       "var x = new MutationObserver(function (mutations, observer) {{\n",
       "        var display = window.getComputedStyle(gd).display;\n",
       "        if (!display || display === 'none') {{\n",
       "            console.log([gd, 'removed!']);\n",
       "            Plotly.purge(gd);\n",
       "            observer.disconnect();\n",
       "        }}\n",
       "}});\n",
       "\n",
       "// Listen for the removal of the full notebook cells\n",
       "var notebookContainer = gd.closest('#notebook-container');\n",
       "if (notebookContainer) {{\n",
       "    x.observe(notebookContainer, {childList: true});\n",
       "}}\n",
       "\n",
       "// Listen for the clearing of the current output cell\n",
       "var outputEl = gd.closest('.output');\n",
       "if (outputEl) {{\n",
       "    x.observe(outputEl, {childList: true});\n",
       "}}\n",
       "\n",
       "                        })                };                });            </script>        </div>"
      ]
     },
     "metadata": {},
     "output_type": "display_data"
    }
   ],
   "source": [
    "#calculate duration in seconds\n",
    "import plotly.express as px\n",
    "bpm = 60  #if bpm = 60, 1 beat = 1 sec \n",
    "duration_sec = duration_beats*60/bpm #duration in seconds (actually, onset of last note)\n",
    "print('Duration:', duration_sec, 'seconds')\n",
    "\n",
    "\n",
    "duration = px.scatter(df, x=t_data, y=type, labels={'x': 'time [beats]', 'y': 'Type: (Geological Details)'})\n",
    "duration.show()"
   ]
  },
  {
   "cell_type": "code",
   "execution_count": 78,
   "metadata": {},
   "outputs": [
    {
     "data": {
      "application/vnd.plotly.v1+json": {
       "config": {
        "plotlyServerURL": "https://plot.ly"
       },
       "data": [
        {
         "hovertemplate": "Reg No: (Registration Detials)=%{x}<br>y_data normalized=%{y}<extra></extra>",
         "legendgroup": "",
         "marker": {
          "color": "#636efa",
          "symbol": "circle"
         },
         "mode": "markers",
         "name": "",
         "orientation": "v",
         "showlegend": false,
         "type": "scatter",
         "x": [
          40,
          28,
          42,
          41,
          39,
          38,
          155,
          33,
          1,
          163,
          152,
          35,
          70,
          139,
          34,
          135,
          156,
          133,
          164,
          118,
          162,
          62,
          49,
          143,
          91,
          30,
          31,
          29,
          174,
          169,
          130,
          99,
          141,
          95,
          145,
          127,
          46,
          100,
          2,
          61,
          119,
          32,
          18,
          128,
          170,
          16,
          90,
          72,
          80,
          85,
          122,
          121,
          43,
          50,
          115,
          129,
          168,
          106,
          161,
          138,
          45,
          96,
          67,
          20,
          19,
          21,
          68,
          165,
          134,
          109,
          140,
          113,
          36,
          88,
          51,
          79,
          102,
          111,
          167,
          3,
          107,
          104,
          157,
          97,
          56,
          60,
          103,
          4,
          117,
          166,
          54,
          92,
          55,
          63,
          66,
          94,
          87,
          75,
          84,
          82,
          78,
          73,
          74,
          53,
          71,
          144,
          124,
          114,
          86,
          142,
          136,
          147,
          126,
          76,
          89,
          153,
          101,
          83,
          110,
          120,
          171,
          137,
          116,
          105,
          44,
          173,
          14,
          158,
          146,
          131,
          98,
          150,
          160,
          22,
          23,
          26,
          25,
          27,
          24,
          125,
          65,
          47,
          48,
          132,
          123,
          159,
          6,
          108,
          64,
          172,
          154,
          151,
          149,
          148,
          112,
          93,
          81,
          77,
          69,
          59,
          58,
          57,
          52,
          37,
          17,
          15,
          13,
          12,
          11,
          10,
          9,
          8,
          7,
          5,
          0
         ],
         "xaxis": "x",
         "y": [
          0.8775619308793742,
          0.9160133513055991,
          0.8709883407113854,
          0.8742813140471173,
          0.8808303292720552,
          0.8840866447369844,
          0.33044727612563335,
          0.9001915504970077,
          0.9971222961920059,
          0.25143267648537193,
          0.3555795011093798,
          0.8937844117641813,
          0.7731113434850684,
          0.44849685092245223,
          0.8969937018449045,
          0.4734320764739993,
          0.32163376045133846,
          0.48541959571905,
          0.23973165074269207,
          0.5673086289311754,
          0.2626128657194451,
          0.802295557085754,
          0.8475793795260129,
          0.42209112705697793,
          0.690660187250484,
          0.909717652294684,
          0.9065534073951573,
          0.9128709291752769,
          0,
          0.1695158759052026,
          0.5028653529707439,
          0.6565321642986127,
          0.4354941703556927,
          0.6738122798715879,
          0.408248290463863,
          0.519725834001674,
          0.8576900278702358,
          0.6521405955174383,
          0.9942362632324556,
          0.805869274359261,
          0.5622205563860045,
          0.9033780792243016,
          0.9468641529479986,
          0.5141671091113803,
          0.15161960871578067,
          0.9529144646879353,
          0.6948083337796512,
          0.7656414934887764,
          0.7350033231608353,
          0.71518826393724,
          0.546672273590534,
          0.5519037064102988,
          0.8676828701884064,
          0.8441822541139559,
          0.5823061563903604,
          0.5085476277156078,
          0.18569533817705186,
          0.6251436616499838,
          0.273336136795267,
          0.454858826147342,
          0.8610338613230188,
          0.6695340634119862,
          0.7841827138719855,
          0.9407749312478345,
          0.9438244527989034,
          0.9377154924749757,
          0.7805097067294234,
          0.227429413073671,
          0.47946330148538413,
          0.6111981825813986,
          0.4420433223684922,
          0.59209349991676,
          0.8905635565617213,
          0.7030312038332427,
          0.8407714027749386,
          0.7389025723965595,
          0.6432675209026769,
          0.6017216678143155,
          0.2005738892714385,
          0.9913418283769,
          0.6205299922359658,
          0.6342703292561561,
          0.3125718308249919,
          0.6652283334556518,
          0.8235052638205963,
          0.8094272134003795,
          0.6387847657947818,
          0.988438917815802,
          0.572351471472339,
          0.21442250696755896,
          0.8304547985373997,
          0.6864869757075454,
          0.8269873312070817,
          0.7987058497862393,
          0.7878385971583354,
          0.6780635036208104,
          0.7071067811865476,
          0.7542980294561158,
          0.7191949522280763,
          0.727142099031481,
          0.7427813527082074,
          0.7618791046583063,
          0.7580980435789034,
          0.8339078479367937,
          0.7693854839990847,
          0.41522739926869984,
          0.5360562674188974,
          0.5872202195147035,
          0.7111590022187596,
          0.4288450139351179,
          0.46732301954611777,
          0.3939192985791677,
          0.5252257314388902,
          0.7504787743864564,
          0.6989318615762461,
          0.3474041668898256,
          0.6477192523656043,
          0.7231794422874079,
          0.6064784348631227,
          0.5570860145311556,
          0.13130643285972254,
          0.461133037377414,
          0.5773502691896257,
          0.6297235299224025,
          0.864364759104401,
          0.07580980435789034,
          0.9589266029707683,
          0.30323921743156135,
          0.401147778542877,
          0.4971181316162278,
          0.6608945522512667,
          0.3713906763541037,
          0.2836543144655877,
          0.9346460390922355,
          0.9315664721070757,
          0.922266074754828,
          0.9253765931124797,
          0.9191450300180579,
          0.9284766908852593,
          0.5306686305052324,
          0.7914775938769179,
          0.854333106856608,
          0.8509629433967631,
          0.4913036844405175,
          0.5413902920037097,
          0.29361010975735174,
          0.982607368881035,
          0.6158817620514397,
          0.795099935886035,
          0.10721125348377948,
          0.3390317518104052,
          0.3635710495157405,
          0.3790490217894517,
          0.3865556717425342,
          0.5969269964413234,
          0.682288239221013,
          0.7310832774866962,
          0.7466399831028446,
          0.7768193328323317,
          0.8129695813681377,
          0.816496580927726,
          0.8200084103858011,
          0.8373466577752349,
          0.8873310102994713,
          0.949894125981792,
          0.9559252603882146,
          0.9619185809213996,
          0.9649012813540153,
          0.9678747900402213,
          0.9708391914381,
          0.9737945687202026,
          0.9767410038007758,
          0.9796785773622534,
          0.9855274566525745,
          1
         ],
         "yaxis": "y"
        }
       ],
       "layout": {
        "legend": {
         "tracegroupgap": 0
        },
        "margin": {
         "t": 60
        },
        "template": {
         "data": {
          "bar": [
           {
            "error_x": {
             "color": "#2a3f5f"
            },
            "error_y": {
             "color": "#2a3f5f"
            },
            "marker": {
             "line": {
              "color": "#E5ECF6",
              "width": 0.5
             },
             "pattern": {
              "fillmode": "overlay",
              "size": 10,
              "solidity": 0.2
             }
            },
            "type": "bar"
           }
          ],
          "barpolar": [
           {
            "marker": {
             "line": {
              "color": "#E5ECF6",
              "width": 0.5
             },
             "pattern": {
              "fillmode": "overlay",
              "size": 10,
              "solidity": 0.2
             }
            },
            "type": "barpolar"
           }
          ],
          "carpet": [
           {
            "aaxis": {
             "endlinecolor": "#2a3f5f",
             "gridcolor": "white",
             "linecolor": "white",
             "minorgridcolor": "white",
             "startlinecolor": "#2a3f5f"
            },
            "baxis": {
             "endlinecolor": "#2a3f5f",
             "gridcolor": "white",
             "linecolor": "white",
             "minorgridcolor": "white",
             "startlinecolor": "#2a3f5f"
            },
            "type": "carpet"
           }
          ],
          "choropleth": [
           {
            "colorbar": {
             "outlinewidth": 0,
             "ticks": ""
            },
            "type": "choropleth"
           }
          ],
          "contour": [
           {
            "colorbar": {
             "outlinewidth": 0,
             "ticks": ""
            },
            "colorscale": [
             [
              0,
              "#0d0887"
             ],
             [
              0.1111111111111111,
              "#46039f"
             ],
             [
              0.2222222222222222,
              "#7201a8"
             ],
             [
              0.3333333333333333,
              "#9c179e"
             ],
             [
              0.4444444444444444,
              "#bd3786"
             ],
             [
              0.5555555555555556,
              "#d8576b"
             ],
             [
              0.6666666666666666,
              "#ed7953"
             ],
             [
              0.7777777777777778,
              "#fb9f3a"
             ],
             [
              0.8888888888888888,
              "#fdca26"
             ],
             [
              1,
              "#f0f921"
             ]
            ],
            "type": "contour"
           }
          ],
          "contourcarpet": [
           {
            "colorbar": {
             "outlinewidth": 0,
             "ticks": ""
            },
            "type": "contourcarpet"
           }
          ],
          "heatmap": [
           {
            "colorbar": {
             "outlinewidth": 0,
             "ticks": ""
            },
            "colorscale": [
             [
              0,
              "#0d0887"
             ],
             [
              0.1111111111111111,
              "#46039f"
             ],
             [
              0.2222222222222222,
              "#7201a8"
             ],
             [
              0.3333333333333333,
              "#9c179e"
             ],
             [
              0.4444444444444444,
              "#bd3786"
             ],
             [
              0.5555555555555556,
              "#d8576b"
             ],
             [
              0.6666666666666666,
              "#ed7953"
             ],
             [
              0.7777777777777778,
              "#fb9f3a"
             ],
             [
              0.8888888888888888,
              "#fdca26"
             ],
             [
              1,
              "#f0f921"
             ]
            ],
            "type": "heatmap"
           }
          ],
          "heatmapgl": [
           {
            "colorbar": {
             "outlinewidth": 0,
             "ticks": ""
            },
            "colorscale": [
             [
              0,
              "#0d0887"
             ],
             [
              0.1111111111111111,
              "#46039f"
             ],
             [
              0.2222222222222222,
              "#7201a8"
             ],
             [
              0.3333333333333333,
              "#9c179e"
             ],
             [
              0.4444444444444444,
              "#bd3786"
             ],
             [
              0.5555555555555556,
              "#d8576b"
             ],
             [
              0.6666666666666666,
              "#ed7953"
             ],
             [
              0.7777777777777778,
              "#fb9f3a"
             ],
             [
              0.8888888888888888,
              "#fdca26"
             ],
             [
              1,
              "#f0f921"
             ]
            ],
            "type": "heatmapgl"
           }
          ],
          "histogram": [
           {
            "marker": {
             "pattern": {
              "fillmode": "overlay",
              "size": 10,
              "solidity": 0.2
             }
            },
            "type": "histogram"
           }
          ],
          "histogram2d": [
           {
            "colorbar": {
             "outlinewidth": 0,
             "ticks": ""
            },
            "colorscale": [
             [
              0,
              "#0d0887"
             ],
             [
              0.1111111111111111,
              "#46039f"
             ],
             [
              0.2222222222222222,
              "#7201a8"
             ],
             [
              0.3333333333333333,
              "#9c179e"
             ],
             [
              0.4444444444444444,
              "#bd3786"
             ],
             [
              0.5555555555555556,
              "#d8576b"
             ],
             [
              0.6666666666666666,
              "#ed7953"
             ],
             [
              0.7777777777777778,
              "#fb9f3a"
             ],
             [
              0.8888888888888888,
              "#fdca26"
             ],
             [
              1,
              "#f0f921"
             ]
            ],
            "type": "histogram2d"
           }
          ],
          "histogram2dcontour": [
           {
            "colorbar": {
             "outlinewidth": 0,
             "ticks": ""
            },
            "colorscale": [
             [
              0,
              "#0d0887"
             ],
             [
              0.1111111111111111,
              "#46039f"
             ],
             [
              0.2222222222222222,
              "#7201a8"
             ],
             [
              0.3333333333333333,
              "#9c179e"
             ],
             [
              0.4444444444444444,
              "#bd3786"
             ],
             [
              0.5555555555555556,
              "#d8576b"
             ],
             [
              0.6666666666666666,
              "#ed7953"
             ],
             [
              0.7777777777777778,
              "#fb9f3a"
             ],
             [
              0.8888888888888888,
              "#fdca26"
             ],
             [
              1,
              "#f0f921"
             ]
            ],
            "type": "histogram2dcontour"
           }
          ],
          "mesh3d": [
           {
            "colorbar": {
             "outlinewidth": 0,
             "ticks": ""
            },
            "type": "mesh3d"
           }
          ],
          "parcoords": [
           {
            "line": {
             "colorbar": {
              "outlinewidth": 0,
              "ticks": ""
             }
            },
            "type": "parcoords"
           }
          ],
          "pie": [
           {
            "automargin": true,
            "type": "pie"
           }
          ],
          "scatter": [
           {
            "fillpattern": {
             "fillmode": "overlay",
             "size": 10,
             "solidity": 0.2
            },
            "type": "scatter"
           }
          ],
          "scatter3d": [
           {
            "line": {
             "colorbar": {
              "outlinewidth": 0,
              "ticks": ""
             }
            },
            "marker": {
             "colorbar": {
              "outlinewidth": 0,
              "ticks": ""
             }
            },
            "type": "scatter3d"
           }
          ],
          "scattercarpet": [
           {
            "marker": {
             "colorbar": {
              "outlinewidth": 0,
              "ticks": ""
             }
            },
            "type": "scattercarpet"
           }
          ],
          "scattergeo": [
           {
            "marker": {
             "colorbar": {
              "outlinewidth": 0,
              "ticks": ""
             }
            },
            "type": "scattergeo"
           }
          ],
          "scattergl": [
           {
            "marker": {
             "colorbar": {
              "outlinewidth": 0,
              "ticks": ""
             }
            },
            "type": "scattergl"
           }
          ],
          "scattermapbox": [
           {
            "marker": {
             "colorbar": {
              "outlinewidth": 0,
              "ticks": ""
             }
            },
            "type": "scattermapbox"
           }
          ],
          "scatterpolar": [
           {
            "marker": {
             "colorbar": {
              "outlinewidth": 0,
              "ticks": ""
             }
            },
            "type": "scatterpolar"
           }
          ],
          "scatterpolargl": [
           {
            "marker": {
             "colorbar": {
              "outlinewidth": 0,
              "ticks": ""
             }
            },
            "type": "scatterpolargl"
           }
          ],
          "scatterternary": [
           {
            "marker": {
             "colorbar": {
              "outlinewidth": 0,
              "ticks": ""
             }
            },
            "type": "scatterternary"
           }
          ],
          "surface": [
           {
            "colorbar": {
             "outlinewidth": 0,
             "ticks": ""
            },
            "colorscale": [
             [
              0,
              "#0d0887"
             ],
             [
              0.1111111111111111,
              "#46039f"
             ],
             [
              0.2222222222222222,
              "#7201a8"
             ],
             [
              0.3333333333333333,
              "#9c179e"
             ],
             [
              0.4444444444444444,
              "#bd3786"
             ],
             [
              0.5555555555555556,
              "#d8576b"
             ],
             [
              0.6666666666666666,
              "#ed7953"
             ],
             [
              0.7777777777777778,
              "#fb9f3a"
             ],
             [
              0.8888888888888888,
              "#fdca26"
             ],
             [
              1,
              "#f0f921"
             ]
            ],
            "type": "surface"
           }
          ],
          "table": [
           {
            "cells": {
             "fill": {
              "color": "#EBF0F8"
             },
             "line": {
              "color": "white"
             }
            },
            "header": {
             "fill": {
              "color": "#C8D4E3"
             },
             "line": {
              "color": "white"
             }
            },
            "type": "table"
           }
          ]
         },
         "layout": {
          "annotationdefaults": {
           "arrowcolor": "#2a3f5f",
           "arrowhead": 0,
           "arrowwidth": 1
          },
          "autotypenumbers": "strict",
          "coloraxis": {
           "colorbar": {
            "outlinewidth": 0,
            "ticks": ""
           }
          },
          "colorscale": {
           "diverging": [
            [
             0,
             "#8e0152"
            ],
            [
             0.1,
             "#c51b7d"
            ],
            [
             0.2,
             "#de77ae"
            ],
            [
             0.3,
             "#f1b6da"
            ],
            [
             0.4,
             "#fde0ef"
            ],
            [
             0.5,
             "#f7f7f7"
            ],
            [
             0.6,
             "#e6f5d0"
            ],
            [
             0.7,
             "#b8e186"
            ],
            [
             0.8,
             "#7fbc41"
            ],
            [
             0.9,
             "#4d9221"
            ],
            [
             1,
             "#276419"
            ]
           ],
           "sequential": [
            [
             0,
             "#0d0887"
            ],
            [
             0.1111111111111111,
             "#46039f"
            ],
            [
             0.2222222222222222,
             "#7201a8"
            ],
            [
             0.3333333333333333,
             "#9c179e"
            ],
            [
             0.4444444444444444,
             "#bd3786"
            ],
            [
             0.5555555555555556,
             "#d8576b"
            ],
            [
             0.6666666666666666,
             "#ed7953"
            ],
            [
             0.7777777777777778,
             "#fb9f3a"
            ],
            [
             0.8888888888888888,
             "#fdca26"
            ],
            [
             1,
             "#f0f921"
            ]
           ],
           "sequentialminus": [
            [
             0,
             "#0d0887"
            ],
            [
             0.1111111111111111,
             "#46039f"
            ],
            [
             0.2222222222222222,
             "#7201a8"
            ],
            [
             0.3333333333333333,
             "#9c179e"
            ],
            [
             0.4444444444444444,
             "#bd3786"
            ],
            [
             0.5555555555555556,
             "#d8576b"
            ],
            [
             0.6666666666666666,
             "#ed7953"
            ],
            [
             0.7777777777777778,
             "#fb9f3a"
            ],
            [
             0.8888888888888888,
             "#fdca26"
            ],
            [
             1,
             "#f0f921"
            ]
           ]
          },
          "colorway": [
           "#636efa",
           "#EF553B",
           "#00cc96",
           "#ab63fa",
           "#FFA15A",
           "#19d3f3",
           "#FF6692",
           "#B6E880",
           "#FF97FF",
           "#FECB52"
          ],
          "font": {
           "color": "#2a3f5f"
          },
          "geo": {
           "bgcolor": "white",
           "lakecolor": "white",
           "landcolor": "#E5ECF6",
           "showlakes": true,
           "showland": true,
           "subunitcolor": "white"
          },
          "hoverlabel": {
           "align": "left"
          },
          "hovermode": "closest",
          "mapbox": {
           "style": "light"
          },
          "paper_bgcolor": "white",
          "plot_bgcolor": "#E5ECF6",
          "polar": {
           "angularaxis": {
            "gridcolor": "white",
            "linecolor": "white",
            "ticks": ""
           },
           "bgcolor": "#E5ECF6",
           "radialaxis": {
            "gridcolor": "white",
            "linecolor": "white",
            "ticks": ""
           }
          },
          "scene": {
           "xaxis": {
            "backgroundcolor": "#E5ECF6",
            "gridcolor": "white",
            "gridwidth": 2,
            "linecolor": "white",
            "showbackground": true,
            "ticks": "",
            "zerolinecolor": "white"
           },
           "yaxis": {
            "backgroundcolor": "#E5ECF6",
            "gridcolor": "white",
            "gridwidth": 2,
            "linecolor": "white",
            "showbackground": true,
            "ticks": "",
            "zerolinecolor": "white"
           },
           "zaxis": {
            "backgroundcolor": "#E5ECF6",
            "gridcolor": "white",
            "gridwidth": 2,
            "linecolor": "white",
            "showbackground": true,
            "ticks": "",
            "zerolinecolor": "white"
           }
          },
          "shapedefaults": {
           "line": {
            "color": "#2a3f5f"
           }
          },
          "ternary": {
           "aaxis": {
            "gridcolor": "white",
            "linecolor": "white",
            "ticks": ""
           },
           "baxis": {
            "gridcolor": "white",
            "linecolor": "white",
            "ticks": ""
           },
           "bgcolor": "#E5ECF6",
           "caxis": {
            "gridcolor": "white",
            "linecolor": "white",
            "ticks": ""
           }
          },
          "title": {
           "x": 0.05
          },
          "xaxis": {
           "automargin": true,
           "gridcolor": "white",
           "linecolor": "white",
           "ticks": "",
           "title": {
            "standoff": 15
           },
           "zerolinecolor": "white",
           "zerolinewidth": 2
          },
          "yaxis": {
           "automargin": true,
           "gridcolor": "white",
           "linecolor": "white",
           "ticks": "",
           "title": {
            "standoff": 15
           },
           "zerolinecolor": "white",
           "zerolinewidth": 2
          }
         }
        },
        "xaxis": {
         "anchor": "y",
         "domain": [
          0,
          1
         ],
         "title": {
          "text": "Reg No: (Registration Detials)"
         }
        },
        "yaxis": {
         "anchor": "x",
         "domain": [
          0,
          1
         ],
         "title": {
          "text": "y_data normalized"
         }
        }
       }
      },
      "text/html": [
       "<div>                            <div id=\"4b85b005-3b5b-49f7-bc72-6ba1c103957e\" class=\"plotly-graph-div\" style=\"height:525px; width:100%;\"></div>            <script type=\"text/javascript\">                require([\"plotly\"], function(Plotly) {                    window.PLOTLYENV=window.PLOTLYENV || {};                                    if (document.getElementById(\"4b85b005-3b5b-49f7-bc72-6ba1c103957e\")) {                    Plotly.newPlot(                        \"4b85b005-3b5b-49f7-bc72-6ba1c103957e\",                        [{\"hovertemplate\":\"Reg No: (Registration Detials)=%{x}\\u003cbr\\u003ey_data normalized=%{y}\\u003cextra\\u003e\\u003c\\u002fextra\\u003e\",\"legendgroup\":\"\",\"marker\":{\"color\":\"#636efa\",\"symbol\":\"circle\"},\"mode\":\"markers\",\"name\":\"\",\"orientation\":\"v\",\"showlegend\":false,\"x\":[40,28,42,41,39,38,155,33,1,163,152,35,70,139,34,135,156,133,164,118,162,62,49,143,91,30,31,29,174,169,130,99,141,95,145,127,46,100,2,61,119,32,18,128,170,16,90,72,80,85,122,121,43,50,115,129,168,106,161,138,45,96,67,20,19,21,68,165,134,109,140,113,36,88,51,79,102,111,167,3,107,104,157,97,56,60,103,4,117,166,54,92,55,63,66,94,87,75,84,82,78,73,74,53,71,144,124,114,86,142,136,147,126,76,89,153,101,83,110,120,171,137,116,105,44,173,14,158,146,131,98,150,160,22,23,26,25,27,24,125,65,47,48,132,123,159,6,108,64,172,154,151,149,148,112,93,81,77,69,59,58,57,52,37,17,15,13,12,11,10,9,8,7,5,0],\"xaxis\":\"x\",\"y\":[0.8775619308793742,0.9160133513055991,0.8709883407113854,0.8742813140471173,0.8808303292720552,0.8840866447369844,0.33044727612563335,0.9001915504970077,0.9971222961920059,0.25143267648537193,0.3555795011093798,0.8937844117641813,0.7731113434850684,0.44849685092245223,0.8969937018449045,0.4734320764739993,0.32163376045133846,0.48541959571905,0.23973165074269207,0.5673086289311754,0.2626128657194451,0.802295557085754,0.8475793795260129,0.42209112705697793,0.690660187250484,0.909717652294684,0.9065534073951573,0.9128709291752769,0.0,0.1695158759052026,0.5028653529707439,0.6565321642986127,0.4354941703556927,0.6738122798715879,0.408248290463863,0.519725834001674,0.8576900278702358,0.6521405955174383,0.9942362632324556,0.805869274359261,0.5622205563860045,0.9033780792243016,0.9468641529479986,0.5141671091113803,0.15161960871578067,0.9529144646879353,0.6948083337796512,0.7656414934887764,0.7350033231608353,0.71518826393724,0.546672273590534,0.5519037064102988,0.8676828701884064,0.8441822541139559,0.5823061563903604,0.5085476277156078,0.18569533817705186,0.6251436616499838,0.273336136795267,0.454858826147342,0.8610338613230188,0.6695340634119862,0.7841827138719855,0.9407749312478345,0.9438244527989034,0.9377154924749757,0.7805097067294234,0.227429413073671,0.47946330148538413,0.6111981825813986,0.4420433223684922,0.59209349991676,0.8905635565617213,0.7030312038332427,0.8407714027749386,0.7389025723965595,0.6432675209026769,0.6017216678143155,0.2005738892714385,0.9913418283769,0.6205299922359658,0.6342703292561561,0.3125718308249919,0.6652283334556518,0.8235052638205963,0.8094272134003795,0.6387847657947818,0.988438917815802,0.572351471472339,0.21442250696755896,0.8304547985373997,0.6864869757075454,0.8269873312070817,0.7987058497862393,0.7878385971583354,0.6780635036208104,0.7071067811865476,0.7542980294561158,0.7191949522280763,0.727142099031481,0.7427813527082074,0.7618791046583063,0.7580980435789034,0.8339078479367937,0.7693854839990847,0.41522739926869984,0.5360562674188974,0.5872202195147035,0.7111590022187596,0.4288450139351179,0.46732301954611777,0.3939192985791677,0.5252257314388902,0.7504787743864564,0.6989318615762461,0.3474041668898256,0.6477192523656043,0.7231794422874079,0.6064784348631227,0.5570860145311556,0.13130643285972254,0.461133037377414,0.5773502691896257,0.6297235299224025,0.864364759104401,0.07580980435789034,0.9589266029707683,0.30323921743156135,0.401147778542877,0.4971181316162278,0.6608945522512667,0.3713906763541037,0.2836543144655877,0.9346460390922355,0.9315664721070757,0.922266074754828,0.9253765931124797,0.9191450300180579,0.9284766908852593,0.5306686305052324,0.7914775938769179,0.854333106856608,0.8509629433967631,0.4913036844405175,0.5413902920037097,0.29361010975735174,0.982607368881035,0.6158817620514397,0.795099935886035,0.10721125348377948,0.3390317518104052,0.3635710495157405,0.3790490217894517,0.3865556717425342,0.5969269964413234,0.682288239221013,0.7310832774866962,0.7466399831028446,0.7768193328323317,0.8129695813681377,0.816496580927726,0.8200084103858011,0.8373466577752349,0.8873310102994713,0.949894125981792,0.9559252603882146,0.9619185809213996,0.9649012813540153,0.9678747900402213,0.9708391914381,0.9737945687202026,0.9767410038007758,0.9796785773622534,0.9855274566525745,1.0],\"yaxis\":\"y\",\"type\":\"scatter\"}],                        {\"template\":{\"data\":{\"histogram2dcontour\":[{\"type\":\"histogram2dcontour\",\"colorbar\":{\"outlinewidth\":0,\"ticks\":\"\"},\"colorscale\":[[0.0,\"#0d0887\"],[0.1111111111111111,\"#46039f\"],[0.2222222222222222,\"#7201a8\"],[0.3333333333333333,\"#9c179e\"],[0.4444444444444444,\"#bd3786\"],[0.5555555555555556,\"#d8576b\"],[0.6666666666666666,\"#ed7953\"],[0.7777777777777778,\"#fb9f3a\"],[0.8888888888888888,\"#fdca26\"],[1.0,\"#f0f921\"]]}],\"choropleth\":[{\"type\":\"choropleth\",\"colorbar\":{\"outlinewidth\":0,\"ticks\":\"\"}}],\"histogram2d\":[{\"type\":\"histogram2d\",\"colorbar\":{\"outlinewidth\":0,\"ticks\":\"\"},\"colorscale\":[[0.0,\"#0d0887\"],[0.1111111111111111,\"#46039f\"],[0.2222222222222222,\"#7201a8\"],[0.3333333333333333,\"#9c179e\"],[0.4444444444444444,\"#bd3786\"],[0.5555555555555556,\"#d8576b\"],[0.6666666666666666,\"#ed7953\"],[0.7777777777777778,\"#fb9f3a\"],[0.8888888888888888,\"#fdca26\"],[1.0,\"#f0f921\"]]}],\"heatmap\":[{\"type\":\"heatmap\",\"colorbar\":{\"outlinewidth\":0,\"ticks\":\"\"},\"colorscale\":[[0.0,\"#0d0887\"],[0.1111111111111111,\"#46039f\"],[0.2222222222222222,\"#7201a8\"],[0.3333333333333333,\"#9c179e\"],[0.4444444444444444,\"#bd3786\"],[0.5555555555555556,\"#d8576b\"],[0.6666666666666666,\"#ed7953\"],[0.7777777777777778,\"#fb9f3a\"],[0.8888888888888888,\"#fdca26\"],[1.0,\"#f0f921\"]]}],\"heatmapgl\":[{\"type\":\"heatmapgl\",\"colorbar\":{\"outlinewidth\":0,\"ticks\":\"\"},\"colorscale\":[[0.0,\"#0d0887\"],[0.1111111111111111,\"#46039f\"],[0.2222222222222222,\"#7201a8\"],[0.3333333333333333,\"#9c179e\"],[0.4444444444444444,\"#bd3786\"],[0.5555555555555556,\"#d8576b\"],[0.6666666666666666,\"#ed7953\"],[0.7777777777777778,\"#fb9f3a\"],[0.8888888888888888,\"#fdca26\"],[1.0,\"#f0f921\"]]}],\"contourcarpet\":[{\"type\":\"contourcarpet\",\"colorbar\":{\"outlinewidth\":0,\"ticks\":\"\"}}],\"contour\":[{\"type\":\"contour\",\"colorbar\":{\"outlinewidth\":0,\"ticks\":\"\"},\"colorscale\":[[0.0,\"#0d0887\"],[0.1111111111111111,\"#46039f\"],[0.2222222222222222,\"#7201a8\"],[0.3333333333333333,\"#9c179e\"],[0.4444444444444444,\"#bd3786\"],[0.5555555555555556,\"#d8576b\"],[0.6666666666666666,\"#ed7953\"],[0.7777777777777778,\"#fb9f3a\"],[0.8888888888888888,\"#fdca26\"],[1.0,\"#f0f921\"]]}],\"surface\":[{\"type\":\"surface\",\"colorbar\":{\"outlinewidth\":0,\"ticks\":\"\"},\"colorscale\":[[0.0,\"#0d0887\"],[0.1111111111111111,\"#46039f\"],[0.2222222222222222,\"#7201a8\"],[0.3333333333333333,\"#9c179e\"],[0.4444444444444444,\"#bd3786\"],[0.5555555555555556,\"#d8576b\"],[0.6666666666666666,\"#ed7953\"],[0.7777777777777778,\"#fb9f3a\"],[0.8888888888888888,\"#fdca26\"],[1.0,\"#f0f921\"]]}],\"mesh3d\":[{\"type\":\"mesh3d\",\"colorbar\":{\"outlinewidth\":0,\"ticks\":\"\"}}],\"scatter\":[{\"fillpattern\":{\"fillmode\":\"overlay\",\"size\":10,\"solidity\":0.2},\"type\":\"scatter\"}],\"parcoords\":[{\"type\":\"parcoords\",\"line\":{\"colorbar\":{\"outlinewidth\":0,\"ticks\":\"\"}}}],\"scatterpolargl\":[{\"type\":\"scatterpolargl\",\"marker\":{\"colorbar\":{\"outlinewidth\":0,\"ticks\":\"\"}}}],\"bar\":[{\"error_x\":{\"color\":\"#2a3f5f\"},\"error_y\":{\"color\":\"#2a3f5f\"},\"marker\":{\"line\":{\"color\":\"#E5ECF6\",\"width\":0.5},\"pattern\":{\"fillmode\":\"overlay\",\"size\":10,\"solidity\":0.2}},\"type\":\"bar\"}],\"scattergeo\":[{\"type\":\"scattergeo\",\"marker\":{\"colorbar\":{\"outlinewidth\":0,\"ticks\":\"\"}}}],\"scatterpolar\":[{\"type\":\"scatterpolar\",\"marker\":{\"colorbar\":{\"outlinewidth\":0,\"ticks\":\"\"}}}],\"histogram\":[{\"marker\":{\"pattern\":{\"fillmode\":\"overlay\",\"size\":10,\"solidity\":0.2}},\"type\":\"histogram\"}],\"scattergl\":[{\"type\":\"scattergl\",\"marker\":{\"colorbar\":{\"outlinewidth\":0,\"ticks\":\"\"}}}],\"scatter3d\":[{\"type\":\"scatter3d\",\"line\":{\"colorbar\":{\"outlinewidth\":0,\"ticks\":\"\"}},\"marker\":{\"colorbar\":{\"outlinewidth\":0,\"ticks\":\"\"}}}],\"scattermapbox\":[{\"type\":\"scattermapbox\",\"marker\":{\"colorbar\":{\"outlinewidth\":0,\"ticks\":\"\"}}}],\"scatterternary\":[{\"type\":\"scatterternary\",\"marker\":{\"colorbar\":{\"outlinewidth\":0,\"ticks\":\"\"}}}],\"scattercarpet\":[{\"type\":\"scattercarpet\",\"marker\":{\"colorbar\":{\"outlinewidth\":0,\"ticks\":\"\"}}}],\"carpet\":[{\"aaxis\":{\"endlinecolor\":\"#2a3f5f\",\"gridcolor\":\"white\",\"linecolor\":\"white\",\"minorgridcolor\":\"white\",\"startlinecolor\":\"#2a3f5f\"},\"baxis\":{\"endlinecolor\":\"#2a3f5f\",\"gridcolor\":\"white\",\"linecolor\":\"white\",\"minorgridcolor\":\"white\",\"startlinecolor\":\"#2a3f5f\"},\"type\":\"carpet\"}],\"table\":[{\"cells\":{\"fill\":{\"color\":\"#EBF0F8\"},\"line\":{\"color\":\"white\"}},\"header\":{\"fill\":{\"color\":\"#C8D4E3\"},\"line\":{\"color\":\"white\"}},\"type\":\"table\"}],\"barpolar\":[{\"marker\":{\"line\":{\"color\":\"#E5ECF6\",\"width\":0.5},\"pattern\":{\"fillmode\":\"overlay\",\"size\":10,\"solidity\":0.2}},\"type\":\"barpolar\"}],\"pie\":[{\"automargin\":true,\"type\":\"pie\"}]},\"layout\":{\"autotypenumbers\":\"strict\",\"colorway\":[\"#636efa\",\"#EF553B\",\"#00cc96\",\"#ab63fa\",\"#FFA15A\",\"#19d3f3\",\"#FF6692\",\"#B6E880\",\"#FF97FF\",\"#FECB52\"],\"font\":{\"color\":\"#2a3f5f\"},\"hovermode\":\"closest\",\"hoverlabel\":{\"align\":\"left\"},\"paper_bgcolor\":\"white\",\"plot_bgcolor\":\"#E5ECF6\",\"polar\":{\"bgcolor\":\"#E5ECF6\",\"angularaxis\":{\"gridcolor\":\"white\",\"linecolor\":\"white\",\"ticks\":\"\"},\"radialaxis\":{\"gridcolor\":\"white\",\"linecolor\":\"white\",\"ticks\":\"\"}},\"ternary\":{\"bgcolor\":\"#E5ECF6\",\"aaxis\":{\"gridcolor\":\"white\",\"linecolor\":\"white\",\"ticks\":\"\"},\"baxis\":{\"gridcolor\":\"white\",\"linecolor\":\"white\",\"ticks\":\"\"},\"caxis\":{\"gridcolor\":\"white\",\"linecolor\":\"white\",\"ticks\":\"\"}},\"coloraxis\":{\"colorbar\":{\"outlinewidth\":0,\"ticks\":\"\"}},\"colorscale\":{\"sequential\":[[0.0,\"#0d0887\"],[0.1111111111111111,\"#46039f\"],[0.2222222222222222,\"#7201a8\"],[0.3333333333333333,\"#9c179e\"],[0.4444444444444444,\"#bd3786\"],[0.5555555555555556,\"#d8576b\"],[0.6666666666666666,\"#ed7953\"],[0.7777777777777778,\"#fb9f3a\"],[0.8888888888888888,\"#fdca26\"],[1.0,\"#f0f921\"]],\"sequentialminus\":[[0.0,\"#0d0887\"],[0.1111111111111111,\"#46039f\"],[0.2222222222222222,\"#7201a8\"],[0.3333333333333333,\"#9c179e\"],[0.4444444444444444,\"#bd3786\"],[0.5555555555555556,\"#d8576b\"],[0.6666666666666666,\"#ed7953\"],[0.7777777777777778,\"#fb9f3a\"],[0.8888888888888888,\"#fdca26\"],[1.0,\"#f0f921\"]],\"diverging\":[[0,\"#8e0152\"],[0.1,\"#c51b7d\"],[0.2,\"#de77ae\"],[0.3,\"#f1b6da\"],[0.4,\"#fde0ef\"],[0.5,\"#f7f7f7\"],[0.6,\"#e6f5d0\"],[0.7,\"#b8e186\"],[0.8,\"#7fbc41\"],[0.9,\"#4d9221\"],[1,\"#276419\"]]},\"xaxis\":{\"gridcolor\":\"white\",\"linecolor\":\"white\",\"ticks\":\"\",\"title\":{\"standoff\":15},\"zerolinecolor\":\"white\",\"automargin\":true,\"zerolinewidth\":2},\"yaxis\":{\"gridcolor\":\"white\",\"linecolor\":\"white\",\"ticks\":\"\",\"title\":{\"standoff\":15},\"zerolinecolor\":\"white\",\"automargin\":true,\"zerolinewidth\":2},\"scene\":{\"xaxis\":{\"backgroundcolor\":\"#E5ECF6\",\"gridcolor\":\"white\",\"linecolor\":\"white\",\"showbackground\":true,\"ticks\":\"\",\"zerolinecolor\":\"white\",\"gridwidth\":2},\"yaxis\":{\"backgroundcolor\":\"#E5ECF6\",\"gridcolor\":\"white\",\"linecolor\":\"white\",\"showbackground\":true,\"ticks\":\"\",\"zerolinecolor\":\"white\",\"gridwidth\":2},\"zaxis\":{\"backgroundcolor\":\"#E5ECF6\",\"gridcolor\":\"white\",\"linecolor\":\"white\",\"showbackground\":true,\"ticks\":\"\",\"zerolinecolor\":\"white\",\"gridwidth\":2}},\"shapedefaults\":{\"line\":{\"color\":\"#2a3f5f\"}},\"annotationdefaults\":{\"arrowcolor\":\"#2a3f5f\",\"arrowhead\":0,\"arrowwidth\":1},\"geo\":{\"bgcolor\":\"white\",\"landcolor\":\"#E5ECF6\",\"subunitcolor\":\"white\",\"showland\":true,\"showlakes\":true,\"lakecolor\":\"white\"},\"title\":{\"x\":0.05},\"mapbox\":{\"style\":\"light\"}}},\"xaxis\":{\"anchor\":\"y\",\"domain\":[0.0,1.0],\"title\":{\"text\":\"Reg No: (Registration Detials)\"}},\"yaxis\":{\"anchor\":\"x\",\"domain\":[0.0,1.0],\"title\":{\"text\":\"y_data normalized\"}},\"legend\":{\"tracegroupgap\":0},\"margin\":{\"t\":60}},                        {\"responsive\": true}                    ).then(function(){\n",
       "                            \n",
       "var gd = document.getElementById('4b85b005-3b5b-49f7-bc72-6ba1c103957e');\n",
       "var x = new MutationObserver(function (mutations, observer) {{\n",
       "        var display = window.getComputedStyle(gd).display;\n",
       "        if (!display || display === 'none') {{\n",
       "            console.log([gd, 'removed!']);\n",
       "            Plotly.purge(gd);\n",
       "            observer.disconnect();\n",
       "        }}\n",
       "}});\n",
       "\n",
       "// Listen for the removal of the full notebook cells\n",
       "var notebookContainer = gd.closest('#notebook-container');\n",
       "if (notebookContainer) {{\n",
       "    x.observe(notebookContainer, {childList: true});\n",
       "}}\n",
       "\n",
       "// Listen for the clearing of the current output cell\n",
       "var outputEl = gd.closest('.output');\n",
       "if (outputEl) {{\n",
       "    x.observe(outputEl, {childList: true});\n",
       "}}\n",
       "\n",
       "                        })                };                });            </script>        </div>"
      ]
     },
     "metadata": {},
     "output_type": "display_data"
    }
   ],
   "source": [
    "\n",
    "y_data = map_value(id, min(id), max(id), 0, 1) #normalize data, so it runs from 0 to 1 \n",
    "\n",
    "y_scale = 0.5  #lower than 1 to spread out more evenly\n",
    "\n",
    "y_data = y_data**y_scale\n",
    "\n",
    "normalized_data = px.scatter(df, x=time_yrs,y=y_data,labels={'x':'Reg No: (Registration Detials)','y':'y_data normalized'})\n",
    "normalized_data.show()\n"
   ]
  },
  {
   "cell_type": "code",
   "execution_count": 79,
   "metadata": {},
   "outputs": [],
   "source": [
    "MIDI_A4 = 69   # MIDI Pitch number\n",
    "import itertools as it\n",
    "from numpy import nan\n",
    "\n",
    "\n",
    "def str2midi(note_string):\n",
    "  \"\"\"\n",
    "  Given a note string name (e.g. \"Bb4\"), returns its MIDI pitch number.\n",
    "  \"\"\"\n",
    "  if note_string == \"?\":\n",
    "    return nan\n",
    "  data = note_string.strip().lower()\n",
    "  name2delta = {\"c\": -9, \"d\": -7, \"e\": -5, \"f\": -4, \"g\": -2, \"a\": 0, \"b\": 2}\n",
    "  accident2delta = {\"b\": -1, \"#\": 1, \"x\": 2}\n",
    "  accidents = list(it.takewhile(lambda el: el in accident2delta, data[1:]))\n",
    "  octave_delta = int(data[len(accidents) + 1:]) - 4\n",
    "  return (MIDI_A4 +\n",
    "          name2delta[data[0]] + # Name\n",
    "          sum(accident2delta[ac] for ac in accidents) + # Accident\n",
    "          12 * octave_delta # Octave\n",
    "         )\n"
   ]
  },
  {
   "cell_type": "code",
   "execution_count": 83,
   "metadata": {},
   "outputs": [
    {
     "name": "stdout",
     "output_type": "stream",
     "text": [
      "Resolution: 23 notes\n"
     ]
    },
    {
     "data": {
      "text/plain": [
       "67"
      ]
     },
     "execution_count": 83,
     "metadata": {},
     "output_type": "execute_result"
    }
   ],
   "source": [
    "#from audiolazy import str2midi #import function to convert note names to midi numbers (could also use: midi2str, str2freq, freq2str,freq2midi,midi2freq) https://pypi.org/project/audiolazy/\n",
    "\n",
    "# 4 octaves of major scale\n",
    "note_names = ['C2','D2','E2','F2','G2','A2','B2',\n",
    "             'C3','D3','E3','F3','G3','A3','B3',\n",
    "             'C4','D4','E4','F4','G4','A4','B4',\n",
    "             'C5','D5','E5','F5','G5','A5','B5']\n",
    "\n",
    "#4 octaves of major pentatonic scale \n",
    "note_names = ['C2','D2','E2','G2','A2',\n",
    "             'C3','D3','E3','G3','A3',\n",
    "             'C4','D4','E4','G4','A4',\n",
    "             'C5','D5','E5','G5','A5']\n",
    "\n",
    "#custom note set (a voicing of a Cmaj13#11 chord, notes from C lydian)\n",
    "note_names = ['C1','C2','G2',\n",
    "             'C3','E3','G3','A3','B3',\n",
    "             'D4','E4','G4','A4','B4',\n",
    "             'D5','E5','G5','A5','B5',\n",
    "             'D6','E6','F#6','G6','A6']\n",
    "\n",
    "note_midis = [str2midi(n) for n in note_names] #make a list of midi note numbers \n",
    "\n",
    "n_notes = len(note_midis)\n",
    "print('Resolution:',n_notes, 'notes')\n",
    "\n",
    "note_midis[10]\n"
   ]
  },
  {
   "cell_type": "code",
   "execution_count": 85,
   "metadata": {},
   "outputs": [
    {
     "data": {
      "application/vnd.plotly.v1+json": {
       "config": {
        "plotlyServerURL": "https://plot.ly"
       },
       "data": [
        {
         "hovertemplate": "time [beats]=%{x}<br>midi note numbers=%{y}<extra></extra>",
         "legendgroup": "",
         "marker": {
          "color": "#636efa",
          "symbol": "circle"
         },
         "mode": "markers",
         "name": "",
         "orientation": "v",
         "showlegend": false,
         "type": "scatter",
         "x": [
          8,
          5.6,
          8.4,
          8.2,
          7.8,
          7.6,
          31,
          6.6,
          0.2,
          32.6,
          30.4,
          7,
          14,
          27.8,
          6.8,
          27,
          31.2,
          26.6,
          32.8,
          23.6,
          32.4,
          12.4,
          9.8,
          28.6,
          18.2,
          6,
          6.2,
          5.8,
          34.8,
          33.8,
          26,
          19.8,
          28.2,
          19,
          29,
          25.4,
          9.2,
          20,
          0.4,
          12.2,
          23.8,
          6.4,
          3.6,
          25.6,
          34,
          3.2,
          18,
          14.4,
          16,
          17,
          24.4,
          24.2,
          8.6,
          10,
          23,
          25.8,
          33.6,
          21.2,
          32.2,
          27.6,
          9,
          19.2,
          13.4,
          4,
          3.8,
          4.2,
          13.6,
          33,
          26.8,
          21.8,
          28,
          22.6,
          7.2,
          17.6,
          10.2,
          15.8,
          20.4,
          22.2,
          33.4,
          0.6,
          21.4,
          20.8,
          31.4,
          19.4,
          11.2,
          12,
          20.6,
          0.8,
          23.4,
          33.2,
          10.8,
          18.4,
          11,
          12.6,
          13.2,
          18.8,
          17.4,
          15,
          16.8,
          16.4,
          15.6,
          14.6,
          14.8,
          10.6,
          14.2,
          28.8,
          24.8,
          22.8,
          17.2,
          28.4,
          27.2,
          29.4,
          25.2,
          15.2,
          17.8,
          30.6,
          20.2,
          16.6,
          22,
          24,
          34.2,
          27.4,
          23.2,
          21,
          8.8,
          34.6,
          2.8,
          31.6,
          29.2,
          26.2,
          19.6,
          30,
          32,
          4.4,
          4.6,
          5.2,
          5,
          5.4,
          4.8,
          25,
          13,
          9.4,
          9.6,
          26.4,
          24.6,
          31.8,
          1.2,
          21.6,
          12.8,
          34.4,
          30.8,
          30.2,
          29.8,
          29.6,
          22.4,
          18.6,
          16.2,
          15.4,
          13.8,
          11.8,
          11.6,
          11.4,
          10.4,
          7.4,
          3.4,
          3,
          2.6,
          2.4,
          2.2,
          2,
          1.8,
          1.6,
          1.4,
          1,
          0
         ],
         "xaxis": "x",
         "y": [
          48,
          43,
          48,
          48,
          48,
          48,
          79,
          43,
          24,
          81,
          76,
          43,
          55,
          71,
          43,
          71,
          79,
          69,
          83,
          67,
          81,
          52,
          48,
          74,
          59,
          43,
          43,
          43,
          93,
          86,
          69,
          62,
          71,
          59,
          74,
          69,
          48,
          62,
          24,
          52,
          67,
          43,
          36,
          69,
          88,
          36,
          59,
          55,
          57,
          57,
          67,
          67,
          48,
          48,
          64,
          69,
          86,
          62,
          81,
          71,
          48,
          59,
          55,
          36,
          36,
          36,
          55,
          83,
          69,
          64,
          71,
          64,
          43,
          59,
          52,
          57,
          62,
          64,
          86,
          24,
          62,
          62,
          79,
          59,
          52,
          52,
          62,
          24,
          64,
          83,
          52,
          59,
          52,
          52,
          55,
          59,
          57,
          55,
          57,
          57,
          57,
          55,
          55,
          52,
          55,
          74,
          67,
          64,
          57,
          74,
          71,
          74,
          67,
          55,
          59,
          76,
          62,
          57,
          64,
          67,
          88,
          71,
          64,
          62,
          48,
          90,
          36,
          79,
          74,
          69,
          59,
          76,
          81,
          36,
          43,
          43,
          43,
          43,
          43,
          67,
          55,
          48,
          48,
          69,
          67,
          81,
          24,
          62,
          55,
          90,
          79,
          76,
          76,
          74,
          64,
          59,
          57,
          57,
          55,
          52,
          52,
          52,
          52,
          43,
          36,
          36,
          36,
          36,
          36,
          36,
          36,
          36,
          24,
          24,
          24
         ],
         "yaxis": "y"
        }
       ],
       "layout": {
        "legend": {
         "tracegroupgap": 0
        },
        "margin": {
         "t": 60
        },
        "template": {
         "data": {
          "bar": [
           {
            "error_x": {
             "color": "#2a3f5f"
            },
            "error_y": {
             "color": "#2a3f5f"
            },
            "marker": {
             "line": {
              "color": "#E5ECF6",
              "width": 0.5
             },
             "pattern": {
              "fillmode": "overlay",
              "size": 10,
              "solidity": 0.2
             }
            },
            "type": "bar"
           }
          ],
          "barpolar": [
           {
            "marker": {
             "line": {
              "color": "#E5ECF6",
              "width": 0.5
             },
             "pattern": {
              "fillmode": "overlay",
              "size": 10,
              "solidity": 0.2
             }
            },
            "type": "barpolar"
           }
          ],
          "carpet": [
           {
            "aaxis": {
             "endlinecolor": "#2a3f5f",
             "gridcolor": "white",
             "linecolor": "white",
             "minorgridcolor": "white",
             "startlinecolor": "#2a3f5f"
            },
            "baxis": {
             "endlinecolor": "#2a3f5f",
             "gridcolor": "white",
             "linecolor": "white",
             "minorgridcolor": "white",
             "startlinecolor": "#2a3f5f"
            },
            "type": "carpet"
           }
          ],
          "choropleth": [
           {
            "colorbar": {
             "outlinewidth": 0,
             "ticks": ""
            },
            "type": "choropleth"
           }
          ],
          "contour": [
           {
            "colorbar": {
             "outlinewidth": 0,
             "ticks": ""
            },
            "colorscale": [
             [
              0,
              "#0d0887"
             ],
             [
              0.1111111111111111,
              "#46039f"
             ],
             [
              0.2222222222222222,
              "#7201a8"
             ],
             [
              0.3333333333333333,
              "#9c179e"
             ],
             [
              0.4444444444444444,
              "#bd3786"
             ],
             [
              0.5555555555555556,
              "#d8576b"
             ],
             [
              0.6666666666666666,
              "#ed7953"
             ],
             [
              0.7777777777777778,
              "#fb9f3a"
             ],
             [
              0.8888888888888888,
              "#fdca26"
             ],
             [
              1,
              "#f0f921"
             ]
            ],
            "type": "contour"
           }
          ],
          "contourcarpet": [
           {
            "colorbar": {
             "outlinewidth": 0,
             "ticks": ""
            },
            "type": "contourcarpet"
           }
          ],
          "heatmap": [
           {
            "colorbar": {
             "outlinewidth": 0,
             "ticks": ""
            },
            "colorscale": [
             [
              0,
              "#0d0887"
             ],
             [
              0.1111111111111111,
              "#46039f"
             ],
             [
              0.2222222222222222,
              "#7201a8"
             ],
             [
              0.3333333333333333,
              "#9c179e"
             ],
             [
              0.4444444444444444,
              "#bd3786"
             ],
             [
              0.5555555555555556,
              "#d8576b"
             ],
             [
              0.6666666666666666,
              "#ed7953"
             ],
             [
              0.7777777777777778,
              "#fb9f3a"
             ],
             [
              0.8888888888888888,
              "#fdca26"
             ],
             [
              1,
              "#f0f921"
             ]
            ],
            "type": "heatmap"
           }
          ],
          "heatmapgl": [
           {
            "colorbar": {
             "outlinewidth": 0,
             "ticks": ""
            },
            "colorscale": [
             [
              0,
              "#0d0887"
             ],
             [
              0.1111111111111111,
              "#46039f"
             ],
             [
              0.2222222222222222,
              "#7201a8"
             ],
             [
              0.3333333333333333,
              "#9c179e"
             ],
             [
              0.4444444444444444,
              "#bd3786"
             ],
             [
              0.5555555555555556,
              "#d8576b"
             ],
             [
              0.6666666666666666,
              "#ed7953"
             ],
             [
              0.7777777777777778,
              "#fb9f3a"
             ],
             [
              0.8888888888888888,
              "#fdca26"
             ],
             [
              1,
              "#f0f921"
             ]
            ],
            "type": "heatmapgl"
           }
          ],
          "histogram": [
           {
            "marker": {
             "pattern": {
              "fillmode": "overlay",
              "size": 10,
              "solidity": 0.2
             }
            },
            "type": "histogram"
           }
          ],
          "histogram2d": [
           {
            "colorbar": {
             "outlinewidth": 0,
             "ticks": ""
            },
            "colorscale": [
             [
              0,
              "#0d0887"
             ],
             [
              0.1111111111111111,
              "#46039f"
             ],
             [
              0.2222222222222222,
              "#7201a8"
             ],
             [
              0.3333333333333333,
              "#9c179e"
             ],
             [
              0.4444444444444444,
              "#bd3786"
             ],
             [
              0.5555555555555556,
              "#d8576b"
             ],
             [
              0.6666666666666666,
              "#ed7953"
             ],
             [
              0.7777777777777778,
              "#fb9f3a"
             ],
             [
              0.8888888888888888,
              "#fdca26"
             ],
             [
              1,
              "#f0f921"
             ]
            ],
            "type": "histogram2d"
           }
          ],
          "histogram2dcontour": [
           {
            "colorbar": {
             "outlinewidth": 0,
             "ticks": ""
            },
            "colorscale": [
             [
              0,
              "#0d0887"
             ],
             [
              0.1111111111111111,
              "#46039f"
             ],
             [
              0.2222222222222222,
              "#7201a8"
             ],
             [
              0.3333333333333333,
              "#9c179e"
             ],
             [
              0.4444444444444444,
              "#bd3786"
             ],
             [
              0.5555555555555556,
              "#d8576b"
             ],
             [
              0.6666666666666666,
              "#ed7953"
             ],
             [
              0.7777777777777778,
              "#fb9f3a"
             ],
             [
              0.8888888888888888,
              "#fdca26"
             ],
             [
              1,
              "#f0f921"
             ]
            ],
            "type": "histogram2dcontour"
           }
          ],
          "mesh3d": [
           {
            "colorbar": {
             "outlinewidth": 0,
             "ticks": ""
            },
            "type": "mesh3d"
           }
          ],
          "parcoords": [
           {
            "line": {
             "colorbar": {
              "outlinewidth": 0,
              "ticks": ""
             }
            },
            "type": "parcoords"
           }
          ],
          "pie": [
           {
            "automargin": true,
            "type": "pie"
           }
          ],
          "scatter": [
           {
            "fillpattern": {
             "fillmode": "overlay",
             "size": 10,
             "solidity": 0.2
            },
            "type": "scatter"
           }
          ],
          "scatter3d": [
           {
            "line": {
             "colorbar": {
              "outlinewidth": 0,
              "ticks": ""
             }
            },
            "marker": {
             "colorbar": {
              "outlinewidth": 0,
              "ticks": ""
             }
            },
            "type": "scatter3d"
           }
          ],
          "scattercarpet": [
           {
            "marker": {
             "colorbar": {
              "outlinewidth": 0,
              "ticks": ""
             }
            },
            "type": "scattercarpet"
           }
          ],
          "scattergeo": [
           {
            "marker": {
             "colorbar": {
              "outlinewidth": 0,
              "ticks": ""
             }
            },
            "type": "scattergeo"
           }
          ],
          "scattergl": [
           {
            "marker": {
             "colorbar": {
              "outlinewidth": 0,
              "ticks": ""
             }
            },
            "type": "scattergl"
           }
          ],
          "scattermapbox": [
           {
            "marker": {
             "colorbar": {
              "outlinewidth": 0,
              "ticks": ""
             }
            },
            "type": "scattermapbox"
           }
          ],
          "scatterpolar": [
           {
            "marker": {
             "colorbar": {
              "outlinewidth": 0,
              "ticks": ""
             }
            },
            "type": "scatterpolar"
           }
          ],
          "scatterpolargl": [
           {
            "marker": {
             "colorbar": {
              "outlinewidth": 0,
              "ticks": ""
             }
            },
            "type": "scatterpolargl"
           }
          ],
          "scatterternary": [
           {
            "marker": {
             "colorbar": {
              "outlinewidth": 0,
              "ticks": ""
             }
            },
            "type": "scatterternary"
           }
          ],
          "surface": [
           {
            "colorbar": {
             "outlinewidth": 0,
             "ticks": ""
            },
            "colorscale": [
             [
              0,
              "#0d0887"
             ],
             [
              0.1111111111111111,
              "#46039f"
             ],
             [
              0.2222222222222222,
              "#7201a8"
             ],
             [
              0.3333333333333333,
              "#9c179e"
             ],
             [
              0.4444444444444444,
              "#bd3786"
             ],
             [
              0.5555555555555556,
              "#d8576b"
             ],
             [
              0.6666666666666666,
              "#ed7953"
             ],
             [
              0.7777777777777778,
              "#fb9f3a"
             ],
             [
              0.8888888888888888,
              "#fdca26"
             ],
             [
              1,
              "#f0f921"
             ]
            ],
            "type": "surface"
           }
          ],
          "table": [
           {
            "cells": {
             "fill": {
              "color": "#EBF0F8"
             },
             "line": {
              "color": "white"
             }
            },
            "header": {
             "fill": {
              "color": "#C8D4E3"
             },
             "line": {
              "color": "white"
             }
            },
            "type": "table"
           }
          ]
         },
         "layout": {
          "annotationdefaults": {
           "arrowcolor": "#2a3f5f",
           "arrowhead": 0,
           "arrowwidth": 1
          },
          "autotypenumbers": "strict",
          "coloraxis": {
           "colorbar": {
            "outlinewidth": 0,
            "ticks": ""
           }
          },
          "colorscale": {
           "diverging": [
            [
             0,
             "#8e0152"
            ],
            [
             0.1,
             "#c51b7d"
            ],
            [
             0.2,
             "#de77ae"
            ],
            [
             0.3,
             "#f1b6da"
            ],
            [
             0.4,
             "#fde0ef"
            ],
            [
             0.5,
             "#f7f7f7"
            ],
            [
             0.6,
             "#e6f5d0"
            ],
            [
             0.7,
             "#b8e186"
            ],
            [
             0.8,
             "#7fbc41"
            ],
            [
             0.9,
             "#4d9221"
            ],
            [
             1,
             "#276419"
            ]
           ],
           "sequential": [
            [
             0,
             "#0d0887"
            ],
            [
             0.1111111111111111,
             "#46039f"
            ],
            [
             0.2222222222222222,
             "#7201a8"
            ],
            [
             0.3333333333333333,
             "#9c179e"
            ],
            [
             0.4444444444444444,
             "#bd3786"
            ],
            [
             0.5555555555555556,
             "#d8576b"
            ],
            [
             0.6666666666666666,
             "#ed7953"
            ],
            [
             0.7777777777777778,
             "#fb9f3a"
            ],
            [
             0.8888888888888888,
             "#fdca26"
            ],
            [
             1,
             "#f0f921"
            ]
           ],
           "sequentialminus": [
            [
             0,
             "#0d0887"
            ],
            [
             0.1111111111111111,
             "#46039f"
            ],
            [
             0.2222222222222222,
             "#7201a8"
            ],
            [
             0.3333333333333333,
             "#9c179e"
            ],
            [
             0.4444444444444444,
             "#bd3786"
            ],
            [
             0.5555555555555556,
             "#d8576b"
            ],
            [
             0.6666666666666666,
             "#ed7953"
            ],
            [
             0.7777777777777778,
             "#fb9f3a"
            ],
            [
             0.8888888888888888,
             "#fdca26"
            ],
            [
             1,
             "#f0f921"
            ]
           ]
          },
          "colorway": [
           "#636efa",
           "#EF553B",
           "#00cc96",
           "#ab63fa",
           "#FFA15A",
           "#19d3f3",
           "#FF6692",
           "#B6E880",
           "#FF97FF",
           "#FECB52"
          ],
          "font": {
           "color": "#2a3f5f"
          },
          "geo": {
           "bgcolor": "white",
           "lakecolor": "white",
           "landcolor": "#E5ECF6",
           "showlakes": true,
           "showland": true,
           "subunitcolor": "white"
          },
          "hoverlabel": {
           "align": "left"
          },
          "hovermode": "closest",
          "mapbox": {
           "style": "light"
          },
          "paper_bgcolor": "white",
          "plot_bgcolor": "#E5ECF6",
          "polar": {
           "angularaxis": {
            "gridcolor": "white",
            "linecolor": "white",
            "ticks": ""
           },
           "bgcolor": "#E5ECF6",
           "radialaxis": {
            "gridcolor": "white",
            "linecolor": "white",
            "ticks": ""
           }
          },
          "scene": {
           "xaxis": {
            "backgroundcolor": "#E5ECF6",
            "gridcolor": "white",
            "gridwidth": 2,
            "linecolor": "white",
            "showbackground": true,
            "ticks": "",
            "zerolinecolor": "white"
           },
           "yaxis": {
            "backgroundcolor": "#E5ECF6",
            "gridcolor": "white",
            "gridwidth": 2,
            "linecolor": "white",
            "showbackground": true,
            "ticks": "",
            "zerolinecolor": "white"
           },
           "zaxis": {
            "backgroundcolor": "#E5ECF6",
            "gridcolor": "white",
            "gridwidth": 2,
            "linecolor": "white",
            "showbackground": true,
            "ticks": "",
            "zerolinecolor": "white"
           }
          },
          "shapedefaults": {
           "line": {
            "color": "#2a3f5f"
           }
          },
          "ternary": {
           "aaxis": {
            "gridcolor": "white",
            "linecolor": "white",
            "ticks": ""
           },
           "baxis": {
            "gridcolor": "white",
            "linecolor": "white",
            "ticks": ""
           },
           "bgcolor": "#E5ECF6",
           "caxis": {
            "gridcolor": "white",
            "linecolor": "white",
            "ticks": ""
           }
          },
          "title": {
           "x": 0.05
          },
          "xaxis": {
           "automargin": true,
           "gridcolor": "white",
           "linecolor": "white",
           "ticks": "",
           "title": {
            "standoff": 15
           },
           "zerolinecolor": "white",
           "zerolinewidth": 2
          },
          "yaxis": {
           "automargin": true,
           "gridcolor": "white",
           "linecolor": "white",
           "ticks": "",
           "title": {
            "standoff": 15
           },
           "zerolinecolor": "white",
           "zerolinewidth": 2
          }
         }
        },
        "xaxis": {
         "anchor": "y",
         "domain": [
          0,
          1
         ],
         "title": {
          "text": "time [beats]"
         }
        },
        "yaxis": {
         "anchor": "x",
         "domain": [
          0,
          1
         ],
         "title": {
          "text": "midi note numbers"
         }
        }
       }
      },
      "text/html": [
       "<div>                            <div id=\"54a4f76b-f349-4206-8de8-cc15cd5e0f67\" class=\"plotly-graph-div\" style=\"height:525px; width:100%;\"></div>            <script type=\"text/javascript\">                require([\"plotly\"], function(Plotly) {                    window.PLOTLYENV=window.PLOTLYENV || {};                                    if (document.getElementById(\"54a4f76b-f349-4206-8de8-cc15cd5e0f67\")) {                    Plotly.newPlot(                        \"54a4f76b-f349-4206-8de8-cc15cd5e0f67\",                        [{\"hovertemplate\":\"time [beats]=%{x}\\u003cbr\\u003emidi note numbers=%{y}\\u003cextra\\u003e\\u003c\\u002fextra\\u003e\",\"legendgroup\":\"\",\"marker\":{\"color\":\"#636efa\",\"symbol\":\"circle\"},\"mode\":\"markers\",\"name\":\"\",\"orientation\":\"v\",\"showlegend\":false,\"x\":[8.0,5.6,8.4,8.2,7.8,7.6,31.0,6.6,0.2,32.6,30.4,7.0,14.0,27.8,6.8,27.0,31.2,26.6,32.8,23.6,32.4,12.4,9.8,28.6,18.2,6.0,6.2,5.8,34.8,33.8,26.0,19.8,28.2,19.0,29.0,25.4,9.2,20.0,0.4,12.2,23.8,6.4,3.6,25.6,34.0,3.2,18.0,14.4,16.0,17.0,24.4,24.2,8.6,10.0,23.0,25.8,33.6,21.2,32.2,27.6,9.0,19.2,13.4,4.0,3.8,4.2,13.6,33.0,26.8,21.8,28.0,22.6,7.2,17.6,10.2,15.8,20.4,22.2,33.4,0.6,21.4,20.8,31.4,19.4,11.2,12.0,20.6,0.8,23.4,33.2,10.8,18.4,11.0,12.6,13.2,18.8,17.4,15.0,16.8,16.4,15.6,14.6,14.8,10.6,14.2,28.8,24.8,22.8,17.2,28.4,27.2,29.4,25.2,15.2,17.8,30.6,20.2,16.6,22.0,24.0,34.2,27.4,23.2,21.0,8.8,34.6,2.8,31.6,29.2,26.2,19.6,30.0,32.0,4.4,4.6,5.2,5.0,5.4,4.8,25.0,13.0,9.4,9.6,26.4,24.6,31.8,1.2,21.6,12.8,34.4,30.8,30.2,29.8,29.6,22.4,18.6,16.2,15.4,13.8,11.8,11.6,11.4,10.4,7.4,3.4,3.0,2.6,2.4,2.2,2.0,1.8,1.6,1.4,1.0,0.0],\"xaxis\":\"x\",\"y\":[48,43,48,48,48,48,79,43,24,81,76,43,55,71,43,71,79,69,83,67,81,52,48,74,59,43,43,43,93,86,69,62,71,59,74,69,48,62,24,52,67,43,36,69,88,36,59,55,57,57,67,67,48,48,64,69,86,62,81,71,48,59,55,36,36,36,55,83,69,64,71,64,43,59,52,57,62,64,86,24,62,62,79,59,52,52,62,24,64,83,52,59,52,52,55,59,57,55,57,57,57,55,55,52,55,74,67,64,57,74,71,74,67,55,59,76,62,57,64,67,88,71,64,62,48,90,36,79,74,69,59,76,81,36,43,43,43,43,43,67,55,48,48,69,67,81,24,62,55,90,79,76,76,74,64,59,57,57,55,52,52,52,52,43,36,36,36,36,36,36,36,36,24,24,24],\"yaxis\":\"y\",\"type\":\"scatter\"}],                        {\"template\":{\"data\":{\"histogram2dcontour\":[{\"type\":\"histogram2dcontour\",\"colorbar\":{\"outlinewidth\":0,\"ticks\":\"\"},\"colorscale\":[[0.0,\"#0d0887\"],[0.1111111111111111,\"#46039f\"],[0.2222222222222222,\"#7201a8\"],[0.3333333333333333,\"#9c179e\"],[0.4444444444444444,\"#bd3786\"],[0.5555555555555556,\"#d8576b\"],[0.6666666666666666,\"#ed7953\"],[0.7777777777777778,\"#fb9f3a\"],[0.8888888888888888,\"#fdca26\"],[1.0,\"#f0f921\"]]}],\"choropleth\":[{\"type\":\"choropleth\",\"colorbar\":{\"outlinewidth\":0,\"ticks\":\"\"}}],\"histogram2d\":[{\"type\":\"histogram2d\",\"colorbar\":{\"outlinewidth\":0,\"ticks\":\"\"},\"colorscale\":[[0.0,\"#0d0887\"],[0.1111111111111111,\"#46039f\"],[0.2222222222222222,\"#7201a8\"],[0.3333333333333333,\"#9c179e\"],[0.4444444444444444,\"#bd3786\"],[0.5555555555555556,\"#d8576b\"],[0.6666666666666666,\"#ed7953\"],[0.7777777777777778,\"#fb9f3a\"],[0.8888888888888888,\"#fdca26\"],[1.0,\"#f0f921\"]]}],\"heatmap\":[{\"type\":\"heatmap\",\"colorbar\":{\"outlinewidth\":0,\"ticks\":\"\"},\"colorscale\":[[0.0,\"#0d0887\"],[0.1111111111111111,\"#46039f\"],[0.2222222222222222,\"#7201a8\"],[0.3333333333333333,\"#9c179e\"],[0.4444444444444444,\"#bd3786\"],[0.5555555555555556,\"#d8576b\"],[0.6666666666666666,\"#ed7953\"],[0.7777777777777778,\"#fb9f3a\"],[0.8888888888888888,\"#fdca26\"],[1.0,\"#f0f921\"]]}],\"heatmapgl\":[{\"type\":\"heatmapgl\",\"colorbar\":{\"outlinewidth\":0,\"ticks\":\"\"},\"colorscale\":[[0.0,\"#0d0887\"],[0.1111111111111111,\"#46039f\"],[0.2222222222222222,\"#7201a8\"],[0.3333333333333333,\"#9c179e\"],[0.4444444444444444,\"#bd3786\"],[0.5555555555555556,\"#d8576b\"],[0.6666666666666666,\"#ed7953\"],[0.7777777777777778,\"#fb9f3a\"],[0.8888888888888888,\"#fdca26\"],[1.0,\"#f0f921\"]]}],\"contourcarpet\":[{\"type\":\"contourcarpet\",\"colorbar\":{\"outlinewidth\":0,\"ticks\":\"\"}}],\"contour\":[{\"type\":\"contour\",\"colorbar\":{\"outlinewidth\":0,\"ticks\":\"\"},\"colorscale\":[[0.0,\"#0d0887\"],[0.1111111111111111,\"#46039f\"],[0.2222222222222222,\"#7201a8\"],[0.3333333333333333,\"#9c179e\"],[0.4444444444444444,\"#bd3786\"],[0.5555555555555556,\"#d8576b\"],[0.6666666666666666,\"#ed7953\"],[0.7777777777777778,\"#fb9f3a\"],[0.8888888888888888,\"#fdca26\"],[1.0,\"#f0f921\"]]}],\"surface\":[{\"type\":\"surface\",\"colorbar\":{\"outlinewidth\":0,\"ticks\":\"\"},\"colorscale\":[[0.0,\"#0d0887\"],[0.1111111111111111,\"#46039f\"],[0.2222222222222222,\"#7201a8\"],[0.3333333333333333,\"#9c179e\"],[0.4444444444444444,\"#bd3786\"],[0.5555555555555556,\"#d8576b\"],[0.6666666666666666,\"#ed7953\"],[0.7777777777777778,\"#fb9f3a\"],[0.8888888888888888,\"#fdca26\"],[1.0,\"#f0f921\"]]}],\"mesh3d\":[{\"type\":\"mesh3d\",\"colorbar\":{\"outlinewidth\":0,\"ticks\":\"\"}}],\"scatter\":[{\"fillpattern\":{\"fillmode\":\"overlay\",\"size\":10,\"solidity\":0.2},\"type\":\"scatter\"}],\"parcoords\":[{\"type\":\"parcoords\",\"line\":{\"colorbar\":{\"outlinewidth\":0,\"ticks\":\"\"}}}],\"scatterpolargl\":[{\"type\":\"scatterpolargl\",\"marker\":{\"colorbar\":{\"outlinewidth\":0,\"ticks\":\"\"}}}],\"bar\":[{\"error_x\":{\"color\":\"#2a3f5f\"},\"error_y\":{\"color\":\"#2a3f5f\"},\"marker\":{\"line\":{\"color\":\"#E5ECF6\",\"width\":0.5},\"pattern\":{\"fillmode\":\"overlay\",\"size\":10,\"solidity\":0.2}},\"type\":\"bar\"}],\"scattergeo\":[{\"type\":\"scattergeo\",\"marker\":{\"colorbar\":{\"outlinewidth\":0,\"ticks\":\"\"}}}],\"scatterpolar\":[{\"type\":\"scatterpolar\",\"marker\":{\"colorbar\":{\"outlinewidth\":0,\"ticks\":\"\"}}}],\"histogram\":[{\"marker\":{\"pattern\":{\"fillmode\":\"overlay\",\"size\":10,\"solidity\":0.2}},\"type\":\"histogram\"}],\"scattergl\":[{\"type\":\"scattergl\",\"marker\":{\"colorbar\":{\"outlinewidth\":0,\"ticks\":\"\"}}}],\"scatter3d\":[{\"type\":\"scatter3d\",\"line\":{\"colorbar\":{\"outlinewidth\":0,\"ticks\":\"\"}},\"marker\":{\"colorbar\":{\"outlinewidth\":0,\"ticks\":\"\"}}}],\"scattermapbox\":[{\"type\":\"scattermapbox\",\"marker\":{\"colorbar\":{\"outlinewidth\":0,\"ticks\":\"\"}}}],\"scatterternary\":[{\"type\":\"scatterternary\",\"marker\":{\"colorbar\":{\"outlinewidth\":0,\"ticks\":\"\"}}}],\"scattercarpet\":[{\"type\":\"scattercarpet\",\"marker\":{\"colorbar\":{\"outlinewidth\":0,\"ticks\":\"\"}}}],\"carpet\":[{\"aaxis\":{\"endlinecolor\":\"#2a3f5f\",\"gridcolor\":\"white\",\"linecolor\":\"white\",\"minorgridcolor\":\"white\",\"startlinecolor\":\"#2a3f5f\"},\"baxis\":{\"endlinecolor\":\"#2a3f5f\",\"gridcolor\":\"white\",\"linecolor\":\"white\",\"minorgridcolor\":\"white\",\"startlinecolor\":\"#2a3f5f\"},\"type\":\"carpet\"}],\"table\":[{\"cells\":{\"fill\":{\"color\":\"#EBF0F8\"},\"line\":{\"color\":\"white\"}},\"header\":{\"fill\":{\"color\":\"#C8D4E3\"},\"line\":{\"color\":\"white\"}},\"type\":\"table\"}],\"barpolar\":[{\"marker\":{\"line\":{\"color\":\"#E5ECF6\",\"width\":0.5},\"pattern\":{\"fillmode\":\"overlay\",\"size\":10,\"solidity\":0.2}},\"type\":\"barpolar\"}],\"pie\":[{\"automargin\":true,\"type\":\"pie\"}]},\"layout\":{\"autotypenumbers\":\"strict\",\"colorway\":[\"#636efa\",\"#EF553B\",\"#00cc96\",\"#ab63fa\",\"#FFA15A\",\"#19d3f3\",\"#FF6692\",\"#B6E880\",\"#FF97FF\",\"#FECB52\"],\"font\":{\"color\":\"#2a3f5f\"},\"hovermode\":\"closest\",\"hoverlabel\":{\"align\":\"left\"},\"paper_bgcolor\":\"white\",\"plot_bgcolor\":\"#E5ECF6\",\"polar\":{\"bgcolor\":\"#E5ECF6\",\"angularaxis\":{\"gridcolor\":\"white\",\"linecolor\":\"white\",\"ticks\":\"\"},\"radialaxis\":{\"gridcolor\":\"white\",\"linecolor\":\"white\",\"ticks\":\"\"}},\"ternary\":{\"bgcolor\":\"#E5ECF6\",\"aaxis\":{\"gridcolor\":\"white\",\"linecolor\":\"white\",\"ticks\":\"\"},\"baxis\":{\"gridcolor\":\"white\",\"linecolor\":\"white\",\"ticks\":\"\"},\"caxis\":{\"gridcolor\":\"white\",\"linecolor\":\"white\",\"ticks\":\"\"}},\"coloraxis\":{\"colorbar\":{\"outlinewidth\":0,\"ticks\":\"\"}},\"colorscale\":{\"sequential\":[[0.0,\"#0d0887\"],[0.1111111111111111,\"#46039f\"],[0.2222222222222222,\"#7201a8\"],[0.3333333333333333,\"#9c179e\"],[0.4444444444444444,\"#bd3786\"],[0.5555555555555556,\"#d8576b\"],[0.6666666666666666,\"#ed7953\"],[0.7777777777777778,\"#fb9f3a\"],[0.8888888888888888,\"#fdca26\"],[1.0,\"#f0f921\"]],\"sequentialminus\":[[0.0,\"#0d0887\"],[0.1111111111111111,\"#46039f\"],[0.2222222222222222,\"#7201a8\"],[0.3333333333333333,\"#9c179e\"],[0.4444444444444444,\"#bd3786\"],[0.5555555555555556,\"#d8576b\"],[0.6666666666666666,\"#ed7953\"],[0.7777777777777778,\"#fb9f3a\"],[0.8888888888888888,\"#fdca26\"],[1.0,\"#f0f921\"]],\"diverging\":[[0,\"#8e0152\"],[0.1,\"#c51b7d\"],[0.2,\"#de77ae\"],[0.3,\"#f1b6da\"],[0.4,\"#fde0ef\"],[0.5,\"#f7f7f7\"],[0.6,\"#e6f5d0\"],[0.7,\"#b8e186\"],[0.8,\"#7fbc41\"],[0.9,\"#4d9221\"],[1,\"#276419\"]]},\"xaxis\":{\"gridcolor\":\"white\",\"linecolor\":\"white\",\"ticks\":\"\",\"title\":{\"standoff\":15},\"zerolinecolor\":\"white\",\"automargin\":true,\"zerolinewidth\":2},\"yaxis\":{\"gridcolor\":\"white\",\"linecolor\":\"white\",\"ticks\":\"\",\"title\":{\"standoff\":15},\"zerolinecolor\":\"white\",\"automargin\":true,\"zerolinewidth\":2},\"scene\":{\"xaxis\":{\"backgroundcolor\":\"#E5ECF6\",\"gridcolor\":\"white\",\"linecolor\":\"white\",\"showbackground\":true,\"ticks\":\"\",\"zerolinecolor\":\"white\",\"gridwidth\":2},\"yaxis\":{\"backgroundcolor\":\"#E5ECF6\",\"gridcolor\":\"white\",\"linecolor\":\"white\",\"showbackground\":true,\"ticks\":\"\",\"zerolinecolor\":\"white\",\"gridwidth\":2},\"zaxis\":{\"backgroundcolor\":\"#E5ECF6\",\"gridcolor\":\"white\",\"linecolor\":\"white\",\"showbackground\":true,\"ticks\":\"\",\"zerolinecolor\":\"white\",\"gridwidth\":2}},\"shapedefaults\":{\"line\":{\"color\":\"#2a3f5f\"}},\"annotationdefaults\":{\"arrowcolor\":\"#2a3f5f\",\"arrowhead\":0,\"arrowwidth\":1},\"geo\":{\"bgcolor\":\"white\",\"landcolor\":\"#E5ECF6\",\"subunitcolor\":\"white\",\"showland\":true,\"showlakes\":true,\"lakecolor\":\"white\"},\"title\":{\"x\":0.05},\"mapbox\":{\"style\":\"light\"}}},\"xaxis\":{\"anchor\":\"y\",\"domain\":[0.0,1.0],\"title\":{\"text\":\"time [beats]\"}},\"yaxis\":{\"anchor\":\"x\",\"domain\":[0.0,1.0],\"title\":{\"text\":\"midi note numbers\"}},\"legend\":{\"tracegroupgap\":0},\"margin\":{\"t\":60}},                        {\"responsive\": true}                    ).then(function(){\n",
       "                            \n",
       "var gd = document.getElementById('54a4f76b-f349-4206-8de8-cc15cd5e0f67');\n",
       "var x = new MutationObserver(function (mutations, observer) {{\n",
       "        var display = window.getComputedStyle(gd).display;\n",
       "        if (!display || display === 'none') {{\n",
       "            console.log([gd, 'removed!']);\n",
       "            Plotly.purge(gd);\n",
       "            observer.disconnect();\n",
       "        }}\n",
       "}});\n",
       "\n",
       "// Listen for the removal of the full notebook cells\n",
       "var notebookContainer = gd.closest('#notebook-container');\n",
       "if (notebookContainer) {{\n",
       "    x.observe(notebookContainer, {childList: true});\n",
       "}}\n",
       "\n",
       "// Listen for the clearing of the current output cell\n",
       "var outputEl = gd.closest('.output');\n",
       "if (outputEl) {{\n",
       "    x.observe(outputEl, {childList: true});\n",
       "}}\n",
       "\n",
       "                        })                };                });            </script>        </div>"
      ]
     },
     "metadata": {},
     "output_type": "display_data"
    }
   ],
   "source": [
    "midi_data = []\n",
    "for i in range(impacts):\n",
    "    note_index = round(map_value(y_data[i], 0, 1, n_notes-1, 0)) #notice choice of polarity: bigger craters are mapped to lower notes\n",
    "                                                        #we round the result because it's a list index which must be an integer\n",
    "    midi_data.append(note_midis[note_index])\n",
    "    \n",
    "\n",
    "midi_note_num = px.scatter(df,x=t_data, y=midi_data,labels={'x':'time [beats]', 'y':'midi note numbers'})\n",
    "midi_note_num.show()\n"
   ]
  },
  {
   "cell_type": "code",
   "execution_count": 86,
   "metadata": {},
   "outputs": [
    {
     "data": {
      "application/vnd.plotly.v1+json": {
       "config": {
        "plotlyServerURL": "https://plot.ly"
       },
       "data": [
        {
         "hovertemplate": "time [beats]=%{x}<br>midi note numbers=%{y}<extra></extra>",
         "legendgroup": "",
         "marker": {
          "color": "#636efa",
          "symbol": "circle"
         },
         "mode": "markers",
         "name": "",
         "orientation": "v",
         "showlegend": false,
         "type": "scatter",
         "x": [
          8,
          5.6,
          8.4,
          8.2,
          7.8,
          7.6,
          31,
          6.6,
          0.2,
          32.6,
          30.4,
          7,
          14,
          27.8,
          6.8,
          27,
          31.2,
          26.6,
          32.8,
          23.6,
          32.4,
          12.4,
          9.8,
          28.6,
          18.2,
          6,
          6.2,
          5.8,
          34.8,
          33.8,
          26,
          19.8,
          28.2,
          19,
          29,
          25.4,
          9.2,
          20,
          0.4,
          12.2,
          23.8,
          6.4,
          3.6,
          25.6,
          34,
          3.2,
          18,
          14.4,
          16,
          17,
          24.4,
          24.2,
          8.6,
          10,
          23,
          25.8,
          33.6,
          21.2,
          32.2,
          27.6,
          9,
          19.2,
          13.4,
          4,
          3.8,
          4.2,
          13.6,
          33,
          26.8,
          21.8,
          28,
          22.6,
          7.2,
          17.6,
          10.2,
          15.8,
          20.4,
          22.2,
          33.4,
          0.6,
          21.4,
          20.8,
          31.4,
          19.4,
          11.2,
          12,
          20.6,
          0.8,
          23.4,
          33.2,
          10.8,
          18.4,
          11,
          12.6,
          13.2,
          18.8,
          17.4,
          15,
          16.8,
          16.4,
          15.6,
          14.6,
          14.8,
          10.6,
          14.2,
          28.8,
          24.8,
          22.8,
          17.2,
          28.4,
          27.2,
          29.4,
          25.2,
          15.2,
          17.8,
          30.6,
          20.2,
          16.6,
          22,
          24,
          34.2,
          27.4,
          23.2,
          21,
          8.8,
          34.6,
          2.8,
          31.6,
          29.2,
          26.2,
          19.6,
          30,
          32,
          4.4,
          4.6,
          5.2,
          5,
          5.4,
          4.8,
          25,
          13,
          9.4,
          9.6,
          26.4,
          24.6,
          31.8,
          1.2,
          21.6,
          12.8,
          34.4,
          30.8,
          30.2,
          29.8,
          29.6,
          22.4,
          18.6,
          16.2,
          15.4,
          13.8,
          11.8,
          11.6,
          11.4,
          10.4,
          7.4,
          3.4,
          3,
          2.6,
          2.4,
          2.2,
          2,
          1.8,
          1.6,
          1.4,
          1,
          0
         ],
         "xaxis": "x",
         "y": [
          48,
          43,
          48,
          48,
          48,
          48,
          79,
          43,
          24,
          81,
          76,
          43,
          55,
          71,
          43,
          71,
          79,
          69,
          83,
          67,
          81,
          52,
          48,
          74,
          59,
          43,
          43,
          43,
          93,
          86,
          69,
          62,
          71,
          59,
          74,
          69,
          48,
          62,
          24,
          52,
          67,
          43,
          36,
          69,
          88,
          36,
          59,
          55,
          57,
          57,
          67,
          67,
          48,
          48,
          64,
          69,
          86,
          62,
          81,
          71,
          48,
          59,
          55,
          36,
          36,
          36,
          55,
          83,
          69,
          64,
          71,
          64,
          43,
          59,
          52,
          57,
          62,
          64,
          86,
          24,
          62,
          62,
          79,
          59,
          52,
          52,
          62,
          24,
          64,
          83,
          52,
          59,
          52,
          52,
          55,
          59,
          57,
          55,
          57,
          57,
          57,
          55,
          55,
          52,
          55,
          74,
          67,
          64,
          57,
          74,
          71,
          74,
          67,
          55,
          59,
          76,
          62,
          57,
          64,
          67,
          88,
          71,
          64,
          62,
          48,
          90,
          36,
          79,
          74,
          69,
          59,
          76,
          81,
          36,
          43,
          43,
          43,
          43,
          43,
          67,
          55,
          48,
          48,
          69,
          67,
          81,
          24,
          62,
          55,
          90,
          79,
          76,
          76,
          74,
          64,
          59,
          57,
          57,
          55,
          52,
          52,
          52,
          52,
          43,
          36,
          36,
          36,
          36,
          36,
          36,
          36,
          36,
          24,
          24,
          24
         ],
         "yaxis": "y"
        }
       ],
       "layout": {
        "legend": {
         "tracegroupgap": 0
        },
        "margin": {
         "t": 60
        },
        "template": {
         "data": {
          "bar": [
           {
            "error_x": {
             "color": "#2a3f5f"
            },
            "error_y": {
             "color": "#2a3f5f"
            },
            "marker": {
             "line": {
              "color": "#E5ECF6",
              "width": 0.5
             },
             "pattern": {
              "fillmode": "overlay",
              "size": 10,
              "solidity": 0.2
             }
            },
            "type": "bar"
           }
          ],
          "barpolar": [
           {
            "marker": {
             "line": {
              "color": "#E5ECF6",
              "width": 0.5
             },
             "pattern": {
              "fillmode": "overlay",
              "size": 10,
              "solidity": 0.2
             }
            },
            "type": "barpolar"
           }
          ],
          "carpet": [
           {
            "aaxis": {
             "endlinecolor": "#2a3f5f",
             "gridcolor": "white",
             "linecolor": "white",
             "minorgridcolor": "white",
             "startlinecolor": "#2a3f5f"
            },
            "baxis": {
             "endlinecolor": "#2a3f5f",
             "gridcolor": "white",
             "linecolor": "white",
             "minorgridcolor": "white",
             "startlinecolor": "#2a3f5f"
            },
            "type": "carpet"
           }
          ],
          "choropleth": [
           {
            "colorbar": {
             "outlinewidth": 0,
             "ticks": ""
            },
            "type": "choropleth"
           }
          ],
          "contour": [
           {
            "colorbar": {
             "outlinewidth": 0,
             "ticks": ""
            },
            "colorscale": [
             [
              0,
              "#0d0887"
             ],
             [
              0.1111111111111111,
              "#46039f"
             ],
             [
              0.2222222222222222,
              "#7201a8"
             ],
             [
              0.3333333333333333,
              "#9c179e"
             ],
             [
              0.4444444444444444,
              "#bd3786"
             ],
             [
              0.5555555555555556,
              "#d8576b"
             ],
             [
              0.6666666666666666,
              "#ed7953"
             ],
             [
              0.7777777777777778,
              "#fb9f3a"
             ],
             [
              0.8888888888888888,
              "#fdca26"
             ],
             [
              1,
              "#f0f921"
             ]
            ],
            "type": "contour"
           }
          ],
          "contourcarpet": [
           {
            "colorbar": {
             "outlinewidth": 0,
             "ticks": ""
            },
            "type": "contourcarpet"
           }
          ],
          "heatmap": [
           {
            "colorbar": {
             "outlinewidth": 0,
             "ticks": ""
            },
            "colorscale": [
             [
              0,
              "#0d0887"
             ],
             [
              0.1111111111111111,
              "#46039f"
             ],
             [
              0.2222222222222222,
              "#7201a8"
             ],
             [
              0.3333333333333333,
              "#9c179e"
             ],
             [
              0.4444444444444444,
              "#bd3786"
             ],
             [
              0.5555555555555556,
              "#d8576b"
             ],
             [
              0.6666666666666666,
              "#ed7953"
             ],
             [
              0.7777777777777778,
              "#fb9f3a"
             ],
             [
              0.8888888888888888,
              "#fdca26"
             ],
             [
              1,
              "#f0f921"
             ]
            ],
            "type": "heatmap"
           }
          ],
          "heatmapgl": [
           {
            "colorbar": {
             "outlinewidth": 0,
             "ticks": ""
            },
            "colorscale": [
             [
              0,
              "#0d0887"
             ],
             [
              0.1111111111111111,
              "#46039f"
             ],
             [
              0.2222222222222222,
              "#7201a8"
             ],
             [
              0.3333333333333333,
              "#9c179e"
             ],
             [
              0.4444444444444444,
              "#bd3786"
             ],
             [
              0.5555555555555556,
              "#d8576b"
             ],
             [
              0.6666666666666666,
              "#ed7953"
             ],
             [
              0.7777777777777778,
              "#fb9f3a"
             ],
             [
              0.8888888888888888,
              "#fdca26"
             ],
             [
              1,
              "#f0f921"
             ]
            ],
            "type": "heatmapgl"
           }
          ],
          "histogram": [
           {
            "marker": {
             "pattern": {
              "fillmode": "overlay",
              "size": 10,
              "solidity": 0.2
             }
            },
            "type": "histogram"
           }
          ],
          "histogram2d": [
           {
            "colorbar": {
             "outlinewidth": 0,
             "ticks": ""
            },
            "colorscale": [
             [
              0,
              "#0d0887"
             ],
             [
              0.1111111111111111,
              "#46039f"
             ],
             [
              0.2222222222222222,
              "#7201a8"
             ],
             [
              0.3333333333333333,
              "#9c179e"
             ],
             [
              0.4444444444444444,
              "#bd3786"
             ],
             [
              0.5555555555555556,
              "#d8576b"
             ],
             [
              0.6666666666666666,
              "#ed7953"
             ],
             [
              0.7777777777777778,
              "#fb9f3a"
             ],
             [
              0.8888888888888888,
              "#fdca26"
             ],
             [
              1,
              "#f0f921"
             ]
            ],
            "type": "histogram2d"
           }
          ],
          "histogram2dcontour": [
           {
            "colorbar": {
             "outlinewidth": 0,
             "ticks": ""
            },
            "colorscale": [
             [
              0,
              "#0d0887"
             ],
             [
              0.1111111111111111,
              "#46039f"
             ],
             [
              0.2222222222222222,
              "#7201a8"
             ],
             [
              0.3333333333333333,
              "#9c179e"
             ],
             [
              0.4444444444444444,
              "#bd3786"
             ],
             [
              0.5555555555555556,
              "#d8576b"
             ],
             [
              0.6666666666666666,
              "#ed7953"
             ],
             [
              0.7777777777777778,
              "#fb9f3a"
             ],
             [
              0.8888888888888888,
              "#fdca26"
             ],
             [
              1,
              "#f0f921"
             ]
            ],
            "type": "histogram2dcontour"
           }
          ],
          "mesh3d": [
           {
            "colorbar": {
             "outlinewidth": 0,
             "ticks": ""
            },
            "type": "mesh3d"
           }
          ],
          "parcoords": [
           {
            "line": {
             "colorbar": {
              "outlinewidth": 0,
              "ticks": ""
             }
            },
            "type": "parcoords"
           }
          ],
          "pie": [
           {
            "automargin": true,
            "type": "pie"
           }
          ],
          "scatter": [
           {
            "fillpattern": {
             "fillmode": "overlay",
             "size": 10,
             "solidity": 0.2
            },
            "type": "scatter"
           }
          ],
          "scatter3d": [
           {
            "line": {
             "colorbar": {
              "outlinewidth": 0,
              "ticks": ""
             }
            },
            "marker": {
             "colorbar": {
              "outlinewidth": 0,
              "ticks": ""
             }
            },
            "type": "scatter3d"
           }
          ],
          "scattercarpet": [
           {
            "marker": {
             "colorbar": {
              "outlinewidth": 0,
              "ticks": ""
             }
            },
            "type": "scattercarpet"
           }
          ],
          "scattergeo": [
           {
            "marker": {
             "colorbar": {
              "outlinewidth": 0,
              "ticks": ""
             }
            },
            "type": "scattergeo"
           }
          ],
          "scattergl": [
           {
            "marker": {
             "colorbar": {
              "outlinewidth": 0,
              "ticks": ""
             }
            },
            "type": "scattergl"
           }
          ],
          "scattermapbox": [
           {
            "marker": {
             "colorbar": {
              "outlinewidth": 0,
              "ticks": ""
             }
            },
            "type": "scattermapbox"
           }
          ],
          "scatterpolar": [
           {
            "marker": {
             "colorbar": {
              "outlinewidth": 0,
              "ticks": ""
             }
            },
            "type": "scatterpolar"
           }
          ],
          "scatterpolargl": [
           {
            "marker": {
             "colorbar": {
              "outlinewidth": 0,
              "ticks": ""
             }
            },
            "type": "scatterpolargl"
           }
          ],
          "scatterternary": [
           {
            "marker": {
             "colorbar": {
              "outlinewidth": 0,
              "ticks": ""
             }
            },
            "type": "scatterternary"
           }
          ],
          "surface": [
           {
            "colorbar": {
             "outlinewidth": 0,
             "ticks": ""
            },
            "colorscale": [
             [
              0,
              "#0d0887"
             ],
             [
              0.1111111111111111,
              "#46039f"
             ],
             [
              0.2222222222222222,
              "#7201a8"
             ],
             [
              0.3333333333333333,
              "#9c179e"
             ],
             [
              0.4444444444444444,
              "#bd3786"
             ],
             [
              0.5555555555555556,
              "#d8576b"
             ],
             [
              0.6666666666666666,
              "#ed7953"
             ],
             [
              0.7777777777777778,
              "#fb9f3a"
             ],
             [
              0.8888888888888888,
              "#fdca26"
             ],
             [
              1,
              "#f0f921"
             ]
            ],
            "type": "surface"
           }
          ],
          "table": [
           {
            "cells": {
             "fill": {
              "color": "#EBF0F8"
             },
             "line": {
              "color": "white"
             }
            },
            "header": {
             "fill": {
              "color": "#C8D4E3"
             },
             "line": {
              "color": "white"
             }
            },
            "type": "table"
           }
          ]
         },
         "layout": {
          "annotationdefaults": {
           "arrowcolor": "#2a3f5f",
           "arrowhead": 0,
           "arrowwidth": 1
          },
          "autotypenumbers": "strict",
          "coloraxis": {
           "colorbar": {
            "outlinewidth": 0,
            "ticks": ""
           }
          },
          "colorscale": {
           "diverging": [
            [
             0,
             "#8e0152"
            ],
            [
             0.1,
             "#c51b7d"
            ],
            [
             0.2,
             "#de77ae"
            ],
            [
             0.3,
             "#f1b6da"
            ],
            [
             0.4,
             "#fde0ef"
            ],
            [
             0.5,
             "#f7f7f7"
            ],
            [
             0.6,
             "#e6f5d0"
            ],
            [
             0.7,
             "#b8e186"
            ],
            [
             0.8,
             "#7fbc41"
            ],
            [
             0.9,
             "#4d9221"
            ],
            [
             1,
             "#276419"
            ]
           ],
           "sequential": [
            [
             0,
             "#0d0887"
            ],
            [
             0.1111111111111111,
             "#46039f"
            ],
            [
             0.2222222222222222,
             "#7201a8"
            ],
            [
             0.3333333333333333,
             "#9c179e"
            ],
            [
             0.4444444444444444,
             "#bd3786"
            ],
            [
             0.5555555555555556,
             "#d8576b"
            ],
            [
             0.6666666666666666,
             "#ed7953"
            ],
            [
             0.7777777777777778,
             "#fb9f3a"
            ],
            [
             0.8888888888888888,
             "#fdca26"
            ],
            [
             1,
             "#f0f921"
            ]
           ],
           "sequentialminus": [
            [
             0,
             "#0d0887"
            ],
            [
             0.1111111111111111,
             "#46039f"
            ],
            [
             0.2222222222222222,
             "#7201a8"
            ],
            [
             0.3333333333333333,
             "#9c179e"
            ],
            [
             0.4444444444444444,
             "#bd3786"
            ],
            [
             0.5555555555555556,
             "#d8576b"
            ],
            [
             0.6666666666666666,
             "#ed7953"
            ],
            [
             0.7777777777777778,
             "#fb9f3a"
            ],
            [
             0.8888888888888888,
             "#fdca26"
            ],
            [
             1,
             "#f0f921"
            ]
           ]
          },
          "colorway": [
           "#636efa",
           "#EF553B",
           "#00cc96",
           "#ab63fa",
           "#FFA15A",
           "#19d3f3",
           "#FF6692",
           "#B6E880",
           "#FF97FF",
           "#FECB52"
          ],
          "font": {
           "color": "#2a3f5f"
          },
          "geo": {
           "bgcolor": "white",
           "lakecolor": "white",
           "landcolor": "#E5ECF6",
           "showlakes": true,
           "showland": true,
           "subunitcolor": "white"
          },
          "hoverlabel": {
           "align": "left"
          },
          "hovermode": "closest",
          "mapbox": {
           "style": "light"
          },
          "paper_bgcolor": "white",
          "plot_bgcolor": "#E5ECF6",
          "polar": {
           "angularaxis": {
            "gridcolor": "white",
            "linecolor": "white",
            "ticks": ""
           },
           "bgcolor": "#E5ECF6",
           "radialaxis": {
            "gridcolor": "white",
            "linecolor": "white",
            "ticks": ""
           }
          },
          "scene": {
           "xaxis": {
            "backgroundcolor": "#E5ECF6",
            "gridcolor": "white",
            "gridwidth": 2,
            "linecolor": "white",
            "showbackground": true,
            "ticks": "",
            "zerolinecolor": "white"
           },
           "yaxis": {
            "backgroundcolor": "#E5ECF6",
            "gridcolor": "white",
            "gridwidth": 2,
            "linecolor": "white",
            "showbackground": true,
            "ticks": "",
            "zerolinecolor": "white"
           },
           "zaxis": {
            "backgroundcolor": "#E5ECF6",
            "gridcolor": "white",
            "gridwidth": 2,
            "linecolor": "white",
            "showbackground": true,
            "ticks": "",
            "zerolinecolor": "white"
           }
          },
          "shapedefaults": {
           "line": {
            "color": "#2a3f5f"
           }
          },
          "ternary": {
           "aaxis": {
            "gridcolor": "white",
            "linecolor": "white",
            "ticks": ""
           },
           "baxis": {
            "gridcolor": "white",
            "linecolor": "white",
            "ticks": ""
           },
           "bgcolor": "#E5ECF6",
           "caxis": {
            "gridcolor": "white",
            "linecolor": "white",
            "ticks": ""
           }
          },
          "title": {
           "x": 0.05
          },
          "xaxis": {
           "automargin": true,
           "gridcolor": "white",
           "linecolor": "white",
           "ticks": "",
           "title": {
            "standoff": 15
           },
           "zerolinecolor": "white",
           "zerolinewidth": 2
          },
          "yaxis": {
           "automargin": true,
           "gridcolor": "white",
           "linecolor": "white",
           "ticks": "",
           "title": {
            "standoff": 15
           },
           "zerolinecolor": "white",
           "zerolinewidth": 2
          }
         }
        },
        "xaxis": {
         "anchor": "y",
         "domain": [
          0,
          1
         ],
         "title": {
          "text": "time [beats]"
         }
        },
        "yaxis": {
         "anchor": "x",
         "domain": [
          0,
          1
         ],
         "title": {
          "text": "midi note numbers"
         }
        }
       }
      },
      "text/html": [
       "<div>                            <div id=\"42835a1f-5034-42f9-a075-2cb486632458\" class=\"plotly-graph-div\" style=\"height:525px; width:100%;\"></div>            <script type=\"text/javascript\">                require([\"plotly\"], function(Plotly) {                    window.PLOTLYENV=window.PLOTLYENV || {};                                    if (document.getElementById(\"42835a1f-5034-42f9-a075-2cb486632458\")) {                    Plotly.newPlot(                        \"42835a1f-5034-42f9-a075-2cb486632458\",                        [{\"hovertemplate\":\"time [beats]=%{x}\\u003cbr\\u003emidi note numbers=%{y}\\u003cextra\\u003e\\u003c\\u002fextra\\u003e\",\"legendgroup\":\"\",\"marker\":{\"color\":\"#636efa\",\"symbol\":\"circle\"},\"mode\":\"markers\",\"name\":\"\",\"orientation\":\"v\",\"showlegend\":false,\"x\":[8.0,5.6,8.4,8.2,7.8,7.6,31.0,6.6,0.2,32.6,30.4,7.0,14.0,27.8,6.8,27.0,31.2,26.6,32.8,23.6,32.4,12.4,9.8,28.6,18.2,6.0,6.2,5.8,34.8,33.8,26.0,19.8,28.2,19.0,29.0,25.4,9.2,20.0,0.4,12.2,23.8,6.4,3.6,25.6,34.0,3.2,18.0,14.4,16.0,17.0,24.4,24.2,8.6,10.0,23.0,25.8,33.6,21.2,32.2,27.6,9.0,19.2,13.4,4.0,3.8,4.2,13.6,33.0,26.8,21.8,28.0,22.6,7.2,17.6,10.2,15.8,20.4,22.2,33.4,0.6,21.4,20.8,31.4,19.4,11.2,12.0,20.6,0.8,23.4,33.2,10.8,18.4,11.0,12.6,13.2,18.8,17.4,15.0,16.8,16.4,15.6,14.6,14.8,10.6,14.2,28.8,24.8,22.8,17.2,28.4,27.2,29.4,25.2,15.2,17.8,30.6,20.2,16.6,22.0,24.0,34.2,27.4,23.2,21.0,8.8,34.6,2.8,31.6,29.2,26.2,19.6,30.0,32.0,4.4,4.6,5.2,5.0,5.4,4.8,25.0,13.0,9.4,9.6,26.4,24.6,31.8,1.2,21.6,12.8,34.4,30.8,30.2,29.8,29.6,22.4,18.6,16.2,15.4,13.8,11.8,11.6,11.4,10.4,7.4,3.4,3.0,2.6,2.4,2.2,2.0,1.8,1.6,1.4,1.0,0.0],\"xaxis\":\"x\",\"y\":[48,43,48,48,48,48,79,43,24,81,76,43,55,71,43,71,79,69,83,67,81,52,48,74,59,43,43,43,93,86,69,62,71,59,74,69,48,62,24,52,67,43,36,69,88,36,59,55,57,57,67,67,48,48,64,69,86,62,81,71,48,59,55,36,36,36,55,83,69,64,71,64,43,59,52,57,62,64,86,24,62,62,79,59,52,52,62,24,64,83,52,59,52,52,55,59,57,55,57,57,57,55,55,52,55,74,67,64,57,74,71,74,67,55,59,76,62,57,64,67,88,71,64,62,48,90,36,79,74,69,59,76,81,36,43,43,43,43,43,67,55,48,48,69,67,81,24,62,55,90,79,76,76,74,64,59,57,57,55,52,52,52,52,43,36,36,36,36,36,36,36,36,24,24,24],\"yaxis\":\"y\",\"type\":\"scatter\"}],                        {\"template\":{\"data\":{\"histogram2dcontour\":[{\"type\":\"histogram2dcontour\",\"colorbar\":{\"outlinewidth\":0,\"ticks\":\"\"},\"colorscale\":[[0.0,\"#0d0887\"],[0.1111111111111111,\"#46039f\"],[0.2222222222222222,\"#7201a8\"],[0.3333333333333333,\"#9c179e\"],[0.4444444444444444,\"#bd3786\"],[0.5555555555555556,\"#d8576b\"],[0.6666666666666666,\"#ed7953\"],[0.7777777777777778,\"#fb9f3a\"],[0.8888888888888888,\"#fdca26\"],[1.0,\"#f0f921\"]]}],\"choropleth\":[{\"type\":\"choropleth\",\"colorbar\":{\"outlinewidth\":0,\"ticks\":\"\"}}],\"histogram2d\":[{\"type\":\"histogram2d\",\"colorbar\":{\"outlinewidth\":0,\"ticks\":\"\"},\"colorscale\":[[0.0,\"#0d0887\"],[0.1111111111111111,\"#46039f\"],[0.2222222222222222,\"#7201a8\"],[0.3333333333333333,\"#9c179e\"],[0.4444444444444444,\"#bd3786\"],[0.5555555555555556,\"#d8576b\"],[0.6666666666666666,\"#ed7953\"],[0.7777777777777778,\"#fb9f3a\"],[0.8888888888888888,\"#fdca26\"],[1.0,\"#f0f921\"]]}],\"heatmap\":[{\"type\":\"heatmap\",\"colorbar\":{\"outlinewidth\":0,\"ticks\":\"\"},\"colorscale\":[[0.0,\"#0d0887\"],[0.1111111111111111,\"#46039f\"],[0.2222222222222222,\"#7201a8\"],[0.3333333333333333,\"#9c179e\"],[0.4444444444444444,\"#bd3786\"],[0.5555555555555556,\"#d8576b\"],[0.6666666666666666,\"#ed7953\"],[0.7777777777777778,\"#fb9f3a\"],[0.8888888888888888,\"#fdca26\"],[1.0,\"#f0f921\"]]}],\"heatmapgl\":[{\"type\":\"heatmapgl\",\"colorbar\":{\"outlinewidth\":0,\"ticks\":\"\"},\"colorscale\":[[0.0,\"#0d0887\"],[0.1111111111111111,\"#46039f\"],[0.2222222222222222,\"#7201a8\"],[0.3333333333333333,\"#9c179e\"],[0.4444444444444444,\"#bd3786\"],[0.5555555555555556,\"#d8576b\"],[0.6666666666666666,\"#ed7953\"],[0.7777777777777778,\"#fb9f3a\"],[0.8888888888888888,\"#fdca26\"],[1.0,\"#f0f921\"]]}],\"contourcarpet\":[{\"type\":\"contourcarpet\",\"colorbar\":{\"outlinewidth\":0,\"ticks\":\"\"}}],\"contour\":[{\"type\":\"contour\",\"colorbar\":{\"outlinewidth\":0,\"ticks\":\"\"},\"colorscale\":[[0.0,\"#0d0887\"],[0.1111111111111111,\"#46039f\"],[0.2222222222222222,\"#7201a8\"],[0.3333333333333333,\"#9c179e\"],[0.4444444444444444,\"#bd3786\"],[0.5555555555555556,\"#d8576b\"],[0.6666666666666666,\"#ed7953\"],[0.7777777777777778,\"#fb9f3a\"],[0.8888888888888888,\"#fdca26\"],[1.0,\"#f0f921\"]]}],\"surface\":[{\"type\":\"surface\",\"colorbar\":{\"outlinewidth\":0,\"ticks\":\"\"},\"colorscale\":[[0.0,\"#0d0887\"],[0.1111111111111111,\"#46039f\"],[0.2222222222222222,\"#7201a8\"],[0.3333333333333333,\"#9c179e\"],[0.4444444444444444,\"#bd3786\"],[0.5555555555555556,\"#d8576b\"],[0.6666666666666666,\"#ed7953\"],[0.7777777777777778,\"#fb9f3a\"],[0.8888888888888888,\"#fdca26\"],[1.0,\"#f0f921\"]]}],\"mesh3d\":[{\"type\":\"mesh3d\",\"colorbar\":{\"outlinewidth\":0,\"ticks\":\"\"}}],\"scatter\":[{\"fillpattern\":{\"fillmode\":\"overlay\",\"size\":10,\"solidity\":0.2},\"type\":\"scatter\"}],\"parcoords\":[{\"type\":\"parcoords\",\"line\":{\"colorbar\":{\"outlinewidth\":0,\"ticks\":\"\"}}}],\"scatterpolargl\":[{\"type\":\"scatterpolargl\",\"marker\":{\"colorbar\":{\"outlinewidth\":0,\"ticks\":\"\"}}}],\"bar\":[{\"error_x\":{\"color\":\"#2a3f5f\"},\"error_y\":{\"color\":\"#2a3f5f\"},\"marker\":{\"line\":{\"color\":\"#E5ECF6\",\"width\":0.5},\"pattern\":{\"fillmode\":\"overlay\",\"size\":10,\"solidity\":0.2}},\"type\":\"bar\"}],\"scattergeo\":[{\"type\":\"scattergeo\",\"marker\":{\"colorbar\":{\"outlinewidth\":0,\"ticks\":\"\"}}}],\"scatterpolar\":[{\"type\":\"scatterpolar\",\"marker\":{\"colorbar\":{\"outlinewidth\":0,\"ticks\":\"\"}}}],\"histogram\":[{\"marker\":{\"pattern\":{\"fillmode\":\"overlay\",\"size\":10,\"solidity\":0.2}},\"type\":\"histogram\"}],\"scattergl\":[{\"type\":\"scattergl\",\"marker\":{\"colorbar\":{\"outlinewidth\":0,\"ticks\":\"\"}}}],\"scatter3d\":[{\"type\":\"scatter3d\",\"line\":{\"colorbar\":{\"outlinewidth\":0,\"ticks\":\"\"}},\"marker\":{\"colorbar\":{\"outlinewidth\":0,\"ticks\":\"\"}}}],\"scattermapbox\":[{\"type\":\"scattermapbox\",\"marker\":{\"colorbar\":{\"outlinewidth\":0,\"ticks\":\"\"}}}],\"scatterternary\":[{\"type\":\"scatterternary\",\"marker\":{\"colorbar\":{\"outlinewidth\":0,\"ticks\":\"\"}}}],\"scattercarpet\":[{\"type\":\"scattercarpet\",\"marker\":{\"colorbar\":{\"outlinewidth\":0,\"ticks\":\"\"}}}],\"carpet\":[{\"aaxis\":{\"endlinecolor\":\"#2a3f5f\",\"gridcolor\":\"white\",\"linecolor\":\"white\",\"minorgridcolor\":\"white\",\"startlinecolor\":\"#2a3f5f\"},\"baxis\":{\"endlinecolor\":\"#2a3f5f\",\"gridcolor\":\"white\",\"linecolor\":\"white\",\"minorgridcolor\":\"white\",\"startlinecolor\":\"#2a3f5f\"},\"type\":\"carpet\"}],\"table\":[{\"cells\":{\"fill\":{\"color\":\"#EBF0F8\"},\"line\":{\"color\":\"white\"}},\"header\":{\"fill\":{\"color\":\"#C8D4E3\"},\"line\":{\"color\":\"white\"}},\"type\":\"table\"}],\"barpolar\":[{\"marker\":{\"line\":{\"color\":\"#E5ECF6\",\"width\":0.5},\"pattern\":{\"fillmode\":\"overlay\",\"size\":10,\"solidity\":0.2}},\"type\":\"barpolar\"}],\"pie\":[{\"automargin\":true,\"type\":\"pie\"}]},\"layout\":{\"autotypenumbers\":\"strict\",\"colorway\":[\"#636efa\",\"#EF553B\",\"#00cc96\",\"#ab63fa\",\"#FFA15A\",\"#19d3f3\",\"#FF6692\",\"#B6E880\",\"#FF97FF\",\"#FECB52\"],\"font\":{\"color\":\"#2a3f5f\"},\"hovermode\":\"closest\",\"hoverlabel\":{\"align\":\"left\"},\"paper_bgcolor\":\"white\",\"plot_bgcolor\":\"#E5ECF6\",\"polar\":{\"bgcolor\":\"#E5ECF6\",\"angularaxis\":{\"gridcolor\":\"white\",\"linecolor\":\"white\",\"ticks\":\"\"},\"radialaxis\":{\"gridcolor\":\"white\",\"linecolor\":\"white\",\"ticks\":\"\"}},\"ternary\":{\"bgcolor\":\"#E5ECF6\",\"aaxis\":{\"gridcolor\":\"white\",\"linecolor\":\"white\",\"ticks\":\"\"},\"baxis\":{\"gridcolor\":\"white\",\"linecolor\":\"white\",\"ticks\":\"\"},\"caxis\":{\"gridcolor\":\"white\",\"linecolor\":\"white\",\"ticks\":\"\"}},\"coloraxis\":{\"colorbar\":{\"outlinewidth\":0,\"ticks\":\"\"}},\"colorscale\":{\"sequential\":[[0.0,\"#0d0887\"],[0.1111111111111111,\"#46039f\"],[0.2222222222222222,\"#7201a8\"],[0.3333333333333333,\"#9c179e\"],[0.4444444444444444,\"#bd3786\"],[0.5555555555555556,\"#d8576b\"],[0.6666666666666666,\"#ed7953\"],[0.7777777777777778,\"#fb9f3a\"],[0.8888888888888888,\"#fdca26\"],[1.0,\"#f0f921\"]],\"sequentialminus\":[[0.0,\"#0d0887\"],[0.1111111111111111,\"#46039f\"],[0.2222222222222222,\"#7201a8\"],[0.3333333333333333,\"#9c179e\"],[0.4444444444444444,\"#bd3786\"],[0.5555555555555556,\"#d8576b\"],[0.6666666666666666,\"#ed7953\"],[0.7777777777777778,\"#fb9f3a\"],[0.8888888888888888,\"#fdca26\"],[1.0,\"#f0f921\"]],\"diverging\":[[0,\"#8e0152\"],[0.1,\"#c51b7d\"],[0.2,\"#de77ae\"],[0.3,\"#f1b6da\"],[0.4,\"#fde0ef\"],[0.5,\"#f7f7f7\"],[0.6,\"#e6f5d0\"],[0.7,\"#b8e186\"],[0.8,\"#7fbc41\"],[0.9,\"#4d9221\"],[1,\"#276419\"]]},\"xaxis\":{\"gridcolor\":\"white\",\"linecolor\":\"white\",\"ticks\":\"\",\"title\":{\"standoff\":15},\"zerolinecolor\":\"white\",\"automargin\":true,\"zerolinewidth\":2},\"yaxis\":{\"gridcolor\":\"white\",\"linecolor\":\"white\",\"ticks\":\"\",\"title\":{\"standoff\":15},\"zerolinecolor\":\"white\",\"automargin\":true,\"zerolinewidth\":2},\"scene\":{\"xaxis\":{\"backgroundcolor\":\"#E5ECF6\",\"gridcolor\":\"white\",\"linecolor\":\"white\",\"showbackground\":true,\"ticks\":\"\",\"zerolinecolor\":\"white\",\"gridwidth\":2},\"yaxis\":{\"backgroundcolor\":\"#E5ECF6\",\"gridcolor\":\"white\",\"linecolor\":\"white\",\"showbackground\":true,\"ticks\":\"\",\"zerolinecolor\":\"white\",\"gridwidth\":2},\"zaxis\":{\"backgroundcolor\":\"#E5ECF6\",\"gridcolor\":\"white\",\"linecolor\":\"white\",\"showbackground\":true,\"ticks\":\"\",\"zerolinecolor\":\"white\",\"gridwidth\":2}},\"shapedefaults\":{\"line\":{\"color\":\"#2a3f5f\"}},\"annotationdefaults\":{\"arrowcolor\":\"#2a3f5f\",\"arrowhead\":0,\"arrowwidth\":1},\"geo\":{\"bgcolor\":\"white\",\"landcolor\":\"#E5ECF6\",\"subunitcolor\":\"white\",\"showland\":true,\"showlakes\":true,\"lakecolor\":\"white\"},\"title\":{\"x\":0.05},\"mapbox\":{\"style\":\"light\"}}},\"xaxis\":{\"anchor\":\"y\",\"domain\":[0.0,1.0],\"title\":{\"text\":\"time [beats]\"}},\"yaxis\":{\"anchor\":\"x\",\"domain\":[0.0,1.0],\"title\":{\"text\":\"midi note numbers\"}},\"legend\":{\"tracegroupgap\":0},\"margin\":{\"t\":60}},                        {\"responsive\": true}                    ).then(function(){\n",
       "                            \n",
       "var gd = document.getElementById('42835a1f-5034-42f9-a075-2cb486632458');\n",
       "var x = new MutationObserver(function (mutations, observer) {{\n",
       "        var display = window.getComputedStyle(gd).display;\n",
       "        if (!display || display === 'none') {{\n",
       "            console.log([gd, 'removed!']);\n",
       "            Plotly.purge(gd);\n",
       "            observer.disconnect();\n",
       "        }}\n",
       "}});\n",
       "\n",
       "// Listen for the removal of the full notebook cells\n",
       "var notebookContainer = gd.closest('#notebook-container');\n",
       "if (notebookContainer) {{\n",
       "    x.observe(notebookContainer, {childList: true});\n",
       "}}\n",
       "\n",
       "// Listen for the clearing of the current output cell\n",
       "var outputEl = gd.closest('.output');\n",
       "if (outputEl) {{\n",
       "    x.observe(outputEl, {childList: true});\n",
       "}}\n",
       "\n",
       "                        })                };                });            </script>        </div>"
      ]
     },
     "metadata": {},
     "output_type": "display_data"
    }
   ],
   "source": [
    "vel_min,vel_max = 35,127   #minimum and maximum note velocity\n",
    "\n",
    "vel_data = []\n",
    "for i in range(impacts):\n",
    "    note_velocity = round(map_value(y_data[i], 0, 1, vel_min, vel_max)) #bigger craters will be louder\n",
    "                                                                #we round here because note velocites are integers\n",
    "    vel_data.append(note_velocity)\n",
    "    \n",
    "velocity = px.scatter(df, x=t_data, y=midi_data,labels={'x':'time [beats]', 'y':'midi note numbers'})\n",
    "velocity.show()\n"
   ]
  },
  {
   "cell_type": "code",
   "execution_count": 87,
   "metadata": {},
   "outputs": [],
   "source": [
    "from midiutil import MIDIFile #import library to make midi file, https://midiutil.readthedocs.io/en/1.2.1/\n",
    "    \n",
    "#create midi file object, add tempo\n",
    "my_midi_file = MIDIFile(1) #one track \n",
    "my_midi_file.addTempo(track=0, time=0, tempo=bpm) \n",
    "\n",
    "#add midi notes\n",
    "for i in range(impacts):\n",
    "    my_midi_file.addNote(track=0, channel=0, pitch=midi_data[i], time=t_data[i], duration=2, volume=vel_data[i])\n",
    "\n",
    "#create and save the midi file itself\n",
    "with open(filename + '.mid', \"wb\") as f:\n",
    "    my_midi_file.writeFile(f) \n"
   ]
  },
  {
   "cell_type": "code",
   "execution_count": null,
   "metadata": {},
   "outputs": [],
   "source": []
  }
 ],
 "metadata": {
  "kernelspec": {
   "display_name": "Python 3",
   "language": "python",
   "name": "python3"
  },
  "language_info": {
   "codemirror_mode": {
    "name": "ipython",
    "version": 3
   },
   "file_extension": ".py",
   "mimetype": "text/x-python",
   "name": "python",
   "nbconvert_exporter": "python",
   "pygments_lexer": "ipython3",
   "version": "3.10.12"
  },
  "orig_nbformat": 4
 },
 "nbformat": 4,
 "nbformat_minor": 2
}
